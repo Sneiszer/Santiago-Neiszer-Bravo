{
  "cells": [
    {
      "cell_type": "markdown",
      "metadata": {
        "id": "_nMTOSDeZqaG"
      },
      "source": [
        "# **Estadística Multivariada.**\n",
        "# **Titular: Dr. Julio César Galindo López**\n",
        "## **Semestre 2024-I**\n",
        "## **Equipo Conformado por:**\n",
        "## Emmanuel Rivera López.\n",
        "## Santiago Neiszer Bravo.\n",
        "## Marcos Abel Cano Díaz."
      ]
    },
    {
      "cell_type": "markdown",
      "source": [
        "# **1-. Bibliotecas y Módulos.**"
      ],
      "metadata": {
        "id": "84bqrQThtdjp"
      }
    },
    {
      "cell_type": "code",
      "source": [
        "# A continuación, se declaran las bibliotecas y módulos a utilizar en este jpynb.\n",
        "import numpy as np\n",
        "import pandas as pd\n",
        "import matplotlib.pyplot as plt\n",
        "import seaborn as sns\n",
        "from scipy import stats"
      ],
      "metadata": {
        "id": "lMdwdcapegnu"
      },
      "execution_count": null,
      "outputs": []
    },
    {
      "cell_type": "markdown",
      "source": [
        "# **Problemas de Aplicación: Variable Aleatoria Normal $\\pmb{n-}$ dimensional y Reducción Dimensional mediante PCA.**"
      ],
      "metadata": {
        "id": "Ns9nOSX3f7ZV"
      }
    },
    {
      "cell_type": "markdown",
      "source": [
        "2-. Realiza un PCA realizando la descomposición espectral de la matriz de varianzas-covarianza de $X$. Calcula la varianza total.\n",
        "\n",
        "**Solución:** En primera instancia, se procederá a definir la matriz dentro del entorno Python para aplicar la definición del Análisis por Componentes Principales (PCA)."
      ],
      "metadata": {
        "id": "yHJ4GbTCbX3y"
      }
    },
    {
      "cell_type": "code",
      "source": [
        "# Definir la matriz X dada en el ejercicio 2 mediante el uso de la sentencia 'array' para introducir las entradas de la matriz;\n",
        "X = np.array([-1, 0, 1, 0, -1, 1]).reshape((2,3))\n",
        "X"
      ],
      "metadata": {
        "colab": {
          "base_uri": "https://localhost:8080/"
        },
        "id": "yoYv1ApFdE7z",
        "outputId": "6e9d0ddb-71e8-4b52-abeb-335c17605fa3"
      },
      "execution_count": null,
      "outputs": [
        {
          "output_type": "execute_result",
          "data": {
            "text/plain": [
              "array([[-1,  0,  1],\n",
              "       [ 0, -1,  1]])"
            ]
          },
          "metadata": {},
          "execution_count": 2
        }
      ]
    },
    {
      "cell_type": "markdown",
      "source": [
        "Para facilitar los cálculos correspondients al PCA (ya que en este caso se tiene una matriz arbitraria de datos), se procederá mediante la función que se definió en clase que realiza el cálculo completo. En este caso por definición, ya que la dimensión de la matriz es $3\\times 3$, se realizará un análisis para 2 componentes principales (recuerde el hecho de que $<<n$) dónde $n$ denota el grado del objeto (constructo) o conjunto de datos a analizar."
      ],
      "metadata": {
        "id": "x2fcivmW0Wq8"
      }
    },
    {
      "cell_type": "code",
      "source": [
        "def PCA(X , n_componentes):\n",
        "\n",
        "    X_media = X - np.mean(X , axis = 0)\n",
        "    # Calcular la matriz de Varianzas-Covarianzas.\n",
        "    cov_mat = np.cov(X_media , rowvar = False)\n",
        "    # Para demostrar que la matriz generada, se procederá a calcular eigenvalores y eigenvectores, para esto, se empleará la función 'eigh' de la sub-biblioteca\n",
        "    # 'linalgebra' para realizar el cálculo de ambos parámetros\n",
        "    eigen_val , eigen_vec = np.linalg.eigh(cov_mat)\n",
        "\n",
        "    sorted_index = np.argsort(eigen_val)[::-1]\n",
        "    sorted_eigenval = eigen_val[sorted_index]\n",
        "    sorted_eigenvec = eigen_vec[:,sorted_index]\n",
        "\n",
        "    eigenvector_ = sorted_eigenvec[:,0:n_componentes]\n",
        "\n",
        "    X_red = np.dot(eigenvector_.transpose() , X_media.transpose() ).transpose()\n",
        "    # Imprimir en consola tras la ejecución de la función\n",
        "    return X_red"
      ],
      "metadata": {
        "id": "E5woUVm0dkbT"
      },
      "execution_count": null,
      "outputs": []
    },
    {
      "cell_type": "code",
      "source": [
        "X_red= PCA(X, 2)\n",
        "print('El PCA para la matriz está dado cómo sigue:')\n",
        "X_red"
      ],
      "metadata": {
        "colab": {
          "base_uri": "https://localhost:8080/"
        },
        "id": "jJL4kA6b2ANu",
        "outputId": "d4f05e16-e729-4b2a-c37e-8c57cf72c9df"
      },
      "execution_count": null,
      "outputs": [
        {
          "output_type": "stream",
          "name": "stdout",
          "text": [
            "El PCA para la matriz está dado cómo sigue:\n"
          ]
        },
        {
          "output_type": "execute_result",
          "data": {
            "text/plain": [
              "array([[ 0.70710678,  0.        ],\n",
              "       [-0.70710678,  0.        ]])"
            ]
          },
          "metadata": {},
          "execution_count": 4
        }
      ]
    },
    {
      "cell_type": "code",
      "source": [
        "# Imprimir en consola dentro de un DataFrame, las componentes principales correspondientes al análisis de las matriz definida al principio.\n",
        "PCAEx2_df = pd.DataFrame(X_red, columns = ['PC1_MatrixEx2','PC2_MatrixEx2'])\n",
        "PCAEx2_df"
      ],
      "metadata": {
        "colab": {
          "base_uri": "https://localhost:8080/",
          "height": 125
        },
        "id": "bcyJn_SlawGN",
        "outputId": "110db26d-10cf-4a97-bc6a-45abed107428"
      },
      "execution_count": null,
      "outputs": [
        {
          "output_type": "execute_result",
          "data": {
            "text/plain": [
              "   PC1_MatrixEx2  PC2_MatrixEx2\n",
              "0       0.707107            0.0\n",
              "1      -0.707107            0.0"
            ],
            "text/html": [
              "\n",
              "  <div id=\"df-7212db25-0292-43ba-9685-9a0559f8cd17\" class=\"colab-df-container\">\n",
              "    <div>\n",
              "<style scoped>\n",
              "    .dataframe tbody tr th:only-of-type {\n",
              "        vertical-align: middle;\n",
              "    }\n",
              "\n",
              "    .dataframe tbody tr th {\n",
              "        vertical-align: top;\n",
              "    }\n",
              "\n",
              "    .dataframe thead th {\n",
              "        text-align: right;\n",
              "    }\n",
              "</style>\n",
              "<table border=\"1\" class=\"dataframe\">\n",
              "  <thead>\n",
              "    <tr style=\"text-align: right;\">\n",
              "      <th></th>\n",
              "      <th>PC1_MatrixEx2</th>\n",
              "      <th>PC2_MatrixEx2</th>\n",
              "    </tr>\n",
              "  </thead>\n",
              "  <tbody>\n",
              "    <tr>\n",
              "      <th>0</th>\n",
              "      <td>0.707107</td>\n",
              "      <td>0.0</td>\n",
              "    </tr>\n",
              "    <tr>\n",
              "      <th>1</th>\n",
              "      <td>-0.707107</td>\n",
              "      <td>0.0</td>\n",
              "    </tr>\n",
              "  </tbody>\n",
              "</table>\n",
              "</div>\n",
              "    <div class=\"colab-df-buttons\">\n",
              "\n",
              "  <div class=\"colab-df-container\">\n",
              "    <button class=\"colab-df-convert\" onclick=\"convertToInteractive('df-7212db25-0292-43ba-9685-9a0559f8cd17')\"\n",
              "            title=\"Convert this dataframe to an interactive table.\"\n",
              "            style=\"display:none;\">\n",
              "\n",
              "  <svg xmlns=\"http://www.w3.org/2000/svg\" height=\"24px\" viewBox=\"0 -960 960 960\">\n",
              "    <path d=\"M120-120v-720h720v720H120Zm60-500h600v-160H180v160Zm220 220h160v-160H400v160Zm0 220h160v-160H400v160ZM180-400h160v-160H180v160Zm440 0h160v-160H620v160ZM180-180h160v-160H180v160Zm440 0h160v-160H620v160Z\"/>\n",
              "  </svg>\n",
              "    </button>\n",
              "\n",
              "  <style>\n",
              "    .colab-df-container {\n",
              "      display:flex;\n",
              "      gap: 12px;\n",
              "    }\n",
              "\n",
              "    .colab-df-convert {\n",
              "      background-color: #E8F0FE;\n",
              "      border: none;\n",
              "      border-radius: 50%;\n",
              "      cursor: pointer;\n",
              "      display: none;\n",
              "      fill: #1967D2;\n",
              "      height: 32px;\n",
              "      padding: 0 0 0 0;\n",
              "      width: 32px;\n",
              "    }\n",
              "\n",
              "    .colab-df-convert:hover {\n",
              "      background-color: #E2EBFA;\n",
              "      box-shadow: 0px 1px 2px rgba(60, 64, 67, 0.3), 0px 1px 3px 1px rgba(60, 64, 67, 0.15);\n",
              "      fill: #174EA6;\n",
              "    }\n",
              "\n",
              "    .colab-df-buttons div {\n",
              "      margin-bottom: 4px;\n",
              "    }\n",
              "\n",
              "    [theme=dark] .colab-df-convert {\n",
              "      background-color: #3B4455;\n",
              "      fill: #D2E3FC;\n",
              "    }\n",
              "\n",
              "    [theme=dark] .colab-df-convert:hover {\n",
              "      background-color: #434B5C;\n",
              "      box-shadow: 0px 1px 3px 1px rgba(0, 0, 0, 0.15);\n",
              "      filter: drop-shadow(0px 1px 2px rgba(0, 0, 0, 0.3));\n",
              "      fill: #FFFFFF;\n",
              "    }\n",
              "  </style>\n",
              "\n",
              "    <script>\n",
              "      const buttonEl =\n",
              "        document.querySelector('#df-7212db25-0292-43ba-9685-9a0559f8cd17 button.colab-df-convert');\n",
              "      buttonEl.style.display =\n",
              "        google.colab.kernel.accessAllowed ? 'block' : 'none';\n",
              "\n",
              "      async function convertToInteractive(key) {\n",
              "        const element = document.querySelector('#df-7212db25-0292-43ba-9685-9a0559f8cd17');\n",
              "        const dataTable =\n",
              "          await google.colab.kernel.invokeFunction('convertToInteractive',\n",
              "                                                    [key], {});\n",
              "        if (!dataTable) return;\n",
              "\n",
              "        const docLinkHtml = 'Like what you see? Visit the ' +\n",
              "          '<a target=\"_blank\" href=https://colab.research.google.com/notebooks/data_table.ipynb>data table notebook</a>'\n",
              "          + ' to learn more about interactive tables.';\n",
              "        element.innerHTML = '';\n",
              "        dataTable['output_type'] = 'display_data';\n",
              "        await google.colab.output.renderOutput(dataTable, element);\n",
              "        const docLink = document.createElement('div');\n",
              "        docLink.innerHTML = docLinkHtml;\n",
              "        element.appendChild(docLink);\n",
              "      }\n",
              "    </script>\n",
              "  </div>\n",
              "\n",
              "\n",
              "<div id=\"df-900d05d0-3ce1-4cd5-b6e7-0fa643d694ca\">\n",
              "  <button class=\"colab-df-quickchart\" onclick=\"quickchart('df-900d05d0-3ce1-4cd5-b6e7-0fa643d694ca')\"\n",
              "            title=\"Suggest charts\"\n",
              "            style=\"display:none;\">\n",
              "\n",
              "<svg xmlns=\"http://www.w3.org/2000/svg\" height=\"24px\"viewBox=\"0 0 24 24\"\n",
              "     width=\"24px\">\n",
              "    <g>\n",
              "        <path d=\"M19 3H5c-1.1 0-2 .9-2 2v14c0 1.1.9 2 2 2h14c1.1 0 2-.9 2-2V5c0-1.1-.9-2-2-2zM9 17H7v-7h2v7zm4 0h-2V7h2v10zm4 0h-2v-4h2v4z\"/>\n",
              "    </g>\n",
              "</svg>\n",
              "  </button>\n",
              "\n",
              "<style>\n",
              "  .colab-df-quickchart {\n",
              "      --bg-color: #E8F0FE;\n",
              "      --fill-color: #1967D2;\n",
              "      --hover-bg-color: #E2EBFA;\n",
              "      --hover-fill-color: #174EA6;\n",
              "      --disabled-fill-color: #AAA;\n",
              "      --disabled-bg-color: #DDD;\n",
              "  }\n",
              "\n",
              "  [theme=dark] .colab-df-quickchart {\n",
              "      --bg-color: #3B4455;\n",
              "      --fill-color: #D2E3FC;\n",
              "      --hover-bg-color: #434B5C;\n",
              "      --hover-fill-color: #FFFFFF;\n",
              "      --disabled-bg-color: #3B4455;\n",
              "      --disabled-fill-color: #666;\n",
              "  }\n",
              "\n",
              "  .colab-df-quickchart {\n",
              "    background-color: var(--bg-color);\n",
              "    border: none;\n",
              "    border-radius: 50%;\n",
              "    cursor: pointer;\n",
              "    display: none;\n",
              "    fill: var(--fill-color);\n",
              "    height: 32px;\n",
              "    padding: 0;\n",
              "    width: 32px;\n",
              "  }\n",
              "\n",
              "  .colab-df-quickchart:hover {\n",
              "    background-color: var(--hover-bg-color);\n",
              "    box-shadow: 0 1px 2px rgba(60, 64, 67, 0.3), 0 1px 3px 1px rgba(60, 64, 67, 0.15);\n",
              "    fill: var(--button-hover-fill-color);\n",
              "  }\n",
              "\n",
              "  .colab-df-quickchart-complete:disabled,\n",
              "  .colab-df-quickchart-complete:disabled:hover {\n",
              "    background-color: var(--disabled-bg-color);\n",
              "    fill: var(--disabled-fill-color);\n",
              "    box-shadow: none;\n",
              "  }\n",
              "\n",
              "  .colab-df-spinner {\n",
              "    border: 2px solid var(--fill-color);\n",
              "    border-color: transparent;\n",
              "    border-bottom-color: var(--fill-color);\n",
              "    animation:\n",
              "      spin 1s steps(1) infinite;\n",
              "  }\n",
              "\n",
              "  @keyframes spin {\n",
              "    0% {\n",
              "      border-color: transparent;\n",
              "      border-bottom-color: var(--fill-color);\n",
              "      border-left-color: var(--fill-color);\n",
              "    }\n",
              "    20% {\n",
              "      border-color: transparent;\n",
              "      border-left-color: var(--fill-color);\n",
              "      border-top-color: var(--fill-color);\n",
              "    }\n",
              "    30% {\n",
              "      border-color: transparent;\n",
              "      border-left-color: var(--fill-color);\n",
              "      border-top-color: var(--fill-color);\n",
              "      border-right-color: var(--fill-color);\n",
              "    }\n",
              "    40% {\n",
              "      border-color: transparent;\n",
              "      border-right-color: var(--fill-color);\n",
              "      border-top-color: var(--fill-color);\n",
              "    }\n",
              "    60% {\n",
              "      border-color: transparent;\n",
              "      border-right-color: var(--fill-color);\n",
              "    }\n",
              "    80% {\n",
              "      border-color: transparent;\n",
              "      border-right-color: var(--fill-color);\n",
              "      border-bottom-color: var(--fill-color);\n",
              "    }\n",
              "    90% {\n",
              "      border-color: transparent;\n",
              "      border-bottom-color: var(--fill-color);\n",
              "    }\n",
              "  }\n",
              "</style>\n",
              "\n",
              "  <script>\n",
              "    async function quickchart(key) {\n",
              "      const quickchartButtonEl =\n",
              "        document.querySelector('#' + key + ' button');\n",
              "      quickchartButtonEl.disabled = true;  // To prevent multiple clicks.\n",
              "      quickchartButtonEl.classList.add('colab-df-spinner');\n",
              "      try {\n",
              "        const charts = await google.colab.kernel.invokeFunction(\n",
              "            'suggestCharts', [key], {});\n",
              "      } catch (error) {\n",
              "        console.error('Error during call to suggestCharts:', error);\n",
              "      }\n",
              "      quickchartButtonEl.classList.remove('colab-df-spinner');\n",
              "      quickchartButtonEl.classList.add('colab-df-quickchart-complete');\n",
              "    }\n",
              "    (() => {\n",
              "      let quickchartButtonEl =\n",
              "        document.querySelector('#df-900d05d0-3ce1-4cd5-b6e7-0fa643d694ca button');\n",
              "      quickchartButtonEl.style.display =\n",
              "        google.colab.kernel.accessAllowed ? 'block' : 'none';\n",
              "    })();\n",
              "  </script>\n",
              "</div>\n",
              "\n",
              "  <div id=\"id_d6840ce9-9f8c-4d6c-b97f-f14783bd30c1\">\n",
              "    <style>\n",
              "      .colab-df-generate {\n",
              "        background-color: #E8F0FE;\n",
              "        border: none;\n",
              "        border-radius: 50%;\n",
              "        cursor: pointer;\n",
              "        display: none;\n",
              "        fill: #1967D2;\n",
              "        height: 32px;\n",
              "        padding: 0 0 0 0;\n",
              "        width: 32px;\n",
              "      }\n",
              "\n",
              "      .colab-df-generate:hover {\n",
              "        background-color: #E2EBFA;\n",
              "        box-shadow: 0px 1px 2px rgba(60, 64, 67, 0.3), 0px 1px 3px 1px rgba(60, 64, 67, 0.15);\n",
              "        fill: #174EA6;\n",
              "      }\n",
              "\n",
              "      [theme=dark] .colab-df-generate {\n",
              "        background-color: #3B4455;\n",
              "        fill: #D2E3FC;\n",
              "      }\n",
              "\n",
              "      [theme=dark] .colab-df-generate:hover {\n",
              "        background-color: #434B5C;\n",
              "        box-shadow: 0px 1px 3px 1px rgba(0, 0, 0, 0.15);\n",
              "        filter: drop-shadow(0px 1px 2px rgba(0, 0, 0, 0.3));\n",
              "        fill: #FFFFFF;\n",
              "      }\n",
              "    </style>\n",
              "    <button class=\"colab-df-generate\" onclick=\"generateWithVariable('PCAEx2_df')\"\n",
              "            title=\"Generate code using this dataframe.\"\n",
              "            style=\"display:none;\">\n",
              "\n",
              "  <svg xmlns=\"http://www.w3.org/2000/svg\" height=\"24px\"viewBox=\"0 0 24 24\"\n",
              "       width=\"24px\">\n",
              "    <path d=\"M7,19H8.4L18.45,9,17,7.55,7,17.6ZM5,21V16.75L18.45,3.32a2,2,0,0,1,2.83,0l1.4,1.43a1.91,1.91,0,0,1,.58,1.4,1.91,1.91,0,0,1-.58,1.4L9.25,21ZM18.45,9,17,7.55Zm-12,3A5.31,5.31,0,0,0,4.9,8.1,5.31,5.31,0,0,0,1,6.5,5.31,5.31,0,0,0,4.9,4.9,5.31,5.31,0,0,0,6.5,1,5.31,5.31,0,0,0,8.1,4.9,5.31,5.31,0,0,0,12,6.5,5.46,5.46,0,0,0,6.5,12Z\"/>\n",
              "  </svg>\n",
              "    </button>\n",
              "    <script>\n",
              "      (() => {\n",
              "      const buttonEl =\n",
              "        document.querySelector('#id_d6840ce9-9f8c-4d6c-b97f-f14783bd30c1 button.colab-df-generate');\n",
              "      buttonEl.style.display =\n",
              "        google.colab.kernel.accessAllowed ? 'block' : 'none';\n",
              "\n",
              "      buttonEl.onclick = () => {\n",
              "        google.colab.notebook.generateWithVariable('PCAEx2_df');\n",
              "      }\n",
              "      })();\n",
              "    </script>\n",
              "  </div>\n",
              "\n",
              "    </div>\n",
              "  </div>\n"
            ],
            "application/vnd.google.colaboratory.intrinsic+json": {
              "type": "dataframe",
              "variable_name": "PCAEx2_df",
              "summary": "{\n  \"name\": \"PCAEx2_df\",\n  \"rows\": 2,\n  \"fields\": [\n    {\n      \"column\": \"PC1_MatrixEx2\",\n      \"properties\": {\n        \"dtype\": \"number\",\n        \"std\": 0.9999999999999999,\n        \"min\": -0.7071067811865475,\n        \"max\": 0.7071067811865475,\n        \"samples\": [\n          -0.7071067811865475,\n          0.7071067811865475\n        ],\n        \"num_unique_values\": 2,\n        \"semantic_type\": \"\",\n        \"description\": \"\"\n      }\n    },\n    {\n      \"column\": \"PC2_MatrixEx2\",\n      \"properties\": {\n        \"dtype\": \"number\",\n        \"std\": 0.0,\n        \"min\": 0.0,\n        \"max\": 0.0,\n        \"samples\": [\n          0.0\n        ],\n        \"num_unique_values\": 1,\n        \"semantic_type\": \"\",\n        \"description\": \"\"\n      }\n    }\n  ]\n}"
            }
          },
          "metadata": {},
          "execution_count": 6
        }
      ]
    },
    {
      "cell_type": "markdown",
      "source": [
        "Por lo tanto, las primeras dos componentes principales están definidas cómo sigue:\n",
        "$$\\begin{aligned}\n",
        "\\xi_{1} &= 0.70710678X_{11}+0X_{12}=0.70710678X_{11} \\\\\n",
        "\\xi_{2} &= -0.70710678X_{12}+0X_{22}=-0.70710678X_{12}\n",
        "\\end{aligned}$$\n",
        "\n",
        "De aquí para calcular la varianza total de las componentes principales, se procederá mediante el código visto en clase; dado esto, se tiene lo que sigue:"
      ],
      "metadata": {
        "id": "QVLQD4xM0xvy"
      }
    },
    {
      "cell_type": "code",
      "source": [
        "# Información total\n",
        "\n",
        "eigen_val_total = sum(eigen_val)\n",
        "varianza_explicada = [(i/ eigen_val_total )*100 for i in eigen_val ]\n",
        "varianza_explicada = np.round(varianza_explicada, 2)\n",
        "varianza_explicada_acumulada = np.cumsum(varianza_explicada)\n",
        "print(\"Varianza explicada: {}\".format(varianza_explicada))\n",
        "print(\"Varianza explicada acumulada: {}\".format(varianza_explicada_acumulada))"
      ],
      "metadata": {
        "id": "5-IC6_1Z1fJ5",
        "colab": {
          "base_uri": "https://localhost:8080/"
        },
        "outputId": "df1a58b4-955f-45b0-8721-45e56bdc67e9"
      },
      "execution_count": null,
      "outputs": [
        {
          "output_type": "stream",
          "name": "stdout",
          "text": [
            "Varianza explicada: [41.74 25.81 15.71 12.21  4.54]\n",
            "Varianza explicada acumulada: [ 41.74  67.55  83.26  95.47 100.01]\n"
          ]
        }
      ]
    },
    {
      "cell_type": "markdown",
      "source": [
        "3-. Considerando los datos de *wine.data.* Realice un PCA usando el código visto en clase **(sin sklearn)**. Recuerde preprocesar sus datos. Comenta tus resultados."
      ],
      "metadata": {
        "id": "Zreda1Oen4ot"
      }
    },
    {
      "cell_type": "code",
      "source": [
        "pip install ucimlrepo"
      ],
      "metadata": {
        "colab": {
          "base_uri": "https://localhost:8080/"
        },
        "id": "VCcPZ_-Xt-X2",
        "outputId": "9a537341-6db3-436f-ec67-221bc27de419"
      },
      "execution_count": null,
      "outputs": [
        {
          "output_type": "stream",
          "name": "stdout",
          "text": [
            "Requirement already satisfied: ucimlrepo in /usr/local/lib/python3.10/dist-packages (0.0.3)\n"
          ]
        }
      ]
    },
    {
      "cell_type": "code",
      "source": [
        "from ucimlrepo import fetch_ucirepo\n",
        "wine = fetch_ucirepo(id=109)\n",
        "# data (as pandas dataframes)\n",
        "X_wines = wine.data.features\n",
        "y_wines = wine.data.targets\n",
        "print(X_wines)"
      ],
      "metadata": {
        "colab": {
          "base_uri": "https://localhost:8080/"
        },
        "id": "-COFCe-IuONy",
        "outputId": "ff2da636-25b2-475e-f9f8-18987cb54c76"
      },
      "execution_count": null,
      "outputs": [
        {
          "output_type": "stream",
          "name": "stdout",
          "text": [
            "     Alcohol  Malicacid   Ash  Alcalinity_of_ash  Magnesium  Total_phenols  \\\n",
            "0      14.23       1.71  2.43               15.6        127           2.80   \n",
            "1      13.20       1.78  2.14               11.2        100           2.65   \n",
            "2      13.16       2.36  2.67               18.6        101           2.80   \n",
            "3      14.37       1.95  2.50               16.8        113           3.85   \n",
            "4      13.24       2.59  2.87               21.0        118           2.80   \n",
            "..       ...        ...   ...                ...        ...            ...   \n",
            "173    13.71       5.65  2.45               20.5         95           1.68   \n",
            "174    13.40       3.91  2.48               23.0        102           1.80   \n",
            "175    13.27       4.28  2.26               20.0        120           1.59   \n",
            "176    13.17       2.59  2.37               20.0        120           1.65   \n",
            "177    14.13       4.10  2.74               24.5         96           2.05   \n",
            "\n",
            "     Flavanoids  Nonflavanoid_phenols  Proanthocyanins  Color_intensity   Hue  \\\n",
            "0          3.06                  0.28             2.29             5.64  1.04   \n",
            "1          2.76                  0.26             1.28             4.38  1.05   \n",
            "2          3.24                  0.30             2.81             5.68  1.03   \n",
            "3          3.49                  0.24             2.18             7.80  0.86   \n",
            "4          2.69                  0.39             1.82             4.32  1.04   \n",
            "..          ...                   ...              ...              ...   ...   \n",
            "173        0.61                  0.52             1.06             7.70  0.64   \n",
            "174        0.75                  0.43             1.41             7.30  0.70   \n",
            "175        0.69                  0.43             1.35            10.20  0.59   \n",
            "176        0.68                  0.53             1.46             9.30  0.60   \n",
            "177        0.76                  0.56             1.35             9.20  0.61   \n",
            "\n",
            "     0D280_0D315_of_diluted_wines  Proline  \n",
            "0                            3.92     1065  \n",
            "1                            3.40     1050  \n",
            "2                            3.17     1185  \n",
            "3                            3.45     1480  \n",
            "4                            2.93      735  \n",
            "..                            ...      ...  \n",
            "173                          1.74      740  \n",
            "174                          1.56      750  \n",
            "175                          1.56      835  \n",
            "176                          1.62      840  \n",
            "177                          1.60      560  \n",
            "\n",
            "[178 rows x 13 columns]\n"
          ]
        }
      ]
    },
    {
      "cell_type": "code",
      "source": [
        "np.ndim(X_wines)"
      ],
      "metadata": {
        "colab": {
          "base_uri": "https://localhost:8080/"
        },
        "id": "6ozAQmchYoJ8",
        "outputId": "ed8cdaae-f40f-48d4-ff8c-d0deebba3d7a"
      },
      "execution_count": null,
      "outputs": [
        {
          "output_type": "execute_result",
          "data": {
            "text/plain": [
              "2"
            ]
          },
          "metadata": {},
          "execution_count": 52
        }
      ]
    },
    {
      "cell_type": "code",
      "source": [
        "np.array(np.mean(X_wines, axis = 0)) # Calcula la media por cada una de las columnas de la composición de los vinos."
      ],
      "metadata": {
        "colab": {
          "base_uri": "https://localhost:8080/"
        },
        "id": "vjDwYlEsWqf1",
        "outputId": "fb0e4c67-9d81-45ed-e79a-69bf196475a9"
      },
      "execution_count": null,
      "outputs": [
        {
          "output_type": "execute_result",
          "data": {
            "text/plain": [
              "array([1.30006180e+01, 2.33634831e+00, 2.36651685e+00, 1.94949438e+01,\n",
              "       9.97415730e+01, 2.29511236e+00, 2.02926966e+00, 3.61853933e-01,\n",
              "       1.59089888e+00, 5.05808988e+00, 9.57449438e-01, 2.61168539e+00,\n",
              "       7.46893258e+02])"
            ]
          },
          "metadata": {},
          "execution_count": 76
        }
      ]
    },
    {
      "cell_type": "code",
      "source": [
        "np.mean(y_wines, axis = 1) # Calcula la media por renglones y las muestra en un arreglo"
      ],
      "metadata": {
        "colab": {
          "base_uri": "https://localhost:8080/"
        },
        "id": "EjoCpqPwXgpG",
        "outputId": "dbef0958-b82e-4a1b-f5ad-deb4d3c67f7c"
      },
      "execution_count": null,
      "outputs": [
        {
          "output_type": "execute_result",
          "data": {
            "text/plain": [
              "0      1.0\n",
              "1      1.0\n",
              "2      1.0\n",
              "3      1.0\n",
              "4      1.0\n",
              "      ... \n",
              "173    3.0\n",
              "174    3.0\n",
              "175    3.0\n",
              "176    3.0\n",
              "177    3.0\n",
              "Length: 178, dtype: float64"
            ]
          },
          "metadata": {},
          "execution_count": 55
        }
      ]
    },
    {
      "cell_type": "code",
      "source": [
        "# Centramos a los datos\n",
        "Ywines_media = y_wines - np.mean(y_wines, axis = 0)\n",
        "Ywines_media"
      ],
      "metadata": {
        "colab": {
          "base_uri": "https://localhost:8080/",
          "height": 424
        },
        "id": "nQ-r7ef9lX5Y",
        "outputId": "dc1e37c1-879a-4fb6-ca28-861e6d499ad6"
      },
      "execution_count": null,
      "outputs": [
        {
          "output_type": "execute_result",
          "data": {
            "text/plain": [
              "        class\n",
              "0   -0.938202\n",
              "1   -0.938202\n",
              "2   -0.938202\n",
              "3   -0.938202\n",
              "4   -0.938202\n",
              "..        ...\n",
              "173  1.061798\n",
              "174  1.061798\n",
              "175  1.061798\n",
              "176  1.061798\n",
              "177  1.061798\n",
              "\n",
              "[178 rows x 1 columns]"
            ],
            "text/html": [
              "\n",
              "  <div id=\"df-56bad1b9-af0c-423a-9792-4db99db80509\" class=\"colab-df-container\">\n",
              "    <div>\n",
              "<style scoped>\n",
              "    .dataframe tbody tr th:only-of-type {\n",
              "        vertical-align: middle;\n",
              "    }\n",
              "\n",
              "    .dataframe tbody tr th {\n",
              "        vertical-align: top;\n",
              "    }\n",
              "\n",
              "    .dataframe thead th {\n",
              "        text-align: right;\n",
              "    }\n",
              "</style>\n",
              "<table border=\"1\" class=\"dataframe\">\n",
              "  <thead>\n",
              "    <tr style=\"text-align: right;\">\n",
              "      <th></th>\n",
              "      <th>class</th>\n",
              "    </tr>\n",
              "  </thead>\n",
              "  <tbody>\n",
              "    <tr>\n",
              "      <th>0</th>\n",
              "      <td>-0.938202</td>\n",
              "    </tr>\n",
              "    <tr>\n",
              "      <th>1</th>\n",
              "      <td>-0.938202</td>\n",
              "    </tr>\n",
              "    <tr>\n",
              "      <th>2</th>\n",
              "      <td>-0.938202</td>\n",
              "    </tr>\n",
              "    <tr>\n",
              "      <th>3</th>\n",
              "      <td>-0.938202</td>\n",
              "    </tr>\n",
              "    <tr>\n",
              "      <th>4</th>\n",
              "      <td>-0.938202</td>\n",
              "    </tr>\n",
              "    <tr>\n",
              "      <th>...</th>\n",
              "      <td>...</td>\n",
              "    </tr>\n",
              "    <tr>\n",
              "      <th>173</th>\n",
              "      <td>1.061798</td>\n",
              "    </tr>\n",
              "    <tr>\n",
              "      <th>174</th>\n",
              "      <td>1.061798</td>\n",
              "    </tr>\n",
              "    <tr>\n",
              "      <th>175</th>\n",
              "      <td>1.061798</td>\n",
              "    </tr>\n",
              "    <tr>\n",
              "      <th>176</th>\n",
              "      <td>1.061798</td>\n",
              "    </tr>\n",
              "    <tr>\n",
              "      <th>177</th>\n",
              "      <td>1.061798</td>\n",
              "    </tr>\n",
              "  </tbody>\n",
              "</table>\n",
              "<p>178 rows × 1 columns</p>\n",
              "</div>\n",
              "    <div class=\"colab-df-buttons\">\n",
              "\n",
              "  <div class=\"colab-df-container\">\n",
              "    <button class=\"colab-df-convert\" onclick=\"convertToInteractive('df-56bad1b9-af0c-423a-9792-4db99db80509')\"\n",
              "            title=\"Convert this dataframe to an interactive table.\"\n",
              "            style=\"display:none;\">\n",
              "\n",
              "  <svg xmlns=\"http://www.w3.org/2000/svg\" height=\"24px\" viewBox=\"0 -960 960 960\">\n",
              "    <path d=\"M120-120v-720h720v720H120Zm60-500h600v-160H180v160Zm220 220h160v-160H400v160Zm0 220h160v-160H400v160ZM180-400h160v-160H180v160Zm440 0h160v-160H620v160ZM180-180h160v-160H180v160Zm440 0h160v-160H620v160Z\"/>\n",
              "  </svg>\n",
              "    </button>\n",
              "\n",
              "  <style>\n",
              "    .colab-df-container {\n",
              "      display:flex;\n",
              "      gap: 12px;\n",
              "    }\n",
              "\n",
              "    .colab-df-convert {\n",
              "      background-color: #E8F0FE;\n",
              "      border: none;\n",
              "      border-radius: 50%;\n",
              "      cursor: pointer;\n",
              "      display: none;\n",
              "      fill: #1967D2;\n",
              "      height: 32px;\n",
              "      padding: 0 0 0 0;\n",
              "      width: 32px;\n",
              "    }\n",
              "\n",
              "    .colab-df-convert:hover {\n",
              "      background-color: #E2EBFA;\n",
              "      box-shadow: 0px 1px 2px rgba(60, 64, 67, 0.3), 0px 1px 3px 1px rgba(60, 64, 67, 0.15);\n",
              "      fill: #174EA6;\n",
              "    }\n",
              "\n",
              "    .colab-df-buttons div {\n",
              "      margin-bottom: 4px;\n",
              "    }\n",
              "\n",
              "    [theme=dark] .colab-df-convert {\n",
              "      background-color: #3B4455;\n",
              "      fill: #D2E3FC;\n",
              "    }\n",
              "\n",
              "    [theme=dark] .colab-df-convert:hover {\n",
              "      background-color: #434B5C;\n",
              "      box-shadow: 0px 1px 3px 1px rgba(0, 0, 0, 0.15);\n",
              "      filter: drop-shadow(0px 1px 2px rgba(0, 0, 0, 0.3));\n",
              "      fill: #FFFFFF;\n",
              "    }\n",
              "  </style>\n",
              "\n",
              "    <script>\n",
              "      const buttonEl =\n",
              "        document.querySelector('#df-56bad1b9-af0c-423a-9792-4db99db80509 button.colab-df-convert');\n",
              "      buttonEl.style.display =\n",
              "        google.colab.kernel.accessAllowed ? 'block' : 'none';\n",
              "\n",
              "      async function convertToInteractive(key) {\n",
              "        const element = document.querySelector('#df-56bad1b9-af0c-423a-9792-4db99db80509');\n",
              "        const dataTable =\n",
              "          await google.colab.kernel.invokeFunction('convertToInteractive',\n",
              "                                                    [key], {});\n",
              "        if (!dataTable) return;\n",
              "\n",
              "        const docLinkHtml = 'Like what you see? Visit the ' +\n",
              "          '<a target=\"_blank\" href=https://colab.research.google.com/notebooks/data_table.ipynb>data table notebook</a>'\n",
              "          + ' to learn more about interactive tables.';\n",
              "        element.innerHTML = '';\n",
              "        dataTable['output_type'] = 'display_data';\n",
              "        await google.colab.output.renderOutput(dataTable, element);\n",
              "        const docLink = document.createElement('div');\n",
              "        docLink.innerHTML = docLinkHtml;\n",
              "        element.appendChild(docLink);\n",
              "      }\n",
              "    </script>\n",
              "  </div>\n",
              "\n",
              "\n",
              "<div id=\"df-c2f8dbb5-66cd-4730-a39b-03ead7659cb3\">\n",
              "  <button class=\"colab-df-quickchart\" onclick=\"quickchart('df-c2f8dbb5-66cd-4730-a39b-03ead7659cb3')\"\n",
              "            title=\"Suggest charts\"\n",
              "            style=\"display:none;\">\n",
              "\n",
              "<svg xmlns=\"http://www.w3.org/2000/svg\" height=\"24px\"viewBox=\"0 0 24 24\"\n",
              "     width=\"24px\">\n",
              "    <g>\n",
              "        <path d=\"M19 3H5c-1.1 0-2 .9-2 2v14c0 1.1.9 2 2 2h14c1.1 0 2-.9 2-2V5c0-1.1-.9-2-2-2zM9 17H7v-7h2v7zm4 0h-2V7h2v10zm4 0h-2v-4h2v4z\"/>\n",
              "    </g>\n",
              "</svg>\n",
              "  </button>\n",
              "\n",
              "<style>\n",
              "  .colab-df-quickchart {\n",
              "      --bg-color: #E8F0FE;\n",
              "      --fill-color: #1967D2;\n",
              "      --hover-bg-color: #E2EBFA;\n",
              "      --hover-fill-color: #174EA6;\n",
              "      --disabled-fill-color: #AAA;\n",
              "      --disabled-bg-color: #DDD;\n",
              "  }\n",
              "\n",
              "  [theme=dark] .colab-df-quickchart {\n",
              "      --bg-color: #3B4455;\n",
              "      --fill-color: #D2E3FC;\n",
              "      --hover-bg-color: #434B5C;\n",
              "      --hover-fill-color: #FFFFFF;\n",
              "      --disabled-bg-color: #3B4455;\n",
              "      --disabled-fill-color: #666;\n",
              "  }\n",
              "\n",
              "  .colab-df-quickchart {\n",
              "    background-color: var(--bg-color);\n",
              "    border: none;\n",
              "    border-radius: 50%;\n",
              "    cursor: pointer;\n",
              "    display: none;\n",
              "    fill: var(--fill-color);\n",
              "    height: 32px;\n",
              "    padding: 0;\n",
              "    width: 32px;\n",
              "  }\n",
              "\n",
              "  .colab-df-quickchart:hover {\n",
              "    background-color: var(--hover-bg-color);\n",
              "    box-shadow: 0 1px 2px rgba(60, 64, 67, 0.3), 0 1px 3px 1px rgba(60, 64, 67, 0.15);\n",
              "    fill: var(--button-hover-fill-color);\n",
              "  }\n",
              "\n",
              "  .colab-df-quickchart-complete:disabled,\n",
              "  .colab-df-quickchart-complete:disabled:hover {\n",
              "    background-color: var(--disabled-bg-color);\n",
              "    fill: var(--disabled-fill-color);\n",
              "    box-shadow: none;\n",
              "  }\n",
              "\n",
              "  .colab-df-spinner {\n",
              "    border: 2px solid var(--fill-color);\n",
              "    border-color: transparent;\n",
              "    border-bottom-color: var(--fill-color);\n",
              "    animation:\n",
              "      spin 1s steps(1) infinite;\n",
              "  }\n",
              "\n",
              "  @keyframes spin {\n",
              "    0% {\n",
              "      border-color: transparent;\n",
              "      border-bottom-color: var(--fill-color);\n",
              "      border-left-color: var(--fill-color);\n",
              "    }\n",
              "    20% {\n",
              "      border-color: transparent;\n",
              "      border-left-color: var(--fill-color);\n",
              "      border-top-color: var(--fill-color);\n",
              "    }\n",
              "    30% {\n",
              "      border-color: transparent;\n",
              "      border-left-color: var(--fill-color);\n",
              "      border-top-color: var(--fill-color);\n",
              "      border-right-color: var(--fill-color);\n",
              "    }\n",
              "    40% {\n",
              "      border-color: transparent;\n",
              "      border-right-color: var(--fill-color);\n",
              "      border-top-color: var(--fill-color);\n",
              "    }\n",
              "    60% {\n",
              "      border-color: transparent;\n",
              "      border-right-color: var(--fill-color);\n",
              "    }\n",
              "    80% {\n",
              "      border-color: transparent;\n",
              "      border-right-color: var(--fill-color);\n",
              "      border-bottom-color: var(--fill-color);\n",
              "    }\n",
              "    90% {\n",
              "      border-color: transparent;\n",
              "      border-bottom-color: var(--fill-color);\n",
              "    }\n",
              "  }\n",
              "</style>\n",
              "\n",
              "  <script>\n",
              "    async function quickchart(key) {\n",
              "      const quickchartButtonEl =\n",
              "        document.querySelector('#' + key + ' button');\n",
              "      quickchartButtonEl.disabled = true;  // To prevent multiple clicks.\n",
              "      quickchartButtonEl.classList.add('colab-df-spinner');\n",
              "      try {\n",
              "        const charts = await google.colab.kernel.invokeFunction(\n",
              "            'suggestCharts', [key], {});\n",
              "      } catch (error) {\n",
              "        console.error('Error during call to suggestCharts:', error);\n",
              "      }\n",
              "      quickchartButtonEl.classList.remove('colab-df-spinner');\n",
              "      quickchartButtonEl.classList.add('colab-df-quickchart-complete');\n",
              "    }\n",
              "    (() => {\n",
              "      let quickchartButtonEl =\n",
              "        document.querySelector('#df-c2f8dbb5-66cd-4730-a39b-03ead7659cb3 button');\n",
              "      quickchartButtonEl.style.display =\n",
              "        google.colab.kernel.accessAllowed ? 'block' : 'none';\n",
              "    })();\n",
              "  </script>\n",
              "</div>\n",
              "\n",
              "  <div id=\"id_2cf809a7-4d72-4480-85a0-76b0c6719c30\">\n",
              "    <style>\n",
              "      .colab-df-generate {\n",
              "        background-color: #E8F0FE;\n",
              "        border: none;\n",
              "        border-radius: 50%;\n",
              "        cursor: pointer;\n",
              "        display: none;\n",
              "        fill: #1967D2;\n",
              "        height: 32px;\n",
              "        padding: 0 0 0 0;\n",
              "        width: 32px;\n",
              "      }\n",
              "\n",
              "      .colab-df-generate:hover {\n",
              "        background-color: #E2EBFA;\n",
              "        box-shadow: 0px 1px 2px rgba(60, 64, 67, 0.3), 0px 1px 3px 1px rgba(60, 64, 67, 0.15);\n",
              "        fill: #174EA6;\n",
              "      }\n",
              "\n",
              "      [theme=dark] .colab-df-generate {\n",
              "        background-color: #3B4455;\n",
              "        fill: #D2E3FC;\n",
              "      }\n",
              "\n",
              "      [theme=dark] .colab-df-generate:hover {\n",
              "        background-color: #434B5C;\n",
              "        box-shadow: 0px 1px 3px 1px rgba(0, 0, 0, 0.15);\n",
              "        filter: drop-shadow(0px 1px 2px rgba(0, 0, 0, 0.3));\n",
              "        fill: #FFFFFF;\n",
              "      }\n",
              "    </style>\n",
              "    <button class=\"colab-df-generate\" onclick=\"generateWithVariable('Ywines_media')\"\n",
              "            title=\"Generate code using this dataframe.\"\n",
              "            style=\"display:none;\">\n",
              "\n",
              "  <svg xmlns=\"http://www.w3.org/2000/svg\" height=\"24px\"viewBox=\"0 0 24 24\"\n",
              "       width=\"24px\">\n",
              "    <path d=\"M7,19H8.4L18.45,9,17,7.55,7,17.6ZM5,21V16.75L18.45,3.32a2,2,0,0,1,2.83,0l1.4,1.43a1.91,1.91,0,0,1,.58,1.4,1.91,1.91,0,0,1-.58,1.4L9.25,21ZM18.45,9,17,7.55Zm-12,3A5.31,5.31,0,0,0,4.9,8.1,5.31,5.31,0,0,0,1,6.5,5.31,5.31,0,0,0,4.9,4.9,5.31,5.31,0,0,0,6.5,1,5.31,5.31,0,0,0,8.1,4.9,5.31,5.31,0,0,0,12,6.5,5.46,5.46,0,0,0,6.5,12Z\"/>\n",
              "  </svg>\n",
              "    </button>\n",
              "    <script>\n",
              "      (() => {\n",
              "      const buttonEl =\n",
              "        document.querySelector('#id_2cf809a7-4d72-4480-85a0-76b0c6719c30 button.colab-df-generate');\n",
              "      buttonEl.style.display =\n",
              "        google.colab.kernel.accessAllowed ? 'block' : 'none';\n",
              "\n",
              "      buttonEl.onclick = () => {\n",
              "        google.colab.notebook.generateWithVariable('Ywines_media');\n",
              "      }\n",
              "      })();\n",
              "    </script>\n",
              "  </div>\n",
              "\n",
              "    </div>\n",
              "  </div>\n"
            ],
            "application/vnd.google.colaboratory.intrinsic+json": {
              "type": "dataframe",
              "variable_name": "Ywines_media",
              "summary": "{\n  \"name\": \"Ywines_media\",\n  \"rows\": 178,\n  \"fields\": [\n    {\n      \"column\": \"class\",\n      \"properties\": {\n        \"dtype\": \"number\",\n        \"std\": 0.7750349899850564,\n        \"min\": -0.9382022471910112,\n        \"max\": 1.0617977528089888,\n        \"samples\": [\n          -0.9382022471910112,\n          0.061797752808988804,\n          1.0617977528089888\n        ],\n        \"num_unique_values\": 3,\n        \"semantic_type\": \"\",\n        \"description\": \"\"\n      }\n    }\n  ]\n}"
            }
          },
          "metadata": {},
          "execution_count": 56
        }
      ]
    },
    {
      "cell_type": "code",
      "source": [
        "# Crear la matriz de varianza-covarianzas mediante la sentencia 'cov', a partir de la matriz ajustada Y_media\n",
        "VarCov_wines = np.cov(Ywines_media, rowvar = False)\n",
        "# Imprimir la matriz de varianzas-covarianzas.\n",
        "print(VarCov_wines)"
      ],
      "metadata": {
        "colab": {
          "base_uri": "https://localhost:8080/"
        },
        "id": "h_ech3wMpya3",
        "outputId": "0c1fdc46-0837-437b-b4aa-526cbd53eb3d"
      },
      "execution_count": null,
      "outputs": [
        {
          "output_type": "stream",
          "name": "stdout",
          "text": [
            "0.6006792357011365\n"
          ]
        }
      ]
    },
    {
      "cell_type": "code",
      "source": [],
      "metadata": {
        "id": "IWeQ6xToqJeE"
      },
      "execution_count": null,
      "outputs": []
    },
    {
      "cell_type": "markdown",
      "source": [
        "## **Comprobación Mediante el uso de la Biblioteca scikit-learn**\n",
        "Realizando el mismo procedimiento para 3 componentes principales, se tiene que el PCA realizado a través sklearn está dado cómo sigue:"
      ],
      "metadata": {
        "id": "sCkZe5ZIMluG"
      }
    },
    {
      "cell_type": "code",
      "source": [
        "from sklearn.decomposition import PCA\n",
        "from sklearn.preprocessing import StandardScaler\n",
        "X_stdwines = StandardScaler().fit_transform(X_wines)\n",
        "print(X_stdwines)"
      ],
      "metadata": {
        "colab": {
          "base_uri": "https://localhost:8080/"
        },
        "id": "SQPqcO9oNdcg",
        "outputId": "c2b0ba4e-dd91-423e-a3b9-9aaafec75c35"
      },
      "execution_count": null,
      "outputs": [
        {
          "output_type": "stream",
          "name": "stdout",
          "text": [
            "[[ 1.51861254 -0.5622498   0.23205254 ...  0.36217728  1.84791957\n",
            "   1.01300893]\n",
            " [ 0.24628963 -0.49941338 -0.82799632 ...  0.40605066  1.1134493\n",
            "   0.96524152]\n",
            " [ 0.19687903  0.02123125  1.10933436 ...  0.31830389  0.78858745\n",
            "   1.39514818]\n",
            " ...\n",
            " [ 0.33275817  1.74474449 -0.38935541 ... -1.61212515 -1.48544548\n",
            "   0.28057537]\n",
            " [ 0.20923168  0.22769377  0.01273209 ... -1.56825176 -1.40069891\n",
            "   0.29649784]\n",
            " [ 1.39508604  1.58316512  1.36520822 ... -1.52437837 -1.42894777\n",
            "  -0.59516041]]\n"
          ]
        }
      ]
    },
    {
      "cell_type": "markdown",
      "source": [
        "4-. **(PCA Números Pseudoaleatorios Generados por una v.a. normal multidimendional)** Genere una muestra aleatoria de tamano 100 apartir de una distribución gaussiana 3 dimensional en donde una de las variables tiene más alta varianza que las otras. Realiza unPCA.En cada caso,encuentre los eigen valores y eigenvectores ydibuja la gráfica scree\n",
        "\n",
        "**Solución:** Por definición, la matriz de varianzas-covarianzas de una v.a. normal $n-$dimensional es positiva definida; i.e., se tiene que las entradas de la matriz $a_{ij}$ son positivas para satisfacer la definición. Dado esto, se construirá una distribución normal 3-dimensional bajo un esquema clásico de Teoría de la Probabilidad en Variedades:\n",
        "\n",
        "Considere que $X_{1},X_{2},X_{3}$ cómo v.a. absolutamente continuas i.i.d. tales que siguen una distribución normal estándar, es decir, $\\mathcal{N}\\sim (0,1)$, además defínase un nuevo conjunto de v.a. dadas por $U=X+3Y, V=3X+7Z \\textrm{ y } Z=8Y+6Z$. De aquí, de procederá a construir la v.a. 3-dimensional considerando a las variables $U,V,Z$. Dado esto, se procederá a construir el vector de medias y la matriz de varianzas-covarianzas de la v.a. Aplicando la definición del valor esperado y la varianza (así como recordando sus propiedades, respectivamente), se tiene lo que sigue:\n",
        "\n",
        "$\\begin{aligned}\n",
        "\\mathbb{E}[X+3Y] &=\\mathbb{E}[X]+\\mathbb{E}[3Y]=0 \\\\\n",
        "\\textrm{Var}[X+3Y] &=\\textrm{Var}[X]+\\textrm{Var}[3Y]=\\textrm{Var}[X]+9\\textrm{Var}[Y] \\\\\n",
        "&=1+9=10 \\\\\n",
        "\\mathbb{E}[3X+7Z] &=\\mathbb{E}[3X]+\\mathbb{E}[7Z]=3\\mathbb{E}[X]+7\\mathbb{E}[Z]=0 \\\\\n",
        "\\textrm{Var}[3X+7Z] &=\\textrm{Var}[3X]+\\textrm{Var}[7Z]=9\\textrm{Var}[X]+49\\textrm{Var}[Y] \\\\\n",
        "&=9(1)+49(1)=58\n",
        "\\end{aligned}$\n",
        "\n",
        "$\\begin{aligned}\n",
        "\\mathbb{E}[8Y+6Z] &=\\mathbb{E}[8Y]+\\mathbb{E}[6Z]=8\\mathbb{E}[Y]+6\\mathbb{E}[Z]=0 \\\\\n",
        "\\textrm{Var}[8Y+6Z] &=\\textrm{Var}[8Y]+\\textrm{Var}[6Z]=64\\textrm{Var}[Y]+36\\textrm{Var}[Y] \\\\\n",
        "&=64(1)+36(1)=100\n",
        "\\end{aligned}$\n",
        "\n",
        "De aquí, aplicando la definición del operador de covarianza y sus propiedades, se tiene que las covarianzas están dadas cómo sigue:\n",
        "\n",
        "$\\begin{aligned}\n",
        "\\textrm{Cov}[U,V] &=\\textrm{Cov}[X+3Y,3X+7Z]=\\textrm{Cov}[X,3X]+\\textrm{Cov}[X,7Z]+\\textrm{Cov}[3Y,3X]+\\textrm{Cov}[3Y,7Z] \\\\\n",
        "&=\\textrm{Cov}[X,3X]=3\\textrm{Cov}[X,X]=3\\textrm{Var}[X]=3 \\\\\n",
        "\\textrm{Cov}[U,Z] &=\\textrm{Cov}[X+3Y,8Y+6Z]=\\textrm{Cov}[X,8Y]+\\textrm{Cov}[X,6Z]+\\textrm{Cov}[3Y,8Y]+\\textrm{Cov}[3Y,6Z] \\\\\n",
        "&=\\textrm{Cov}[3Y,8Y]=(3)(8)\\textrm{Cov}[Y,Y]=24\\textrm{Var}[Y]=24 \\\\\n",
        "\\textrm{Cov}[V,Z] &=\\textrm{Cov}[3X+7Z,8Y+6Z]=\\textrm{Cov}[3X,8Y]+\\textrm{Cov}[3X,6Z]+\\textrm{Cov}[7Z,8Y]+\\textrm{Cov}[7Z,6Z] \\\\\n",
        "&=\\textrm{Cov}[7Z,6Z]=(7)(6)\\textrm{Cov}[Z,Z]=42\\textrm{Var}[Z]=42 \\\\\n",
        "\\end{aligned}$\n",
        "\n",
        "Y por hipótesis, ya que $X_{1},X_{2} \\textrm{ y } X_{3}$ son independientes, entonces las combinaciones lineales de $(U,V,Z)$ son v.a normales independientes también. Así, se tiene que la distribución conjunta tiene:\n",
        "$$f_{U,V,Z}(u,v,z)\\sim \\mathbb{N}_{3}\\left(\\begin{bmatrix} 0 \\\\ 0 \\\\ 0 \\end{bmatrix}, \\begin{bmatrix} 10 & 3 & 24 \\\\ 3 & 58 & 42 \\\\ 24 & 42 & 100 \\end{bmatrix}\\right)$$"
      ],
      "metadata": {
        "id": "JnBVfLFuNCZM"
      }
    },
    {
      "cell_type": "code",
      "execution_count": null,
      "metadata": {
        "id": "zYdET2QTmF2I",
        "colab": {
          "base_uri": "https://localhost:8080/"
        },
        "outputId": "427dd33d-261b-4d83-f418-e80d779e7ca9"
      },
      "outputs": [
        {
          "output_type": "execute_result",
          "data": {
            "text/plain": [
              "array([[  2.09138996,  -4.07000532,  -4.07930994],\n",
              "       [ 10.01958223,   9.52095839,  30.71543274],\n",
              "       [ -5.6324472 ,  -5.43730224, -16.86997186],\n",
              "       [  2.88521404,  -7.67365545,  13.93221349],\n",
              "       [  7.50455124,  -0.64361286,  16.1553674 ],\n",
              "       [ -3.37095026,  12.45355865,  -3.67174598],\n",
              "       [  0.39146224,   5.07886146,  16.31049104],\n",
              "       [  4.9508139 ,   0.49717762,   9.40269438],\n",
              "       [ -0.79955075,   1.94790954,  -7.17671157],\n",
              "       [  2.89294179,   2.71927129,  13.80487752],\n",
              "       [  3.37150304,   2.28592285,  10.76275433],\n",
              "       [ -5.05972964,   2.41219025,  -0.412072  ],\n",
              "       [ -3.75123433,  -8.92753589, -16.04821996],\n",
              "       [ -5.48238817, -10.25433892, -21.97511621],\n",
              "       [ -3.18220312,  -7.75632   , -17.14257694],\n",
              "       [ -3.39401821,  -4.62413298, -12.96114351],\n",
              "       [ -0.18052445,   2.47982753,   0.75253608],\n",
              "       [ -2.40279739,  -5.80451701, -11.90114492],\n",
              "       [ -5.43323479,  -1.93264511, -14.2733467 ],\n",
              "       [  1.03315206,  -0.56251617,   1.77975944],\n",
              "       [ -0.52342701,  16.40679152,   9.47185174],\n",
              "       [ -4.89590034,  -2.39243643, -13.01702575],\n",
              "       [  1.45818462,  -7.53708828,  -4.14674108],\n",
              "       [ -4.99733066,   0.74537   ,  -7.71301133],\n",
              "       [  1.32410857,  -4.76994869,  10.50871859],\n",
              "       [ -0.10998187, -14.09267564,  -6.2929959 ],\n",
              "       [  0.98577403,   2.95010833,   7.5452732 ],\n",
              "       [ -4.33015074,   4.28391053, -11.26276163],\n",
              "       [ -1.34580891,   2.87188492,   2.07089445],\n",
              "       [ -4.02186178,  -4.85473679, -13.42952398],\n",
              "       [  0.52447964,   5.26768124,   7.83903751],\n",
              "       [ -0.36982491,  -2.48331621,  -4.64117197],\n",
              "       [  2.05618093,   1.37824318,   7.49448765],\n",
              "       [  6.35209444,  13.82422412,  19.59920249],\n",
              "       [ -2.45305223,  -8.07306467,  -6.21174741],\n",
              "       [  2.305898  ,  -0.58142514,   3.63484154],\n",
              "       [ -3.12914644, -15.64156908, -14.16668539],\n",
              "       [  3.26607906,   3.53302823,   6.37849894],\n",
              "       [ -0.7535639 ,   5.27735242,   7.5871126 ],\n",
              "       [ -0.67367596,  -0.39117489,  -3.81229736],\n",
              "       [  1.02399872,  -2.51970159,   4.27605627],\n",
              "       [ -1.79354609,   5.26131103,  11.26256984],\n",
              "       [  1.10751134,  15.91655453,  18.78008195],\n",
              "       [ -4.84842865,  -6.6400629 , -17.14327719],\n",
              "       [ -2.21355775,   7.97423961,   1.98048552],\n",
              "       [ -2.35581513, -15.98579985,  -7.33859754],\n",
              "       [  0.72028062,   0.28767682,  -3.05526051],\n",
              "       [ -2.20954569,  -3.4233579 , -16.16381251],\n",
              "       [  2.69572574,  -1.00080422,  12.51881165],\n",
              "       [ -2.17394316,   0.99601323,   1.72653552],\n",
              "       [  2.39662235,  -2.40236685,   7.4017545 ],\n",
              "       [  2.30395635,  -1.30075213,   0.96947359],\n",
              "       [ -4.89848125,   6.77415694,  -7.87669994],\n",
              "       [ -1.4127819 , -12.02960019, -13.79400502],\n",
              "       [  2.23832467,  -1.19833022,   0.76132886],\n",
              "       [  5.20635234,  13.84133568,  24.85112555],\n",
              "       [ -0.09384635, -11.21934326,  -3.10560681],\n",
              "       [ -0.15805489,   9.0511379 ,  13.68852245],\n",
              "       [  0.51503312,   1.36401897,  -1.08491104],\n",
              "       [  2.46696623,   5.90894413,   5.73755685],\n",
              "       [  7.47748874,  -9.40540074,  17.80537099],\n",
              "       [ -0.99229909,  -2.04645325,   5.94674627],\n",
              "       [  6.55342494,   2.02893396,  13.95680082],\n",
              "       [ -1.34268806,  12.34453969,  14.72450886],\n",
              "       [  2.25402161,   7.83988278,  10.18680406],\n",
              "       [  1.82110382,  -6.46496649,  -3.54694416],\n",
              "       [ -3.52203116,  -5.11245472, -10.77634086],\n",
              "       [ -0.90608974,   1.04849234,   6.4979013 ],\n",
              "       [  3.85762954,  -4.12948136,  10.07544816],\n",
              "       [  2.63305718,   0.69387855,  -1.14209235],\n",
              "       [ -2.36737134,   5.38359109,  -9.57108781],\n",
              "       [ -5.83406274,   1.28447443,  -9.03192324],\n",
              "       [ -0.49199567,  -0.39864842,   0.14109056],\n",
              "       [ -0.65315476,   8.47417705,   4.73506728],\n",
              "       [  2.4459432 ,  -1.03937878,  12.74779522],\n",
              "       [  4.8611767 , -15.52947107,   7.01398823],\n",
              "       [  3.23123319,   4.34097262,  12.23245373],\n",
              "       [  0.61736839,   2.03528368,   5.8006024 ],\n",
              "       [ -0.26305789,  10.07672301,   2.94095457],\n",
              "       [  2.88402402,   0.96794876,  11.65170204],\n",
              "       [  1.14433882,   4.72356013,   9.21141778],\n",
              "       [ -5.18700594,   0.53386789, -19.52449935],\n",
              "       [ -4.67546924, -17.61658796, -22.49045477],\n",
              "       [ -2.57523706,  -5.00647488, -12.05061399],\n",
              "       [  1.45967226,   2.88705117,   7.58762704],\n",
              "       [ -4.0929072 ,   6.2125007 , -15.42497501],\n",
              "       [ -0.62967743,  -3.45333789,  -5.64099579],\n",
              "       [ -1.76387678,   9.58553312,  -2.42906481],\n",
              "       [  0.03621483,  -7.66037035,  -2.22044617],\n",
              "       [ -4.7128772 ,  -0.88516496,  -8.60705809],\n",
              "       [ -3.53317221,  -0.33674127,   2.72922365],\n",
              "       [  2.86479052, -17.60376984,   0.98926528],\n",
              "       [  6.04933265,  -1.04952589,   6.16709948],\n",
              "       [  0.91838206,  -4.16955489,  -1.51540423],\n",
              "       [ -0.4625018 ,  12.1169875 ,   9.10637295],\n",
              "       [  2.19883551,  -5.39818835,  -7.6819976 ],\n",
              "       [ -1.32605665,   4.95727997,  -8.60056106],\n",
              "       [ -1.53760777,  10.83231809,   4.36338541],\n",
              "       [ -3.06324733,   0.12267285,  -7.2216745 ],\n",
              "       [  2.082285  ,  -7.86993154,   0.16872661]])"
            ]
          },
          "metadata": {},
          "execution_count": 7
        }
      ],
      "source": [
        "# Si usted quiere verificar los resultados de PCA con una semilla preestablecida para generar los números pseudoaleatorios a partir de la definición de la v.a.\n",
        "# normal 3-dimensional y comparar sus resultados con el análisis hecho mediante la biblioteca 'sci.kit-learn', quite el comentario de la siguiente línea de código.\n",
        "# np.random.seed(0)\n",
        "MN_3CovVar = np.array([[10, 3, 24], [3, 58, 42], [24, 42, 100]])\n",
        "norm_sample = np.random.multivariate_normal([0, 0, 0], MN_3CovVar, size=100)\n",
        "norm_sample"
      ]
    },
    {
      "cell_type": "code",
      "source": [
        "np.mean(norm_sample, axis = 0) # Calcula la media por columnas y mostrarlas en un arreglo"
      ],
      "metadata": {
        "colab": {
          "base_uri": "https://localhost:8080/"
        },
        "id": "z_k99upViFAS",
        "outputId": "1624d07b-54bf-48be-d533-6b4210bf06a3"
      },
      "execution_count": null,
      "outputs": [
        {
          "output_type": "execute_result",
          "data": {
            "text/plain": [
              "array([-0.08904687, -0.19599709,  0.48237075])"
            ]
          },
          "metadata": {},
          "execution_count": 9
        }
      ]
    },
    {
      "cell_type": "code",
      "source": [
        "np.mean(norm_sample, axis = 1) # Calcula la media por renglones y las muestra en un arreglo"
      ],
      "metadata": {
        "colab": {
          "base_uri": "https://localhost:8080/"
        },
        "id": "27-ca4GLiLY3",
        "outputId": "fa63b616-0a41-4c1e-9062-e5047172e0ef"
      },
      "execution_count": null,
      "outputs": [
        {
          "output_type": "execute_result",
          "data": {
            "text/plain": [
              "array([ -2.01930843,  16.75199112,  -9.31324043,   3.04792403,\n",
              "         7.67210193,   1.8036208 ,   7.26027158,   4.95022863,\n",
              "        -2.00945093,   6.47236353,   5.4733934 ,  -1.01987046,\n",
              "        -9.5756634 , -12.57061443,  -9.36036668,  -6.99309823,\n",
              "         1.01727972,  -6.70281977,  -7.21307554,   0.75013178,\n",
              "         8.45173875,  -6.76845417,  -3.40854825,  -3.988324  ,\n",
              "         2.35429282,  -6.83188447,   3.82705185,  -3.76966728,\n",
              "         1.19899015,  -7.43537418,   4.5437328 ,  -2.49810436,\n",
              "         3.64297059,  13.25850701,  -5.5792881 ,   1.78643813,\n",
              "       -10.97913364,   4.39253541,   4.03696704,  -1.62571607,\n",
              "         0.92678447,   4.91011159,  11.93471594,  -9.54392292,\n",
              "         2.58038913,  -8.56007084,  -0.68243436,  -7.26557203,\n",
              "         4.73791106,   0.18286853,   2.46533666,   0.65755927,\n",
              "        -2.00034142,  -9.07879571,   0.6004411 ,  14.63293786,\n",
              "        -4.80626547,   7.52720182,   0.26471368,   4.70448907,\n",
              "         5.29248633,   0.96933131,   7.51305324,   8.5754535 ,\n",
              "         6.76023615,  -2.73026894,  -6.47027558,   2.21343463,\n",
              "         3.26786545,   0.72828112,  -2.18495602,  -4.52717052,\n",
              "        -0.24985118,   4.18536319,   4.71811988,  -1.21810205,\n",
              "         6.60155318,   2.81775149,   4.2515399 ,   5.1678916 ,\n",
              "         5.02643891,  -8.05921247, -14.92750399,  -6.54410864,\n",
              "         3.97811682,  -4.43512717,  -3.24133704,   1.79753051,\n",
              "        -3.28153389,  -4.73503342,  -0.38022994,  -4.58323801,\n",
              "         3.72230208,  -1.58885902,   6.92028622,  -3.62711682,\n",
              "        -1.65644592,   4.55269857,  -3.38741633,  -1.87297331])"
            ]
          },
          "metadata": {},
          "execution_count": 10
        }
      ]
    },
    {
      "cell_type": "code",
      "source": [
        "# Centramos a los datos\n",
        "MNcentered_sample = norm_sample - np.mean(norm_sample, axis = 0)\n",
        "print(MNcentered_sample)"
      ],
      "metadata": {
        "colab": {
          "base_uri": "https://localhost:8080/"
        },
        "id": "v-WY_vG7iK7_",
        "outputId": "02563656-c1f2-4ad0-a78d-cd64be252440"
      },
      "execution_count": null,
      "outputs": [
        {
          "output_type": "stream",
          "name": "stdout",
          "text": [
            "[[ 2.18043683e+00 -3.87400823e+00 -4.56168068e+00]\n",
            " [ 1.01086291e+01  9.71695548e+00  3.02330620e+01]\n",
            " [-5.54340033e+00 -5.24130515e+00 -1.73523426e+01]\n",
            " [ 2.97426091e+00 -7.47765836e+00  1.34498427e+01]\n",
            " [ 7.59359811e+00 -4.47615767e-01  1.56729967e+01]\n",
            " [-3.28190340e+00  1.26495557e+01 -4.15411672e+00]\n",
            " [ 4.80509111e-01  5.27485855e+00  1.58281203e+01]\n",
            " [ 5.03986077e+00  6.93174711e-01  8.92032363e+00]\n",
            " [-7.10503886e-01  2.14390664e+00 -7.65908232e+00]\n",
            " [ 2.98198866e+00  2.91526838e+00  1.33225068e+01]\n",
            " [ 3.46054990e+00  2.48191994e+00  1.02803836e+01]\n",
            " [-4.97068277e+00  2.60818734e+00 -8.94442747e-01]\n",
            " [-3.66218747e+00 -8.73153880e+00 -1.65305907e+01]\n",
            " [-5.39334130e+00 -1.00583418e+01 -2.24574870e+01]\n",
            " [-3.09315625e+00 -7.56032291e+00 -1.76249477e+01]\n",
            " [-3.30497134e+00 -4.42813588e+00 -1.34435143e+01]\n",
            " [-9.14775786e-02  2.67582462e+00  2.70165330e-01]\n",
            " [-2.31375052e+00 -5.60851992e+00 -1.23835157e+01]\n",
            " [-5.34418792e+00 -1.73664802e+00 -1.47557174e+01]\n",
            " [ 1.12219893e+00 -3.66519073e-01  1.29738869e+00]\n",
            " [-4.34380145e-01  1.66027886e+01  8.98948100e+00]\n",
            " [-4.80685348e+00 -2.19643933e+00 -1.34993965e+01]\n",
            " [ 1.54723148e+00 -7.34109119e+00 -4.62911182e+00]\n",
            " [-4.90828380e+00  9.41367097e-01 -8.19538208e+00]\n",
            " [ 1.41315544e+00 -4.57395160e+00  1.00263478e+01]\n",
            " [-2.09349974e-02 -1.38966785e+01 -6.77536664e+00]\n",
            " [ 1.07482089e+00  3.14610542e+00  7.06290245e+00]\n",
            " [-4.24110388e+00  4.47990762e+00 -1.17451324e+01]\n",
            " [-1.25676204e+00  3.06788201e+00  1.58852370e+00]\n",
            " [-3.93281491e+00 -4.65873970e+00 -1.39118947e+01]\n",
            " [ 6.13526509e-01  5.46367833e+00  7.35666676e+00]\n",
            " [-2.80778043e-01 -2.28731912e+00 -5.12354271e+00]\n",
            " [ 2.14522780e+00  1.57424028e+00  7.01211690e+00]\n",
            " [ 6.44114130e+00  1.40202212e+01  1.91168317e+01]\n",
            " [-2.36400536e+00 -7.87706758e+00 -6.69411816e+00]\n",
            " [ 2.39494486e+00 -3.85428047e-01  3.15247079e+00]\n",
            " [-3.04009957e+00 -1.54455720e+01 -1.46490561e+01]\n",
            " [ 3.35512593e+00  3.72902532e+00  5.89612819e+00]\n",
            " [-6.64517034e-01  5.47334951e+00  7.10474185e+00]\n",
            " [-5.84629094e-01 -1.95177796e-01 -4.29466810e+00]\n",
            " [ 1.11304559e+00 -2.32370450e+00  3.79368553e+00]\n",
            " [-1.70449922e+00  5.45730812e+00  1.07801991e+01]\n",
            " [ 1.19655821e+00  1.61125516e+01  1.82977112e+01]\n",
            " [-4.75938179e+00 -6.44406581e+00 -1.76256479e+01]\n",
            " [-2.12451088e+00  8.17023671e+00  1.49811477e+00]\n",
            " [-2.26676826e+00 -1.57898028e+01 -7.82096829e+00]\n",
            " [ 8.09327484e-01  4.83673917e-01 -3.53763126e+00]\n",
            " [-2.12049882e+00 -3.22736081e+00 -1.66461833e+01]\n",
            " [ 2.78477261e+00 -8.04807127e-01  1.20364409e+01]\n",
            " [-2.08489630e+00  1.19201032e+00  1.24416477e+00]\n",
            " [ 2.48566922e+00 -2.20636976e+00  6.91938375e+00]\n",
            " [ 2.39300322e+00 -1.10475504e+00  4.87102841e-01]\n",
            " [-4.80943439e+00  6.97015403e+00 -8.35907069e+00]\n",
            " [-1.32373503e+00 -1.18336031e+01 -1.42763758e+01]\n",
            " [ 2.32737154e+00 -1.00233313e+00  2.78958116e-01]\n",
            " [ 5.29539921e+00  1.40373328e+01  2.43687548e+01]\n",
            " [-4.79948539e-03 -1.10233462e+01 -3.58797756e+00]\n",
            " [-6.90080259e-02  9.24713500e+00  1.32061517e+01]\n",
            " [ 6.04079990e-01  1.56001607e+00 -1.56728179e+00]\n",
            " [ 2.55601310e+00  6.10494122e+00  5.25518610e+00]\n",
            " [ 7.56653561e+00 -9.20940365e+00  1.73230002e+01]\n",
            " [-9.03252220e-01 -1.85045616e+00  5.46437552e+00]\n",
            " [ 6.64247181e+00  2.22493105e+00  1.34744301e+01]\n",
            " [-1.25364119e+00  1.25405368e+01  1.42421381e+01]\n",
            " [ 2.34306848e+00  8.03587988e+00  9.70443332e+00]\n",
            " [ 1.91015069e+00 -6.26896939e+00 -4.02931490e+00]\n",
            " [-3.43298429e+00 -4.91645762e+00 -1.12587116e+01]\n",
            " [-8.17042869e-01  1.24448943e+00  6.01553055e+00]\n",
            " [ 3.94667641e+00 -3.93348427e+00  9.59307742e+00]\n",
            " [ 2.72210405e+00  8.89875642e-01 -1.62446310e+00]\n",
            " [-2.27832448e+00  5.57958818e+00 -1.00534586e+01]\n",
            " [-5.74501588e+00  1.48047152e+00 -9.51429399e+00]\n",
            " [-4.02948805e-01 -2.02651329e-01 -3.41280188e-01]\n",
            " [-5.64107888e-01  8.67017414e+00  4.25269653e+00]\n",
            " [ 2.53499007e+00 -8.43381686e-01  1.22654245e+01]\n",
            " [ 4.95022357e+00 -1.53334740e+01  6.53161749e+00]\n",
            " [ 3.32028006e+00  4.53696971e+00  1.17500830e+01]\n",
            " [ 7.06415258e-01  2.23128078e+00  5.31823165e+00]\n",
            " [-1.74011024e-01  1.02727201e+01  2.45858382e+00]\n",
            " [ 2.97307088e+00  1.16394585e+00  1.11693313e+01]\n",
            " [ 1.23338569e+00  4.91955722e+00  8.72904704e+00]\n",
            " [-5.09795907e+00  7.29864984e-01 -2.00068701e+01]\n",
            " [-4.58642237e+00 -1.74205909e+01 -2.29728255e+01]\n",
            " [-2.48619019e+00 -4.81047778e+00 -1.25329847e+01]\n",
            " [ 1.54871912e+00  3.08304826e+00  7.10525630e+00]\n",
            " [-4.00386034e+00  6.40849779e+00 -1.59073458e+01]\n",
            " [-5.40630561e-01 -3.25734079e+00 -6.12336654e+00]\n",
            " [-1.67482991e+00  9.78153022e+00 -2.91143556e+00]\n",
            " [ 1.25261701e-01 -7.46437326e+00 -2.70281691e+00]\n",
            " [-4.62383033e+00 -6.89167870e-01 -9.08942883e+00]\n",
            " [-3.44412534e+00 -1.40744179e-01  2.24685291e+00]\n",
            " [ 2.95383739e+00 -1.74077727e+01  5.06894536e-01]\n",
            " [ 6.13837952e+00 -8.53528801e-01  5.68472874e+00]\n",
            " [ 1.00742893e+00 -3.97355780e+00 -1.99777498e+00]\n",
            " [-3.73454928e-01  1.23129846e+01  8.62400220e+00]\n",
            " [ 2.28788238e+00 -5.20219126e+00 -8.16436835e+00]\n",
            " [-1.23700979e+00  5.15327706e+00 -9.08293181e+00]\n",
            " [-1.44856090e+00  1.10283152e+01  3.88101466e+00]\n",
            " [-2.97420047e+00  3.18669939e-01 -7.70404524e+00]\n",
            " [ 2.17133187e+00 -7.67393445e+00 -3.13644140e-01]]\n"
          ]
        }
      ]
    },
    {
      "cell_type": "code",
      "source": [
        "# Crear la martriz de varianza-covarianzas mediante la sentencia 'cov', a partir de la matriz ajustada de los datos simulados de la v.a. normal 3-dimensional\n",
        "# 'MNcentered_sample'.\n",
        "S_1 = np.cov(MNcentered_sample, rowvar = False)\n",
        "# Imprimir la matriz de varianzas-covarianzas.\n",
        "print(S_1)"
      ],
      "metadata": {
        "colab": {
          "base_uri": "https://localhost:8080/"
        },
        "id": "4GqoGmpMlgEC",
        "outputId": "acd07ff2-4fb3-4bcf-b8d7-778ffd1412ba"
      },
      "execution_count": null,
      "outputs": [
        {
          "output_type": "stream",
          "name": "stdout",
          "text": [
            "[[ 11.13196359   2.80713945  28.57483277]\n",
            " [  2.80713945  53.93975234  39.95758328]\n",
            " [ 28.57483277  39.95758328 119.95616508]]\n"
          ]
        }
      ]
    },
    {
      "cell_type": "code",
      "source": [
        "# Para demostrar que la matriz generada es positiva definida, se procederá a calcular eigenvalores y eigenvectores, para esto, se procederá mediante la\n",
        "# sub-biblioteca 'linalgebra' para realizar el cálulo de ambos parámetros\n",
        "eigen_val_MNsim, eigen_vec_MNsim = np.linalg.eigh(S_1)\n",
        "print('Los eigenvalores correspondientes a la matriz de Varianzas-Covarianzas de la muestra generada a partir de la v.a. normal 3-dimensional es:')\n",
        "print(eigen_val_MNsim)\n",
        "print('Los eigenvenctores asociados al Varianzas-Covarianzas de la muestra generada a partir de la v.a. normal 3-dimensional son:')\n",
        "print(eigen_vec_MNsim)\n"
      ],
      "metadata": {
        "id": "EnSprK7b6DsI",
        "colab": {
          "base_uri": "https://localhost:8080/"
        },
        "outputId": "c57789c5-f9af-450f-b85c-70ecaa2eba4a"
      },
      "execution_count": null,
      "outputs": [
        {
          "output_type": "stream",
          "name": "stdout",
          "text": [
            "Los eigenvalores correspondientes a la matriz de Varianzas-Covarianzas de la muestra generada a partir de la v.a. normal 3-dimensional es:\n",
            "[  2.86998081  37.85334035 144.30455985]\n",
            "Los eigenvenctores asociados al Varianzas-Covarianzas de la muestra generada a partir de la v.a. normal 3-dimensional son:\n",
            "[[ 0.94118502  0.27217301 -0.20023137]\n",
            " [ 0.17460392 -0.89909914 -0.40141526]\n",
            " [-0.28928225  0.34284485 -0.89374112]]\n"
          ]
        }
      ]
    },
    {
      "cell_type": "code",
      "source": [
        "# Reescribir los eigenvalores de manera decreciente y que satisfaga el Teorema, por lo que se reescribirán los valores de manera decreciente para que se\n",
        "# encuentren dentro de la cámara de Weyl.\n",
        "eigen_val_MNsim[::-1]"
      ],
      "metadata": {
        "colab": {
          "base_uri": "https://localhost:8080/"
        },
        "id": "rY_9Vv8X7W21",
        "outputId": "9502fbf8-b050-497e-852a-1cfee24012df"
      },
      "execution_count": null,
      "outputs": [
        {
          "output_type": "execute_result",
          "data": {
            "text/plain": [
              "array([144.30455985,  37.85334035,   2.86998081])"
            ]
          },
          "metadata": {},
          "execution_count": 14
        }
      ]
    },
    {
      "cell_type": "code",
      "source": [
        "eigen_vec_MNsim = eigen_vec_MNsim[:,np.argsort(eigen_val_MNsim)[::-1]]\n",
        "\n",
        "eigen_vec_MNsim"
      ],
      "metadata": {
        "colab": {
          "base_uri": "https://localhost:8080/"
        },
        "id": "DFHisOBc8O2M",
        "outputId": "82372e83-81ac-421a-99c7-cd8635c7f633"
      },
      "execution_count": null,
      "outputs": [
        {
          "output_type": "execute_result",
          "data": {
            "text/plain": [
              "array([[-0.20023137,  0.27217301,  0.94118502],\n",
              "       [-0.40141526, -0.89909914,  0.17460392],\n",
              "       [-0.89374112,  0.34284485, -0.28928225]])"
            ]
          },
          "metadata": {},
          "execution_count": 15
        }
      ]
    },
    {
      "cell_type": "markdown",
      "source": [
        "De aquí, para poder realizar el análisis por Componentes Principales, se procederá a determinar el número de componentes a analizar; por hipótesis, se simularon números pseudoaleatorios a partir de una v.a. 3-dimensional, por lo que $n=2$ por definición. Dado esto, calculando los eigenvalores y eigenvectores, se tiene lo que sigue:"
      ],
      "metadata": {
        "id": "EOXtFf3a5cMw"
      }
    },
    {
      "cell_type": "code",
      "source": [
        "# Definir el número de componentes sorbre el cuál se realizará el PCA\n",
        "n_components = 2\n",
        "# Se elegirán ciertos elementos de las entradas pertenecientes a la matriz de eigenvectores generada previamente. Note que la matriz previa ya está ordenada de\n",
        "# acuerdo a los eigenvectores ordenados dentro de la cámara de Weyl\n",
        "eigenvectorMNsim_2 = eigen_vec_MNsim[:,0:n_components]\n",
        "eigenvectorMNsim_2"
      ],
      "metadata": {
        "colab": {
          "base_uri": "https://localhost:8080/"
        },
        "id": "Th4w3ojTdglA",
        "outputId": "7b8b2bb8-a5fb-44e3-f6c4-9affba68e8ff"
      },
      "execution_count": null,
      "outputs": [
        {
          "output_type": "execute_result",
          "data": {
            "text/plain": [
              "array([[-0.20023137,  0.27217301],\n",
              "       [-0.40141526, -0.89909914],\n",
              "       [-0.89374112,  0.34284485]])"
            ]
          },
          "metadata": {},
          "execution_count": 16
        }
      ]
    },
    {
      "cell_type": "code",
      "source": [
        "# Descomposición espectral\n",
        "MN_red = np.dot(eigenvectorMNsim_2.transpose(),MNcentered_sample.transpose()).transpose()\n",
        "# Imprimir la descomposición espectral de los datos de la v.a. Gaussiana\n",
        "MN_red"
      ],
      "metadata": {
        "colab": {
          "base_uri": "https://localhost:8080/"
        },
        "id": "ixScC9h4h__u",
        "outputId": "a8c08705-ffab-48a6-a86a-cd7319949e40"
      },
      "execution_count": null,
      "outputs": [
        {
          "output_type": "execute_result",
          "data": {
            "text/plain": [
              "array([[ 5.19545576e+00,  2.51262479e+00],\n",
              "       [-3.29451295e+01,  4.38003925e+00],\n",
              "       [ 1.87224046e+01, -2.74547228e+00],\n",
              "       [-9.61457168e+00,  1.21438790e+01],\n",
              "       [-1.53483983e+01,  7.84262957e+00],\n",
              "       [-7.07879744e-01, -1.36906677e+01],\n",
              "       [-1.63598637e+01,  8.14750332e-01],\n",
              "       [-9.25984917e+00,  3.80676829e+00],\n",
              "       [ 6.12690513e+00, -4.74684151e+00],\n",
              "       [-1.36741930e+01,  2.75805435e+00],\n",
              "       [-1.08771927e+01,  2.23495275e+00],\n",
              "       [ 7.47720696e-01, -4.00455977e+00],\n",
              "       [ 1.90123264e+01,  1.18634257e+00],\n",
              "       [ 2.51886675e+01, -1.23909162e-01],\n",
              "       [ 1.94063164e+01, -8.70163453e-02],\n",
              "       [ 1.44543017e+01, -1.52723044e+00],\n",
              "       [-1.29725802e+00, -2.33810455e+00],\n",
              "       [ 1.37822881e+01,  1.67250440e-01],\n",
              "       [ 1.49549825e+01, -4.95204668e+00],\n",
              "       [-1.23710270e+00,  1.07977227e+00],\n",
              "       [-1.46119050e+01, -1.19637823e+01],\n",
              "       [ 1.39091329e+01, -3.96167761e+00],\n",
              "       [ 6.77424932e+00,  5.43441628e+00],\n",
              "       [ 7.92946323e+00, -4.99202925e+00],\n",
              "       [-7.40786343e+00,  7.93454042e+00],\n",
              "       [ 1.16379544e+01,  1.01658942e+01],\n",
              "       [-7.79051392e+00, -1.14643719e-01],\n",
              "       [ 9.54800652e+00, -9.20895323e+00],\n",
              "       [-2.39958042e+00, -2.55576962e+00],\n",
              "       [ 1.50911945e+01, -1.65135866e+00],\n",
              "       [-8.89100669e+00, -2.22320783e+00],\n",
              "       [ 5.55350617e+00,  2.23526223e-01],\n",
              "       [-7.32848318e+00,  1.57254319e+00],\n",
              "       [-2.40031479e+01, -4.29835673e+00],\n",
              "       [ 9.61813181e+00,  4.14380230e+00],\n",
              "       [-3.14231917e+00,  2.07918575e+00],\n",
              "       [ 1.99012754e+01,  8.03731400e+00],\n",
              "       [-7.43830134e+00, -4.18131563e-01],\n",
              "       [-8.41382879e+00, -2.66612330e+00],\n",
              "       [ 4.03372991e+00, -1.45604091e+00],\n",
              "       [-2.68066895e+00,  3.69282722e+00],\n",
              "       [-1.14840597e+01, -1.67464400e+00],\n",
              "       [-2.30608295e+01, -7.88783443e+00],\n",
              "       [ 1.92924902e+01, -1.54438383e+00],\n",
              "       [-4.19319072e+00, -7.41046638e+00],\n",
              "       [ 1.37820668e+01,  1.08982662e+01],\n",
              "       [ 2.80551968e+00, -1.42745236e+00],\n",
              "       [ 1.65974807e+01, -3.38248340e+00],\n",
              "       [-1.09919991e+01,  5.60817310e+00],\n",
              "       [-1.17299070e+00, -1.21263247e+00],\n",
              "       [-5.79617625e+00,  5.03255230e+00],\n",
              "       [-4.71032626e-01,  1.81159589e+00],\n",
              "       [ 5.63591865e+00, -1.04417221e+01],\n",
              "       [ 1.77746262e+01,  5.38471553e+00],\n",
              "       [-3.12977323e-01,  1.63028393e+00],\n",
              "       [-2.84744628e+01, -2.82498702e+00],\n",
              "       [ 7.63262344e+00,  8.67965514e+00],\n",
              "       [-1.55010043e+01, -3.80521216e+00],\n",
              "       [ 6.53574161e-01, -1.77552932e+00],\n",
              "       [-7.65918648e+00, -2.99155613e+00],\n",
              "       [-1.33005403e+01,  1.62786751e+01],\n",
              "       [-3.96007633e+00,  3.29133566e+00],\n",
              "       [-1.42658047e+01,  4.42710689e+00],\n",
              "       [-1.75117290e+01, -6.73354944e+00],\n",
              "       [-1.23681317e+01, -3.26021771e+00],\n",
              "       [ 5.73515229e+00,  4.77488659e+00],\n",
              "       [ 1.27233058e+01, -3.73974123e-01],\n",
              "       [-5.71228644e+00,  7.21097267e-01],\n",
              "       [-7.78501557e+00,  7.89970829e+00],\n",
              "       [ 5.49589179e-01, -6.16141977e-01],\n",
              "       [ 7.20164950e+00, -9.08347784e+00],\n",
              "       [ 9.05936431e+00, -6.15665561e+00],\n",
              "       [ 4.67046465e-01, -4.44743084e-02],\n",
              "       [-7.16819785e+00, -6.49086595e+00],\n",
              "       [-1.11311525e+01,  5.65337722e+00],\n",
              "       [-6.73674752e-01,  1.73729619e+01],\n",
              "       [-1.29875654e+01,  8.52960476e-01],\n",
              "       [-5.79023895e+00,  9.45286544e-03],\n",
              "       [-6.28612159e+00, -8.44064211e+00],\n",
              "       [-1.10450183e+01,  3.59203464e+00],\n",
              "       [-1.00232561e+01, -1.09476656e+00],\n",
              "       [ 1.86087549e+01, -8.90300019e+00],\n",
              "       [ 2.84429954e+01,  6.53842300e+00],\n",
              "       [ 1.36300563e+01, -6.48446685e-01],\n",
              "       [-7.89794449e+00,  8.55540244e-02],\n",
              "       [ 1.24462786e+01, -1.23053691e+01],\n",
              "       [ 6.88850196e+00,  6.82162586e-01],\n",
              "       [-9.89032318e-01, -1.02485796e+01],\n",
              "       [ 5.38685061e+00,  5.81865757e+00],\n",
              "       [ 9.32607469e+00, -3.75511543e+00],\n",
              "       [-1.26198603e+00, -4.05330477e-02],\n",
              "       [ 5.94326220e+00,  1.66290545e+01],\n",
              "       [-5.96715249e+00,  4.38708820e+00],\n",
              "       [ 3.17882150e+00,  3.16189050e+00],\n",
              "       [-1.25754679e+01, -8.21554347e+00],\n",
              "       [ 8.92696483e+00,  2.50087389e+00],\n",
              "       [ 6.29687376e+00, -8.08402403e+00],\n",
              "       [-7.60550904e+00, -8.97922199e+00],\n",
              "       [ 7.35303128e+00, -3.73730518e+00],\n",
              "       [ 2.92598229e+00,  7.38307451e+00]])"
            ]
          },
          "metadata": {},
          "execution_count": 17
        }
      ]
    },
    {
      "cell_type": "code",
      "source": [
        "# Imprimir en consola dentro de un DataFrame, las componentes principales correspondientes al análisis de la muestra generada a partir de la v.a. 3-dimensional\n",
        "# construida al inicio del ejercicio\n",
        "PCAMNSample_df = pd.DataFrame(MN_red, columns = ['PC1_MNSimulation','PC2_MNSimulation'])\n",
        "# Mostrar las componentes principales por cada una de la i-ésima componente dónde i=0,...,99\n",
        "PCAMNSample_df"
      ],
      "metadata": {
        "colab": {
          "base_uri": "https://localhost:8080/",
          "height": 424
        },
        "id": "nNbiupdddAbd",
        "outputId": "c4a8ac38-7761-4591-8bce-dfdf10e2cc32"
      },
      "execution_count": null,
      "outputs": [
        {
          "output_type": "execute_result",
          "data": {
            "text/plain": [
              "    PC1_MNSimulation  PC2_MNSimulation\n",
              "0           5.195456          2.512625\n",
              "1         -32.945130          4.380039\n",
              "2          18.722405         -2.745472\n",
              "3          -9.614572         12.143879\n",
              "4         -15.348398          7.842630\n",
              "..               ...               ...\n",
              "95          8.926965          2.500874\n",
              "96          6.296874         -8.084024\n",
              "97         -7.605509         -8.979222\n",
              "98          7.353031         -3.737305\n",
              "99          2.925982          7.383075\n",
              "\n",
              "[100 rows x 2 columns]"
            ],
            "text/html": [
              "\n",
              "  <div id=\"df-2969af37-bcf3-44e1-8d1d-70098db9cde4\" class=\"colab-df-container\">\n",
              "    <div>\n",
              "<style scoped>\n",
              "    .dataframe tbody tr th:only-of-type {\n",
              "        vertical-align: middle;\n",
              "    }\n",
              "\n",
              "    .dataframe tbody tr th {\n",
              "        vertical-align: top;\n",
              "    }\n",
              "\n",
              "    .dataframe thead th {\n",
              "        text-align: right;\n",
              "    }\n",
              "</style>\n",
              "<table border=\"1\" class=\"dataframe\">\n",
              "  <thead>\n",
              "    <tr style=\"text-align: right;\">\n",
              "      <th></th>\n",
              "      <th>PC1_MNSimulation</th>\n",
              "      <th>PC2_MNSimulation</th>\n",
              "    </tr>\n",
              "  </thead>\n",
              "  <tbody>\n",
              "    <tr>\n",
              "      <th>0</th>\n",
              "      <td>5.195456</td>\n",
              "      <td>2.512625</td>\n",
              "    </tr>\n",
              "    <tr>\n",
              "      <th>1</th>\n",
              "      <td>-32.945130</td>\n",
              "      <td>4.380039</td>\n",
              "    </tr>\n",
              "    <tr>\n",
              "      <th>2</th>\n",
              "      <td>18.722405</td>\n",
              "      <td>-2.745472</td>\n",
              "    </tr>\n",
              "    <tr>\n",
              "      <th>3</th>\n",
              "      <td>-9.614572</td>\n",
              "      <td>12.143879</td>\n",
              "    </tr>\n",
              "    <tr>\n",
              "      <th>4</th>\n",
              "      <td>-15.348398</td>\n",
              "      <td>7.842630</td>\n",
              "    </tr>\n",
              "    <tr>\n",
              "      <th>...</th>\n",
              "      <td>...</td>\n",
              "      <td>...</td>\n",
              "    </tr>\n",
              "    <tr>\n",
              "      <th>95</th>\n",
              "      <td>8.926965</td>\n",
              "      <td>2.500874</td>\n",
              "    </tr>\n",
              "    <tr>\n",
              "      <th>96</th>\n",
              "      <td>6.296874</td>\n",
              "      <td>-8.084024</td>\n",
              "    </tr>\n",
              "    <tr>\n",
              "      <th>97</th>\n",
              "      <td>-7.605509</td>\n",
              "      <td>-8.979222</td>\n",
              "    </tr>\n",
              "    <tr>\n",
              "      <th>98</th>\n",
              "      <td>7.353031</td>\n",
              "      <td>-3.737305</td>\n",
              "    </tr>\n",
              "    <tr>\n",
              "      <th>99</th>\n",
              "      <td>2.925982</td>\n",
              "      <td>7.383075</td>\n",
              "    </tr>\n",
              "  </tbody>\n",
              "</table>\n",
              "<p>100 rows × 2 columns</p>\n",
              "</div>\n",
              "    <div class=\"colab-df-buttons\">\n",
              "\n",
              "  <div class=\"colab-df-container\">\n",
              "    <button class=\"colab-df-convert\" onclick=\"convertToInteractive('df-2969af37-bcf3-44e1-8d1d-70098db9cde4')\"\n",
              "            title=\"Convert this dataframe to an interactive table.\"\n",
              "            style=\"display:none;\">\n",
              "\n",
              "  <svg xmlns=\"http://www.w3.org/2000/svg\" height=\"24px\" viewBox=\"0 -960 960 960\">\n",
              "    <path d=\"M120-120v-720h720v720H120Zm60-500h600v-160H180v160Zm220 220h160v-160H400v160Zm0 220h160v-160H400v160ZM180-400h160v-160H180v160Zm440 0h160v-160H620v160ZM180-180h160v-160H180v160Zm440 0h160v-160H620v160Z\"/>\n",
              "  </svg>\n",
              "    </button>\n",
              "\n",
              "  <style>\n",
              "    .colab-df-container {\n",
              "      display:flex;\n",
              "      gap: 12px;\n",
              "    }\n",
              "\n",
              "    .colab-df-convert {\n",
              "      background-color: #E8F0FE;\n",
              "      border: none;\n",
              "      border-radius: 50%;\n",
              "      cursor: pointer;\n",
              "      display: none;\n",
              "      fill: #1967D2;\n",
              "      height: 32px;\n",
              "      padding: 0 0 0 0;\n",
              "      width: 32px;\n",
              "    }\n",
              "\n",
              "    .colab-df-convert:hover {\n",
              "      background-color: #E2EBFA;\n",
              "      box-shadow: 0px 1px 2px rgba(60, 64, 67, 0.3), 0px 1px 3px 1px rgba(60, 64, 67, 0.15);\n",
              "      fill: #174EA6;\n",
              "    }\n",
              "\n",
              "    .colab-df-buttons div {\n",
              "      margin-bottom: 4px;\n",
              "    }\n",
              "\n",
              "    [theme=dark] .colab-df-convert {\n",
              "      background-color: #3B4455;\n",
              "      fill: #D2E3FC;\n",
              "    }\n",
              "\n",
              "    [theme=dark] .colab-df-convert:hover {\n",
              "      background-color: #434B5C;\n",
              "      box-shadow: 0px 1px 3px 1px rgba(0, 0, 0, 0.15);\n",
              "      filter: drop-shadow(0px 1px 2px rgba(0, 0, 0, 0.3));\n",
              "      fill: #FFFFFF;\n",
              "    }\n",
              "  </style>\n",
              "\n",
              "    <script>\n",
              "      const buttonEl =\n",
              "        document.querySelector('#df-2969af37-bcf3-44e1-8d1d-70098db9cde4 button.colab-df-convert');\n",
              "      buttonEl.style.display =\n",
              "        google.colab.kernel.accessAllowed ? 'block' : 'none';\n",
              "\n",
              "      async function convertToInteractive(key) {\n",
              "        const element = document.querySelector('#df-2969af37-bcf3-44e1-8d1d-70098db9cde4');\n",
              "        const dataTable =\n",
              "          await google.colab.kernel.invokeFunction('convertToInteractive',\n",
              "                                                    [key], {});\n",
              "        if (!dataTable) return;\n",
              "\n",
              "        const docLinkHtml = 'Like what you see? Visit the ' +\n",
              "          '<a target=\"_blank\" href=https://colab.research.google.com/notebooks/data_table.ipynb>data table notebook</a>'\n",
              "          + ' to learn more about interactive tables.';\n",
              "        element.innerHTML = '';\n",
              "        dataTable['output_type'] = 'display_data';\n",
              "        await google.colab.output.renderOutput(dataTable, element);\n",
              "        const docLink = document.createElement('div');\n",
              "        docLink.innerHTML = docLinkHtml;\n",
              "        element.appendChild(docLink);\n",
              "      }\n",
              "    </script>\n",
              "  </div>\n",
              "\n",
              "\n",
              "<div id=\"df-948774b1-a7ec-4c5f-a770-71dbe96b519c\">\n",
              "  <button class=\"colab-df-quickchart\" onclick=\"quickchart('df-948774b1-a7ec-4c5f-a770-71dbe96b519c')\"\n",
              "            title=\"Suggest charts\"\n",
              "            style=\"display:none;\">\n",
              "\n",
              "<svg xmlns=\"http://www.w3.org/2000/svg\" height=\"24px\"viewBox=\"0 0 24 24\"\n",
              "     width=\"24px\">\n",
              "    <g>\n",
              "        <path d=\"M19 3H5c-1.1 0-2 .9-2 2v14c0 1.1.9 2 2 2h14c1.1 0 2-.9 2-2V5c0-1.1-.9-2-2-2zM9 17H7v-7h2v7zm4 0h-2V7h2v10zm4 0h-2v-4h2v4z\"/>\n",
              "    </g>\n",
              "</svg>\n",
              "  </button>\n",
              "\n",
              "<style>\n",
              "  .colab-df-quickchart {\n",
              "      --bg-color: #E8F0FE;\n",
              "      --fill-color: #1967D2;\n",
              "      --hover-bg-color: #E2EBFA;\n",
              "      --hover-fill-color: #174EA6;\n",
              "      --disabled-fill-color: #AAA;\n",
              "      --disabled-bg-color: #DDD;\n",
              "  }\n",
              "\n",
              "  [theme=dark] .colab-df-quickchart {\n",
              "      --bg-color: #3B4455;\n",
              "      --fill-color: #D2E3FC;\n",
              "      --hover-bg-color: #434B5C;\n",
              "      --hover-fill-color: #FFFFFF;\n",
              "      --disabled-bg-color: #3B4455;\n",
              "      --disabled-fill-color: #666;\n",
              "  }\n",
              "\n",
              "  .colab-df-quickchart {\n",
              "    background-color: var(--bg-color);\n",
              "    border: none;\n",
              "    border-radius: 50%;\n",
              "    cursor: pointer;\n",
              "    display: none;\n",
              "    fill: var(--fill-color);\n",
              "    height: 32px;\n",
              "    padding: 0;\n",
              "    width: 32px;\n",
              "  }\n",
              "\n",
              "  .colab-df-quickchart:hover {\n",
              "    background-color: var(--hover-bg-color);\n",
              "    box-shadow: 0 1px 2px rgba(60, 64, 67, 0.3), 0 1px 3px 1px rgba(60, 64, 67, 0.15);\n",
              "    fill: var(--button-hover-fill-color);\n",
              "  }\n",
              "\n",
              "  .colab-df-quickchart-complete:disabled,\n",
              "  .colab-df-quickchart-complete:disabled:hover {\n",
              "    background-color: var(--disabled-bg-color);\n",
              "    fill: var(--disabled-fill-color);\n",
              "    box-shadow: none;\n",
              "  }\n",
              "\n",
              "  .colab-df-spinner {\n",
              "    border: 2px solid var(--fill-color);\n",
              "    border-color: transparent;\n",
              "    border-bottom-color: var(--fill-color);\n",
              "    animation:\n",
              "      spin 1s steps(1) infinite;\n",
              "  }\n",
              "\n",
              "  @keyframes spin {\n",
              "    0% {\n",
              "      border-color: transparent;\n",
              "      border-bottom-color: var(--fill-color);\n",
              "      border-left-color: var(--fill-color);\n",
              "    }\n",
              "    20% {\n",
              "      border-color: transparent;\n",
              "      border-left-color: var(--fill-color);\n",
              "      border-top-color: var(--fill-color);\n",
              "    }\n",
              "    30% {\n",
              "      border-color: transparent;\n",
              "      border-left-color: var(--fill-color);\n",
              "      border-top-color: var(--fill-color);\n",
              "      border-right-color: var(--fill-color);\n",
              "    }\n",
              "    40% {\n",
              "      border-color: transparent;\n",
              "      border-right-color: var(--fill-color);\n",
              "      border-top-color: var(--fill-color);\n",
              "    }\n",
              "    60% {\n",
              "      border-color: transparent;\n",
              "      border-right-color: var(--fill-color);\n",
              "    }\n",
              "    80% {\n",
              "      border-color: transparent;\n",
              "      border-right-color: var(--fill-color);\n",
              "      border-bottom-color: var(--fill-color);\n",
              "    }\n",
              "    90% {\n",
              "      border-color: transparent;\n",
              "      border-bottom-color: var(--fill-color);\n",
              "    }\n",
              "  }\n",
              "</style>\n",
              "\n",
              "  <script>\n",
              "    async function quickchart(key) {\n",
              "      const quickchartButtonEl =\n",
              "        document.querySelector('#' + key + ' button');\n",
              "      quickchartButtonEl.disabled = true;  // To prevent multiple clicks.\n",
              "      quickchartButtonEl.classList.add('colab-df-spinner');\n",
              "      try {\n",
              "        const charts = await google.colab.kernel.invokeFunction(\n",
              "            'suggestCharts', [key], {});\n",
              "      } catch (error) {\n",
              "        console.error('Error during call to suggestCharts:', error);\n",
              "      }\n",
              "      quickchartButtonEl.classList.remove('colab-df-spinner');\n",
              "      quickchartButtonEl.classList.add('colab-df-quickchart-complete');\n",
              "    }\n",
              "    (() => {\n",
              "      let quickchartButtonEl =\n",
              "        document.querySelector('#df-948774b1-a7ec-4c5f-a770-71dbe96b519c button');\n",
              "      quickchartButtonEl.style.display =\n",
              "        google.colab.kernel.accessAllowed ? 'block' : 'none';\n",
              "    })();\n",
              "  </script>\n",
              "</div>\n",
              "\n",
              "  <div id=\"id_3b021149-ea27-4631-9edd-6e33665911c4\">\n",
              "    <style>\n",
              "      .colab-df-generate {\n",
              "        background-color: #E8F0FE;\n",
              "        border: none;\n",
              "        border-radius: 50%;\n",
              "        cursor: pointer;\n",
              "        display: none;\n",
              "        fill: #1967D2;\n",
              "        height: 32px;\n",
              "        padding: 0 0 0 0;\n",
              "        width: 32px;\n",
              "      }\n",
              "\n",
              "      .colab-df-generate:hover {\n",
              "        background-color: #E2EBFA;\n",
              "        box-shadow: 0px 1px 2px rgba(60, 64, 67, 0.3), 0px 1px 3px 1px rgba(60, 64, 67, 0.15);\n",
              "        fill: #174EA6;\n",
              "      }\n",
              "\n",
              "      [theme=dark] .colab-df-generate {\n",
              "        background-color: #3B4455;\n",
              "        fill: #D2E3FC;\n",
              "      }\n",
              "\n",
              "      [theme=dark] .colab-df-generate:hover {\n",
              "        background-color: #434B5C;\n",
              "        box-shadow: 0px 1px 3px 1px rgba(0, 0, 0, 0.15);\n",
              "        filter: drop-shadow(0px 1px 2px rgba(0, 0, 0, 0.3));\n",
              "        fill: #FFFFFF;\n",
              "      }\n",
              "    </style>\n",
              "    <button class=\"colab-df-generate\" onclick=\"generateWithVariable('PCAMNSample_df')\"\n",
              "            title=\"Generate code using this dataframe.\"\n",
              "            style=\"display:none;\">\n",
              "\n",
              "  <svg xmlns=\"http://www.w3.org/2000/svg\" height=\"24px\"viewBox=\"0 0 24 24\"\n",
              "       width=\"24px\">\n",
              "    <path d=\"M7,19H8.4L18.45,9,17,7.55,7,17.6ZM5,21V16.75L18.45,3.32a2,2,0,0,1,2.83,0l1.4,1.43a1.91,1.91,0,0,1,.58,1.4,1.91,1.91,0,0,1-.58,1.4L9.25,21ZM18.45,9,17,7.55Zm-12,3A5.31,5.31,0,0,0,4.9,8.1,5.31,5.31,0,0,0,1,6.5,5.31,5.31,0,0,0,4.9,4.9,5.31,5.31,0,0,0,6.5,1,5.31,5.31,0,0,0,8.1,4.9,5.31,5.31,0,0,0,12,6.5,5.46,5.46,0,0,0,6.5,12Z\"/>\n",
              "  </svg>\n",
              "    </button>\n",
              "    <script>\n",
              "      (() => {\n",
              "      const buttonEl =\n",
              "        document.querySelector('#id_3b021149-ea27-4631-9edd-6e33665911c4 button.colab-df-generate');\n",
              "      buttonEl.style.display =\n",
              "        google.colab.kernel.accessAllowed ? 'block' : 'none';\n",
              "\n",
              "      buttonEl.onclick = () => {\n",
              "        google.colab.notebook.generateWithVariable('PCAMNSample_df');\n",
              "      }\n",
              "      })();\n",
              "    </script>\n",
              "  </div>\n",
              "\n",
              "    </div>\n",
              "  </div>\n"
            ],
            "application/vnd.google.colaboratory.intrinsic+json": {
              "type": "dataframe",
              "variable_name": "PCAMNSample_df",
              "summary": "{\n  \"name\": \"PCAMNSample_df\",\n  \"rows\": 100,\n  \"fields\": [\n    {\n      \"column\": \"PC1_MNSimulation\",\n      \"properties\": {\n        \"dtype\": \"number\",\n        \"std\": 12.012683290971784,\n        \"min\": -32.945129528655954,\n        \"max\": 28.44299542052934,\n        \"samples\": [\n          13.630056257448098,\n          17.774626187178626,\n          7.201649502107062\n        ],\n        \"num_unique_values\": 100,\n        \"semantic_type\": \"\",\n        \"description\": \"\"\n      }\n    },\n    {\n      \"column\": \"PC2_MNSimulation\",\n      \"properties\": {\n        \"dtype\": \"number\",\n        \"std\": 6.152506834333978,\n        \"min\": -13.690667726202788,\n        \"max\": 17.37296191338718,\n        \"samples\": [\n          -0.6484466850210687,\n          5.3847155270170255,\n          -9.083477836557124\n        ],\n        \"num_unique_values\": 100,\n        \"semantic_type\": \"\",\n        \"description\": \"\"\n      }\n    }\n  ]\n}"
            }
          },
          "metadata": {},
          "execution_count": 19
        }
      ]
    },
    {
      "cell_type": "markdown",
      "source": [
        "Finalmente, se procederá a determinar la gráfica de pedregal *(scree plot)* corrspondiente al análisis correspondiente a la v.a. Normal 3-Dimensional definida previamente. Aplicando la definición del gráfico scree y mediante el uso de las bibliotecas, se tiene lo que sigue:"
      ],
      "metadata": {
        "id": "pwqKYd6p7nOR"
      }
    },
    {
      "cell_type": "code",
      "source": [
        "# Definir una función que permita general el gráfico.\n",
        "def plot_MNdata(norm_sample,MN_red):\n",
        "  plt.scatter(norm_sample[:,0],norm_sample[:,1],c=norm_sample[:,2], alpha=0.4)\n",
        "  plt.plot(MN_red[0,:], MN_red[1,:], lw=2)\n",
        "  plt.xlabel(\"Componente Principal 1\")\n",
        "  plt.ylabel(\"Componente Principal 2\")\n",
        "  plt.title('**PCA of Pseudoaleatory Numbers Generated from a 3-dim Normal r.v**')\n",
        "  plt.show()\n",
        "\n",
        "# Imprimir en consola el gráfico de la distribución correspondiente a los datos simulados a partir de la v.a. normal 3-dimensional construida bajo las hipótesis\n",
        "# descritas previamente.\n",
        "plot_MNdata(norm_sample,MN_red)"
      ],
      "metadata": {
        "colab": {
          "base_uri": "https://localhost:8080/",
          "height": 472
        },
        "id": "bmPa4jmujahA",
        "outputId": "6dc52dd9-dec3-4fe0-bc84-6468e2174bf6"
      },
      "execution_count": null,
      "outputs": [
        {
          "output_type": "display_data",
          "data": {
            "text/plain": [
              "<Figure size 640x480 with 1 Axes>"
            ],
            "image/png": "[encoded data removed]"
          },
          "metadata": {}
        }
      ]
    },
    {
      "cell_type": "markdown",
      "source": [
        "Para comprobar los resultados obtenidos tras la simulación realizada con el programa 'from-scratch', se procederá mediante el uso de la biblioteca *sci-kit.learn.*\n",
        "\n",
        "**Observación:** Es importante recalcar el hecho de que se podrá realizar la comprobación respecto al cálculo hecho 'from scratch' ***si y solamente sí*** usted establece una semilla en ambos códigos; en caso contrario, los resultados obtenidos serán variables y no podrá comprobar la viabilidad de ambos métodos."
      ],
      "metadata": {
        "id": "jm8MzCturEXT"
      }
    },
    {
      "cell_type": "code",
      "source": [
        "from sklearn.decomposition import PCA\n",
        "# Definir el vector de medias de la v.a. 3-dimensional construida previamente.\n",
        "mu_vec = np.array([0, 0, 0])\n",
        "# Definir la matriz de varianzas-covarianzas correspondientes a la construcción.\n",
        "varcov_matx =np.array([[10, 3, 24], [3, 58, 42], [24, 42, 100]])\n",
        "# Establecer la semilla para la generación de los números pseudoaleatorios:\n",
        "np.random.seed(0)\n",
        "MN_sample = np.random.multivariate_normal(mu_vec, varcov_matx, 100)\n",
        "\n",
        "pca = PCA(n_components=2)\n",
        "pca.fit(MN_sample)\n",
        "# Obtener las componentes principales de los valores de la v.a. normal así cómo sus varianzas explicadas.\n",
        "components_MN = pca.components_\n",
        "explained_variance = pca.explained_variance_ratio_\n",
        "print(\"Las componentes principales de muestra de la simulación es:\")\n",
        "print(components_MN)\n",
        "print(\"Las varianzas explicadas están dadas por:\")\n",
        "print(explained_variance)"
      ],
      "metadata": {
        "colab": {
          "base_uri": "https://localhost:8080/"
        },
        "id": "xupzOVOiRhI9",
        "outputId": "8fdef8ab-5d71-4009-d93b-7192a2aff85b"
      },
      "execution_count": null,
      "outputs": [
        {
          "output_type": "stream",
          "name": "stdout",
          "text": [
            "Las componentes principales de muestra de la simulación es:\n",
            "[[ 0.21112474  0.4615671   0.86161602]\n",
            " [-0.30477023  0.86862678 -0.39064386]]\n",
            "Las varianzas explicadas están dadas por:\n",
            "[0.79067915 0.19504931]\n"
          ]
        }
      ]
    },
    {
      "cell_type": "code",
      "source": [
        "# Definir una función que permita determinar el gráfico de pedregal correspondiente a la muestra generada a partir de la semilla aleatoria:\n",
        "def screeplot_MNSimulation ():\n",
        "    from matplotlib.pyplot import figure, show\n",
        "    from matplotlib.ticker import MaxNLocator\n",
        "\n",
        "    ax = figure().gca()\n",
        "    ax.plot(pca.explained_variance_)\n",
        "    ax.xaxis.set_major_locator(MaxNLocator(integer=True))\n",
        "    plt.xlabel('Principal Component',fontweight='bold')\n",
        "    plt.ylabel('Eigenvalue',fontweight='bold')\n",
        "    plt.axhline(y=1, linewidth=1, color='#44031A', alpha=0.5)\n",
        "    plt.title('Scree Plot of Multinormal Simulation PCA: Component Eigenvalues',fontweight='bold')\n",
        "    show()\n",
        "\n",
        "screeplot_MNSimulation()\n"
      ],
      "metadata": {
        "colab": {
          "base_uri": "https://localhost:8080/",
          "height": 472
        },
        "id": "316MRddSdwVC",
        "outputId": "6a7c9682-0651-4ec9-d98b-5712f66e89dd"
      },
      "execution_count": null,
      "outputs": [
        {
          "output_type": "display_data",
          "data": {
            "text/plain": [
              "<Figure size 640x480 with 1 Axes>"
            ],
            "image/png": "[encoded data removed]"
          },
          "metadata": {}
        }
      ]
    },
    {
      "cell_type": "markdown",
      "source": [
        "5-.  Se requiere efectuar un PCA de la matriz:\n",
        "$$X=\\begin{pmatrix}\n",
        "1 & 0 & 0 & 0 \\\\ 1 & 1 & 0 & 0 \\\\ 1 & 1 & 1 & 0 \\\\ 1 & 1 & 1 & 1\n",
        "\\end{pmatrix}$$\n",
        "\n",
        "(1) Verifique que obtener los eigenvalores de la matriz\n",
        "$$A=\\begin{bmatrix}\n",
        "3 & 2 & 1 \\\\ 2 & 4 & 2 \\\\ 1 & 2 & 3\n",
        "\\end{bmatrix}$$"
      ],
      "metadata": {
        "id": "EN9B-kzsr38Q"
      }
    },
    {
      "cell_type": "code",
      "source": [
        "# Definir la matriz triangular inferior del ejercicio 5 cómo un arreglo, para posteriormente redimensionarlo mediante la sentencia 'reshape' cómo una matriz de\n",
        "# tamaño 4x4.\n",
        "X_ex5 = np.array([1, 0, 0, 0, 1, 1, 0, 0, 1, 1, 1, 0, 1, 1, 1, 1]).reshape((4,4))\n",
        "X_ex5"
      ],
      "metadata": {
        "colab": {
          "base_uri": "https://localhost:8080/"
        },
        "id": "yyaYx3_Hu5Bc",
        "outputId": "6d5eacca-6271-421b-8640-56c9de8fc461"
      },
      "execution_count": null,
      "outputs": [
        {
          "output_type": "execute_result",
          "data": {
            "text/plain": [
              "array([[1, 0, 0, 0],\n",
              "       [1, 1, 0, 0],\n",
              "       [1, 1, 1, 0],\n",
              "       [1, 1, 1, 1]])"
            ]
          },
          "metadata": {},
          "execution_count": 33
        }
      ]
    },
    {
      "cell_type": "code",
      "source": [
        "# Uso de la sentencia ndim, para indicar el tamaño del objeto en Python\n",
        "np.ndim(X_ex5)"
      ],
      "metadata": {
        "colab": {
          "base_uri": "https://localhost:8080/"
        },
        "id": "sIAYVWlHpRju",
        "outputId": "4fe5aedb-41e2-4144-93e9-b5e161a2d323"
      },
      "execution_count": null,
      "outputs": [
        {
          "output_type": "execute_result",
          "data": {
            "text/plain": [
              "2"
            ]
          },
          "metadata": {},
          "execution_count": 34
        }
      ]
    },
    {
      "cell_type": "code",
      "source": [
        "np.mean(X_ex5, axis = 0) # Calcula la media por columnas y las muestra en un arreglo."
      ],
      "metadata": {
        "colab": {
          "base_uri": "https://localhost:8080/"
        },
        "id": "mvKPlhaGpXoz",
        "outputId": "48b64d77-708b-4b58-bf4b-9ac7f23d35e3"
      },
      "execution_count": null,
      "outputs": [
        {
          "output_type": "execute_result",
          "data": {
            "text/plain": [
              "array([1.  , 0.75, 0.5 , 0.25])"
            ]
          },
          "metadata": {},
          "execution_count": 35
        }
      ]
    },
    {
      "cell_type": "code",
      "source": [
        "np.mean(X_ex5, axis = 1) # Calcula la media por renglones y las muestra en la matriz dada."
      ],
      "metadata": {
        "colab": {
          "base_uri": "https://localhost:8080/"
        },
        "id": "0T3YjqZypfs9",
        "outputId": "54c4f314-fbbe-4b87-c3ae-5d69afb6b5cb"
      },
      "execution_count": null,
      "outputs": [
        {
          "output_type": "execute_result",
          "data": {
            "text/plain": [
              "array([0.25, 0.5 , 0.75, 1.  ])"
            ]
          },
          "metadata": {},
          "execution_count": 36
        }
      ]
    },
    {
      "cell_type": "code",
      "source": [
        "# Centramos a los datos\n",
        "X_ex5_media = X_ex5 - np.mean(X_ex5, axis = 0)\n",
        "print(X_ex5_media)"
      ],
      "metadata": {
        "colab": {
          "base_uri": "https://localhost:8080/"
        },
        "id": "dKhIVQMHqNht",
        "outputId": "b711e31d-d59b-408f-ed8f-67b6929b55d1"
      },
      "execution_count": null,
      "outputs": [
        {
          "output_type": "stream",
          "name": "stdout",
          "text": [
            "[[ 0.   -0.75 -0.5  -0.25]\n",
            " [ 0.    0.25 -0.5  -0.25]\n",
            " [ 0.    0.25  0.5  -0.25]\n",
            " [ 0.    0.25  0.5   0.75]]\n"
          ]
        }
      ]
    },
    {
      "cell_type": "code",
      "source": [
        "# Crear la matriz de varianza-covarianzas mediante la sentencia 'cov', a partir de la matriz triangular ajustada.\n",
        "S_Xex5 = np.cov(X_ex5_media, rowvar = False)\n",
        "# Imprimir la matriz de varianzas-covarianzas.\n",
        "print(S_Xex5)"
      ],
      "metadata": {
        "colab": {
          "base_uri": "https://localhost:8080/"
        },
        "id": "207HSgV8qeiS",
        "outputId": "ca6c9d04-881a-4f1f-feaf-a0d5f68840cc"
      },
      "execution_count": null,
      "outputs": [
        {
          "output_type": "stream",
          "name": "stdout",
          "text": [
            "[[0.         0.         0.         0.        ]\n",
            " [0.         0.25       0.16666667 0.08333333]\n",
            " [0.         0.16666667 0.33333333 0.16666667]\n",
            " [0.         0.08333333 0.16666667 0.25      ]]\n"
          ]
        }
      ]
    },
    {
      "cell_type": "code",
      "source": [
        "# Para demostrar que la matriz generada, se procederá a calcular eigenvalores y eigenvectores, para esto, se procederá mediante la sub-biblioteca 'linalgebra'\n",
        "# para realizar el cálulo de ambos parámetros\n",
        "eigen_valEx5, eigen_vecEx5 = np.linalg.eigh(S_Xex5)"
      ],
      "metadata": {
        "id": "srm9kisdNM6u"
      },
      "execution_count": null,
      "outputs": []
    },
    {
      "cell_type": "code",
      "source": [
        "eigen_valEx5"
      ],
      "metadata": {
        "colab": {
          "base_uri": "https://localhost:8080/"
        },
        "id": "_e-m3CxYNell",
        "outputId": "4b1d450a-c0a8-4ace-aacc-a5a06e8d7349"
      },
      "execution_count": null,
      "outputs": [
        {
          "output_type": "execute_result",
          "data": {
            "text/plain": [
              "array([0.        , 0.09763107, 0.16666667, 0.56903559])"
            ]
          },
          "metadata": {},
          "execution_count": 41
        }
      ]
    },
    {
      "cell_type": "code",
      "source": [
        "# Reescribir los eigenvalores de manera decreciente y que satisfaga el Teorema, por lo que se reescribirán los valores de manera decreciente para que se\n",
        "# encuentren dentro de la cámara de Weyl.\n",
        "eigen_valEx5[::-1]"
      ],
      "metadata": {
        "colab": {
          "base_uri": "https://localhost:8080/"
        },
        "id": "Jnw4xrGcNu6N",
        "outputId": "1c11df40-6512-435c-ff16-d8e7021471d3"
      },
      "execution_count": null,
      "outputs": [
        {
          "output_type": "execute_result",
          "data": {
            "text/plain": [
              "array([0.56903559, 0.16666667, 0.09763107, 0.        ])"
            ]
          },
          "metadata": {},
          "execution_count": 42
        }
      ]
    },
    {
      "cell_type": "code",
      "source": [
        "eigen_vecEx5 = eigen_vecEx5[:,np.argsort(eigen_valEx5)[::-1]]\n",
        "# Imprimir en consola los eigenvectores correspondientes a la matriz inicial.\n",
        "eigen_vecEx5"
      ],
      "metadata": {
        "colab": {
          "base_uri": "https://localhost:8080/"
        },
        "id": "mjDPbPKGN_Bt",
        "outputId": "5dcda2d9-2203-4bbe-f724-f4a1dd1a1bb2"
      },
      "execution_count": null,
      "outputs": [
        {
          "output_type": "execute_result",
          "data": {
            "text/plain": [
              "array([[ 0.00000000e+00, -0.00000000e+00,  0.00000000e+00,\n",
              "         1.00000000e+00],\n",
              "       [-5.00000000e-01, -7.07106781e-01,  5.00000000e-01,\n",
              "         0.00000000e+00],\n",
              "       [-7.07106781e-01,  2.77555756e-16, -7.07106781e-01,\n",
              "         0.00000000e+00],\n",
              "       [-5.00000000e-01,  7.07106781e-01,  5.00000000e-01,\n",
              "         0.00000000e+00]])"
            ]
          },
          "metadata": {},
          "execution_count": 43
        }
      ]
    },
    {
      "cell_type": "code",
      "source": [
        "n_components = 2\n",
        "# Se elegirán ciertos elementos de las entradas pertenecientes a la matriz de eigenvectores generada previamente. Note que la matriz previa ya está ordenada de\n",
        "# acuerdo a los eigenvectores ordenados dentro de la cámara de Weyl\n",
        "eigenvectorEx5_2 = eigen_vecEx5[:,0:n_components]\n",
        "eigenvectorEx5_2"
      ],
      "metadata": {
        "colab": {
          "base_uri": "https://localhost:8080/"
        },
        "id": "JMKbO0SUPQrc",
        "outputId": "9645affe-11dc-4d28-9976-70af7240e32a"
      },
      "execution_count": null,
      "outputs": [
        {
          "output_type": "execute_result",
          "data": {
            "text/plain": [
              "array([[ 0.00000000e+00, -0.00000000e+00],\n",
              "       [-5.00000000e-01, -7.07106781e-01],\n",
              "       [-7.07106781e-01,  2.77555756e-16],\n",
              "       [-5.00000000e-01,  7.07106781e-01]])"
            ]
          },
          "metadata": {},
          "execution_count": 44
        }
      ]
    },
    {
      "cell_type": "code",
      "source": [
        "# Descomposición espectral\n",
        "Ex5_red = np.dot(eigenvectorEx5_2.transpose(),X_ex5_media.transpose()).transpose()\n",
        "\n",
        "Ex5_red"
      ],
      "metadata": {
        "colab": {
          "base_uri": "https://localhost:8080/"
        },
        "id": "9CNUv_1VQ6To",
        "outputId": "829b5d2e-148d-4b35-c5d0-07c8bffb1fb3"
      },
      "execution_count": null,
      "outputs": [
        {
          "output_type": "execute_result",
          "data": {
            "text/plain": [
              "array([[ 0.85355339,  0.35355339],\n",
              "       [ 0.35355339, -0.35355339],\n",
              "       [-0.35355339, -0.35355339],\n",
              "       [-0.85355339,  0.35355339]])"
            ]
          },
          "metadata": {},
          "execution_count": 45
        }
      ]
    },
    {
      "cell_type": "markdown",
      "source": [
        "Ahora, se procederá a definir la matriz $A$"
      ],
      "metadata": {
        "id": "U8DFkvI3iFra"
      }
    },
    {
      "cell_type": "markdown",
      "source": [
        "(2) Determina al segundo eje principal del PCA de $X.$"
      ],
      "metadata": {
        "id": "sRinCvgJiBW3"
      }
    },
    {
      "cell_type": "code",
      "source": [
        "A=np.array([3,2,1,2,4,2,1,2,3]).reshape((3,3))\n",
        "# Imprimir en consola la matriz A ajustada a su dimensión.\n",
        "A"
      ],
      "metadata": {
        "colab": {
          "base_uri": "https://localhost:8080/"
        },
        "id": "XpgRFF5aiJ44",
        "outputId": "f49ce839-75ce-4f1b-c8d1-2ac96b631215"
      },
      "execution_count": null,
      "outputs": [
        {
          "output_type": "execute_result",
          "data": {
            "text/plain": [
              "array([[3, 2, 1],\n",
              "       [2, 4, 2],\n",
              "       [1, 2, 3]])"
            ]
          },
          "metadata": {},
          "execution_count": 46
        }
      ]
    },
    {
      "cell_type": "code",
      "source": [
        "A_mean = A - np.mean(A , axis = 0) # Calcular la media por columnas y mostrarla en consola en un arreglo.\n",
        "A_mean"
      ],
      "metadata": {
        "colab": {
          "base_uri": "https://localhost:8080/"
        },
        "id": "nIPD-nkuikLB",
        "outputId": "ea4c23a9-5b63-4277-d842-133f81b75403"
      },
      "execution_count": null,
      "outputs": [
        {
          "output_type": "execute_result",
          "data": {
            "text/plain": [
              "array([[ 1.        , -0.66666667, -1.        ],\n",
              "       [ 0.        ,  1.33333333,  0.        ],\n",
              "       [-1.        , -0.66666667,  1.        ]])"
            ]
          },
          "metadata": {},
          "execution_count": 47
        }
      ]
    },
    {
      "cell_type": "code",
      "source": [
        "VarCovMat_A = np.cov(A_mean, rowvar = False)\n",
        "# Imprimir en consola la matriz de Varianzas-Covarianzas de la matriz dada\n",
        "print(VarCovMat_A)"
      ],
      "metadata": {
        "colab": {
          "base_uri": "https://localhost:8080/"
        },
        "id": "Wd1xoCiLjAAX",
        "outputId": "d5bb04fa-2710-42f2-84a0-7060a0d7b9bc"
      },
      "execution_count": null,
      "outputs": [
        {
          "output_type": "stream",
          "name": "stdout",
          "text": [
            "[[ 1.          0.         -1.        ]\n",
            " [ 0.          1.33333333  0.        ]\n",
            " [-1.          0.          1.        ]]\n"
          ]
        }
      ]
    },
    {
      "cell_type": "code",
      "source": [
        "# Para demostrar que la matriz generada, se procederá a calcular eigenvalores y eigenvectores, para esto, se procederá mediante la sub-biblioteca 'linalgebra'\n",
        "# para realizar el cálulo de ambos parámetros\n",
        "eigen_valA, eigen_vecA = np.linalg.eigh(VarCovMat_A)\n",
        "print('Los eigenvalores correspondientes a la matriz de Varianzas-Covarianzas de Matriz A son:')\n",
        "print(eigen_val_MNsim)\n",
        "print('Los eigenvenctores asociados al Varianzas-Covarianzas de la Matriz A son:')\n",
        "print(eigen_vec_MNsim)"
      ],
      "metadata": {
        "colab": {
          "base_uri": "https://localhost:8080/"
        },
        "id": "NKBC44rYjpjc",
        "outputId": "52a62d93-d5d1-4ad1-a9dc-ccb9e1fe416d"
      },
      "execution_count": null,
      "outputs": [
        {
          "output_type": "stream",
          "name": "stdout",
          "text": [
            "Los eigenvalores correspondientes a la matriz de Varianzas-Covarianzas de Matriz A son:\n",
            "[  2.86998081  37.85334035 144.30455985]\n",
            "Los eigenvenctores asociados al Varianzas-Covarianzas de la Matriz A son:\n",
            "[[-0.20023137  0.27217301  0.94118502]\n",
            " [-0.40141526 -0.89909914  0.17460392]\n",
            " [-0.89374112  0.34284485 -0.28928225]]\n"
          ]
        }
      ]
    },
    {
      "cell_type": "markdown",
      "source": [
        "De aquí, note que hay discrepancias en cada una de las entradas, tanto de eigenvectores cómo de eigenvalores de la matriz $X$ respecto a la $A$; por lo que el cálculo no parece equivalente a simple vista. Solamente que note que al hacer la suma de las diagonales y la traza de la matriz $X$, se obtienen los valores de la matriz $A$."
      ],
      "metadata": {
        "id": "O0yLs6SbkByn"
      }
    },
    {
      "cell_type": "markdown",
      "source": [
        "(3) Provee las coordenadas sobre los segundos ejes por renglones y columnas del PCA de $X$"
      ],
      "metadata": {
        "id": "UHp65njPiDVs"
      }
    },
    {
      "cell_type": "code",
      "source": [
        "projection_MatX = np.dot(X_ex5, eigenvectorEx5_2[:, :2])\n",
        "projection_MatX"
      ],
      "metadata": {
        "colab": {
          "base_uri": "https://localhost:8080/"
        },
        "id": "ta2P2Vepkcn9",
        "outputId": "ba71d73e-5231-4006-8a5a-40280c0532fc"
      },
      "execution_count": null,
      "outputs": [
        {
          "output_type": "execute_result",
          "data": {
            "text/plain": [
              "array([[ 0.00000000e+00,  0.00000000e+00],\n",
              "       [-5.00000000e-01, -7.07106781e-01],\n",
              "       [-1.20710678e+00, -7.07106781e-01],\n",
              "       [-1.70710678e+00,  2.22044605e-16]])"
            ]
          },
          "metadata": {},
          "execution_count": 52
        }
      ]
    },
    {
      "cell_type": "markdown",
      "source": [
        "6-. En 28 años, se han observado 4 estados metereológicos:\n",
        "<li> $\\xi_{1}:$ precipitación en julio\n",
        "<li> $\\xi_{2}:$ temperatura media en julio (en grados Celcius $C$)\n",
        "<li> $\\xi_{3}:$ velocidad media del viento en julio $(en $km/h$)$\n",
        "<li> $\\xi_{4}:$ precipitación en septiembre (en mm).\n",
        "\n",
        "A partir de tales datos,se tiene la matriz de varianzas-covarianzas:\n",
        "\n",
        "$$\\begin{bmatrix}\n",
        "140.017 & 107.881 & 139.068 & 109.065 \\\\\n",
        "0 & 106.038 & 110.0439 & 82.627 \\\\\n",
        "0 & 0 & 168.762 & 125.136 \\\\\n",
        "0 & 0 & 0 & 108.960\n",
        "\\end{bmatrix}$$\n",
        "y las correlaciones empíricas están dadas por:\n",
        "$$\\begin{bmatrix}\n",
        "0.969 & -0.102 & 0.194 & 0.116 \\\\\n",
        "0.907 & -0.392 & -0.106 & -0.111 \\\\\n",
        "0.971 & 0.156 & -0.157 & 0.092 \\\\\n",
        "0.943 & 0.252 & 0.092 & -0.196\n",
        "\\end{bmatrix}$$\n",
        "(1) Calcula las varianzas empirícas de las componentes principales.\n",
        "\n",
        "**Solución:** Por definición, las varianzas empíricas de la $i-$ésima componente, están dadas cómo la suma de las varianzas; ahora, note que se tiene la matriz de varianzas-covarianzas, por lo que se procederá a calcular los pasos restantes del PCA bajo las hipótesis usuales."
      ],
      "metadata": {
        "id": "PE7YRm4L8QGR"
      }
    },
    {
      "cell_type": "code",
      "source": [
        "# Definir la matriz de Varianzas-Covarianzas del estudio realizado durante 28 años:\n",
        "MetVarCov_Mat = np.array([140.017, 107.881, 139.068, 109.065, 0, 106.038, 110.0439, 82.627, 0, 0, 168.762, 125.136, 0, 0, 0, 108.960]).reshape((4,4))\n",
        "MetPearCorr_Mat = np.array([0.969, -0.102, 0.194, 0.116, 0.907, -0.392, -0.106, -0.111, 0.971, 0.156, -0.157, 0.092, 0.943, 0.252, 0.092, -0.196])\n",
        "# De aquí, para determinar las varianzas empíricas, se procederá a tomar solamente los valores contenidos en la diagonal de la matriz de Varianzas-Covarianzas,\n",
        "# por lo que se empleará la función 'np.diag'\n",
        "empirical_var = np.diag(MetVarCov_Mat)\n",
        "print(\"Las varianzas empíricas correspondientes a las componentes principales están dadas por:\")\n",
        "print(empirical_var)"
      ],
      "metadata": {
        "colab": {
          "base_uri": "https://localhost:8080/"
        },
        "id": "8cb6F0hUKkLz",
        "outputId": "dfea50c2-4c48-4c4b-da0b-6b0e894508ea"
      },
      "execution_count": null,
      "outputs": [
        {
          "output_type": "stream",
          "name": "stdout",
          "text": [
            "Las varianzas empíricas correspondientes a las componentes principales están dadas por:\n",
            "[140.017 106.038 168.762 108.96 ]\n"
          ]
        }
      ]
    },
    {
      "cell_type": "markdown",
      "source": [
        "(b) Calcular la parte de la varianza $\\xi_{1}$ explicada por las dos últimas componentes principales, y la parte de la varianza $\\xi_{2}$ explicada por las dos primeras componentes principales.\n",
        "\n",
        "**Solución:** Empleando el código visto en clase, se tiene lo que sigue:"
      ],
      "metadata": {
        "id": "LYf4uGIrOqeC"
      }
    },
    {
      "cell_type": "code",
      "source": [
        "# Para demostrar que la matriz generada es positiva definida, se procederá a calcular eigenvalores y eigenvectores, para esto, se procederá mediante la\n",
        "# sub-biblioteca 'linalgebra' para realizar el cálulo de ambos parámetros\n",
        "eigen_val_Met, eigen_vec_Met = np.linalg.eigh(MetVarCov_Mat)\n",
        "print('Los eigenvalores correspondientes a la matriz de Varianzas-Covarianzas de la muestra generada a partir de la v.a. normal 3-dimensional es:')\n",
        "print(eigen_val_Met)\n",
        "print('Los eigenvenctores asociados al Varianzas-Covarianzas de la muestra generada a partir de la v.a. normal 3-dimensional son:')\n",
        "print(eigen_vec_Met)"
      ],
      "metadata": {
        "colab": {
          "base_uri": "https://localhost:8080/"
        },
        "id": "vx5EAt4FQB9F",
        "outputId": "88505eef-7ed0-4b54-84af-3ae8f92aa9ca"
      },
      "execution_count": null,
      "outputs": [
        {
          "output_type": "stream",
          "name": "stdout",
          "text": [
            "Los eigenvalores correspondientes a la matriz de Varianzas-Covarianzas de la muestra generada a partir de la v.a. normal 3-dimensional es:\n",
            "[106.038 108.96  140.017 168.762]\n",
            "Los eigenvenctores asociados al Varianzas-Covarianzas de la muestra generada a partir de la v.a. normal 3-dimensional son:\n",
            "[[0. 0. 1. 0.]\n",
            " [1. 0. 0. 0.]\n",
            " [0. 0. 0. 1.]\n",
            " [0. 1. 0. 0.]]\n"
          ]
        }
      ]
    },
    {
      "cell_type": "code",
      "source": [
        "# Reescribir los eigenvalores de manera decreciente y que satisfaga el Teorema, por lo que se reescribirán los valores de manera decreciente para que se\n",
        "# encuentren dentro de la cámara de Weyl.\n",
        "eigen_val_Met[::-1]"
      ],
      "metadata": {
        "colab": {
          "base_uri": "https://localhost:8080/"
        },
        "id": "yRhn4HLVQCa5",
        "outputId": "4f0aaeb4-38f6-4ceb-e83e-a557cc778b9c"
      },
      "execution_count": null,
      "outputs": [
        {
          "output_type": "execute_result",
          "data": {
            "text/plain": [
              "array([168.762, 140.017, 108.96 , 106.038])"
            ]
          },
          "metadata": {},
          "execution_count": 4
        }
      ]
    },
    {
      "cell_type": "code",
      "source": [
        "eigen_vec_Met= eigen_vec_Met[:,np.argsort(eigen_val_Met)[::-1]]\n",
        "# Imprimir en consola los eigenvectores correspondientes a la matriz inicial.\n",
        "eigen_vec_Met"
      ],
      "metadata": {
        "colab": {
          "base_uri": "https://localhost:8080/"
        },
        "id": "oeZu7epARzrR",
        "outputId": "7d8ce5ca-8494-4fc0-d9a6-21dc7687a639"
      },
      "execution_count": null,
      "outputs": [
        {
          "output_type": "execute_result",
          "data": {
            "text/plain": [
              "array([[0., 1., 0., 0.],\n",
              "       [0., 0., 0., 1.],\n",
              "       [1., 0., 0., 0.],\n",
              "       [0., 0., 1., 0.]])"
            ]
          },
          "metadata": {},
          "execution_count": 5
        }
      ]
    },
    {
      "cell_type": "code",
      "source": [
        "n_components = 2\n",
        "# Se elegirán ciertos elementos de las entradas pertenecientes a la matriz de eigenvectores generada previamente. Note que la matriz previa ya está ordenada de\n",
        "# acuerdo a los eigenvectores ordenados dentro de la cámara de Weyl\n",
        "eigen_vec_Met = eigen_vec_Met[:,0:n_components]\n",
        "eigen_vec_Met"
      ],
      "metadata": {
        "colab": {
          "base_uri": "https://localhost:8080/"
        },
        "id": "6MQ5Mhi1TA8O",
        "outputId": "7bb49613-a36c-4452-ebdb-b3550b9a35ce"
      },
      "execution_count": null,
      "outputs": [
        {
          "output_type": "execute_result",
          "data": {
            "text/plain": [
              "array([[0., 1.],\n",
              "       [0., 0.],\n",
              "       [1., 0.],\n",
              "       [0., 0.]])"
            ]
          },
          "metadata": {},
          "execution_count": 6
        }
      ]
    },
    {
      "cell_type": "code",
      "source": [
        "expvar_xi_1 = eigen_val_Met[2:].sum() / eigen_val_Met.sum()\n",
        "expvar_xi_2 = eigen_val_Met[:2].sum() / eigen_val_Met.sum()\n",
        "# Imprimir en la consola, la parte de las varianzas explicadas correspondientes a las primeras dos componentes principales, así como las de las últimas dos\n",
        "# componentes principales,\n",
        "print(\"La parte de la varianza explicada correspondiente a las primeras dos componentes principales de la matriz están dadas por\")\n",
        "print(expvar_xi_1)\n",
        "print(\"La parte de la varianza explicada correspondiente a las últimas dos componentes principales de la matriz están dadas por\")\n",
        "print(expvar_xi_2)"
      ],
      "metadata": {
        "colab": {
          "base_uri": "https://localhost:8080/"
        },
        "id": "p1iOthaiTk6l",
        "outputId": "b65d9377-890b-4a3e-8fe4-ec21133a3a0a"
      },
      "execution_count": null,
      "outputs": [
        {
          "output_type": "stream",
          "name": "stdout",
          "text": [
            "La parte de la varianza explicada correspondiente a las primeras dos componentes principales de la matriz están dadas por\n",
            "0.5895237858859781\n",
            "La parte de la varianza explicada correspondiente a las últimas dos componentes principales de la matriz están dadas por\n",
            "0.41047621411402174\n"
          ]
        }
      ]
    },
    {
      "cell_type": "markdown",
      "source": [
        "(c) Realice la proyección de variables sobre los dos primeros ejes principales y comente sus resultados."
      ],
      "metadata": {
        "id": "oDjw-RG7d66e"
      }
    },
    {
      "cell_type": "markdown",
      "source": [
        "8-. En el archivo tortugas.txt se encuentran tres variables, largo, ancho y alto,de los caparazones de 48 tortugas pintadas, 24 hembras y 24 machos. Toma logaritmos de las tres variables. Estime el vector medio y la matriz de varianzas-covarianza de las tortugas macho y de las tortugas hembra por separado Encuentre los valores propios y los vectores propios de cada matriz de covarianza estimada y realice un PCA de cada conjunto de datos. Encuentra unaexpresión para el volumen de l caparazón de una tortuga para machos y hembras. ***(Sugerencia: use el hecho de que las variables son logaritmos de las medidas originales).*** Compare los volumenes de los caparazones de machos y hembras"
      ],
      "metadata": {
        "id": "xP3NFWozt2EQ"
      }
    },
    {
      "cell_type": "code",
      "source": [
        "data_tortoises = {'sex': ['f','f','f','f','f','f','f','f','f','f','f','f','f','f','f','f','f','f','f','f','f','f','f',\n",
        "                       'f','m','m','m','m','m','m','m','m','m','m','m','m','m','m','m','m','m','m','m','m','m','m',\n",
        "                       'm','m'],\n",
        "               'length': [98,103,103,105,109,123,123,133,133,133,134,136,137,138,141,147,149,153,155,155,158,159,162,\n",
        "                          177,93,94,96,101,102,103,104,106,107,112,113,114,116,117,117,119,120,120,121,125,127,128,\n",
        "                          131,135],\n",
        "               'width': [81,84,86,86,88,92,95,99,102,102,100,102,98,99,105,108,107,107,115,117,115,118,124,132,74,78,\n",
        "                         80,84,85,81,83,83,82,89,88,86,90,90,91,93,89,93,95,93,96,95,95,106],\n",
        "               'height':[38,38,42,40,44,50,46,51,51,51,48,49,51,51,53,57,55,56,63,60,62,63,61,67,37,35,35,39,38,37,39,\n",
        "                         39,38,40,40,40,43,41,41,41,40,44,42,45,45,45,46,47]}\n",
        "df_original = pd.DataFrame(data_tortoises)\n",
        "print(df_original)"
      ],
      "metadata": {
        "colab": {
          "base_uri": "https://localhost:8080/"
        },
        "id": "3hWRUeyqzrut",
        "outputId": "ea6448c2-e59b-48e3-c536-0fca411c5c5c"
      },
      "execution_count": null,
      "outputs": [
        {
          "output_type": "stream",
          "name": "stdout",
          "text": [
            "   sex  length  width  height\n",
            "0    f      98     81      38\n",
            "1    f     103     84      38\n",
            "2    f     103     86      42\n",
            "3    f     105     86      40\n",
            "4    f     109     88      44\n",
            "5    f     123     92      50\n",
            "6    f     123     95      46\n",
            "7    f     133     99      51\n",
            "8    f     133    102      51\n",
            "9    f     133    102      51\n",
            "10   f     134    100      48\n",
            "11   f     136    102      49\n",
            "12   f     137     98      51\n",
            "13   f     138     99      51\n",
            "14   f     141    105      53\n",
            "15   f     147    108      57\n",
            "16   f     149    107      55\n",
            "17   f     153    107      56\n",
            "18   f     155    115      63\n",
            "19   f     155    117      60\n",
            "20   f     158    115      62\n",
            "21   f     159    118      63\n",
            "22   f     162    124      61\n",
            "23   f     177    132      67\n",
            "24   m      93     74      37\n",
            "25   m      94     78      35\n",
            "26   m      96     80      35\n",
            "27   m     101     84      39\n",
            "28   m     102     85      38\n",
            "29   m     103     81      37\n",
            "30   m     104     83      39\n",
            "31   m     106     83      39\n",
            "32   m     107     82      38\n",
            "33   m     112     89      40\n",
            "34   m     113     88      40\n",
            "35   m     114     86      40\n",
            "36   m     116     90      43\n",
            "37   m     117     90      41\n",
            "38   m     117     91      41\n",
            "39   m     119     93      41\n",
            "40   m     120     89      40\n",
            "41   m     120     93      44\n",
            "42   m     121     95      42\n",
            "43   m     125     93      45\n",
            "44   m     127     96      45\n",
            "45   m     128     95      45\n",
            "46   m     131     95      46\n",
            "47   m     135    106      47\n"
          ]
        }
      ]
    },
    {
      "cell_type": "markdown",
      "source": [
        "De aquí, para realizar el análisis por Componentes Principales, se procederá a aplicar logaritmo natural a cada una de las variables (largo, ancho y alto), dado esto, el nuevo dataframe estará dado cómo sigue:"
      ],
      "metadata": {
        "id": "CDljceE4yz2y"
      }
    },
    {
      "cell_type": "code",
      "source": [
        "# Crear un DataFrame al que se le introducirán los valores ajustados aplicando el logaritmo natural\n",
        "df_adjlog_tortoise = pd.DataFrame()\n",
        "# Mediante el uso de la función 'numpy.log()' perteneciente a la biblioteca Numpy, se calculará el logaritmo natural de las medidas correspondientes a cada\n",
        "# una de las variables de la base de datos de los caparazones.\n",
        "df_adjlog_tortoise['NatLog_length'] = np.log(df_original['length'])\n",
        "df_adjlog_tortoise['NatLog_width'] = np.log(df_original['width'])\n",
        "df_adjlog_tortoise['NatLog_height'] = np.log(df_original['height'])\n",
        "# Imprimir en consola el nuevo DataFrame con los valores ajustados aplicando la definición del logaritmo natural.\n",
        "print(df_adjlog_tortoise)"
      ],
      "metadata": {
        "colab": {
          "base_uri": "https://localhost:8080/"
        },
        "id": "GMxWRy0dF69M",
        "outputId": "ca4de28e-696d-420f-d8f3-31a8616356f1"
      },
      "execution_count": null,
      "outputs": [
        {
          "output_type": "stream",
          "name": "stdout",
          "text": [
            "    NatLog_length  NatLog_width  NatLog_height\n",
            "0        4.584967      4.394449       3.637586\n",
            "1        4.634729      4.430817       3.637586\n",
            "2        4.634729      4.454347       3.737670\n",
            "3        4.653960      4.454347       3.688879\n",
            "4        4.691348      4.477337       3.784190\n",
            "5        4.812184      4.521789       3.912023\n",
            "6        4.812184      4.553877       3.828641\n",
            "7        4.890349      4.595120       3.931826\n",
            "8        4.890349      4.624973       3.931826\n",
            "9        4.890349      4.624973       3.931826\n",
            "10       4.897840      4.605170       3.871201\n",
            "11       4.912655      4.624973       3.891820\n",
            "12       4.919981      4.584967       3.931826\n",
            "13       4.927254      4.595120       3.931826\n",
            "14       4.948760      4.653960       3.970292\n",
            "15       4.990433      4.682131       4.043051\n",
            "16       5.003946      4.672829       4.007333\n",
            "17       5.030438      4.672829       4.025352\n",
            "18       5.043425      4.744932       4.143135\n",
            "19       5.043425      4.762174       4.094345\n",
            "20       5.062595      4.744932       4.127134\n",
            "21       5.068904      4.770685       4.143135\n",
            "22       5.087596      4.820282       4.110874\n",
            "23       5.176150      4.882802       4.204693\n",
            "24       4.532599      4.304065       3.610918\n",
            "25       4.543295      4.356709       3.555348\n",
            "26       4.564348      4.382027       3.555348\n",
            "27       4.615121      4.430817       3.663562\n",
            "28       4.624973      4.442651       3.637586\n",
            "29       4.634729      4.394449       3.610918\n",
            "30       4.644391      4.418841       3.663562\n",
            "31       4.663439      4.418841       3.663562\n",
            "32       4.672829      4.406719       3.637586\n",
            "33       4.718499      4.488636       3.688879\n",
            "34       4.727388      4.477337       3.688879\n",
            "35       4.736198      4.454347       3.688879\n",
            "36       4.753590      4.499810       3.761200\n",
            "37       4.762174      4.499810       3.713572\n",
            "38       4.762174      4.510860       3.713572\n",
            "39       4.779123      4.532599       3.713572\n",
            "40       4.787492      4.488636       3.688879\n",
            "41       4.787492      4.532599       3.784190\n",
            "42       4.795791      4.553877       3.737670\n",
            "43       4.828314      4.532599       3.806662\n",
            "44       4.844187      4.564348       3.806662\n",
            "45       4.852030      4.553877       3.806662\n",
            "46       4.875197      4.553877       3.828641\n",
            "47       4.905275      4.663439       3.850148\n"
          ]
        }
      ]
    },
    {
      "cell_type": "markdown",
      "source": [
        "Ahora, se procederá a dividir el DataFrame de los datos ajustados en 2, para realizar el PCA por sexo de tortugas; así, se tiene lo que sigue:  "
      ],
      "metadata": {
        "id": "ryKelULVHEip"
      }
    },
    {
      "cell_type": "code",
      "source": [
        "# Seleccionar el índice sobre el cuál se realizará la división para el PCA de los dos sexos de tortugas pintadas mediante el uso de la sentencia\n",
        "# Seleccionar el índice de la fila para dividir\n",
        "division_indexdf = 23  # Cambia esto según tu necesidad\n",
        "\n",
        "# Dividir el DataFrame en dos partes\n",
        "df_adjlogfem_tortoise = df_adjlog_tortoise.iloc[:division_indexdf + 1]\n",
        "df_adjlogmale_tortoise = df_adjlog_tortoise.iloc[division_indexdf + 1:]\n",
        "\n",
        "# Imprimir en consola el DataFrame correspondiente a las tortugas pintadas hembras\n",
        "print('Datos del Caparazón de Tortugas Pintadas Hembra:')\n",
        "print(df_adjlogfem_tortoise)\n",
        "\n",
        "# Imprimir la parte 2 con los mismos encabezados que el original\n",
        "print(\"Datos del Caparazón de Tortugas Pintadas Macho:\")\n",
        "print(df_adjlogmale_tortoise)"
      ],
      "metadata": {
        "colab": {
          "base_uri": "https://localhost:8080/"
        },
        "id": "PAK6DzWEHwkN",
        "outputId": "007695d7-42b4-4e6a-cb3b-c73977237d3b"
      },
      "execution_count": null,
      "outputs": [
        {
          "output_type": "stream",
          "name": "stdout",
          "text": [
            "Datos del Caparazón de Tortugas Pintadas Hembra:\n",
            "    NatLog_length  NatLog_width  NatLog_height\n",
            "0        4.584967      4.394449       3.637586\n",
            "1        4.634729      4.430817       3.637586\n",
            "2        4.634729      4.454347       3.737670\n",
            "3        4.653960      4.454347       3.688879\n",
            "4        4.691348      4.477337       3.784190\n",
            "5        4.812184      4.521789       3.912023\n",
            "6        4.812184      4.553877       3.828641\n",
            "7        4.890349      4.595120       3.931826\n",
            "8        4.890349      4.624973       3.931826\n",
            "9        4.890349      4.624973       3.931826\n",
            "10       4.897840      4.605170       3.871201\n",
            "11       4.912655      4.624973       3.891820\n",
            "12       4.919981      4.584967       3.931826\n",
            "13       4.927254      4.595120       3.931826\n",
            "14       4.948760      4.653960       3.970292\n",
            "15       4.990433      4.682131       4.043051\n",
            "16       5.003946      4.672829       4.007333\n",
            "17       5.030438      4.672829       4.025352\n",
            "18       5.043425      4.744932       4.143135\n",
            "19       5.043425      4.762174       4.094345\n",
            "20       5.062595      4.744932       4.127134\n",
            "21       5.068904      4.770685       4.143135\n",
            "22       5.087596      4.820282       4.110874\n",
            "23       5.176150      4.882802       4.204693\n",
            "Datos del Caparazón de Tortugas Pintadas Macho:\n",
            "    NatLog_length  NatLog_width  NatLog_height\n",
            "24       4.532599      4.304065       3.610918\n",
            "25       4.543295      4.356709       3.555348\n",
            "26       4.564348      4.382027       3.555348\n",
            "27       4.615121      4.430817       3.663562\n",
            "28       4.624973      4.442651       3.637586\n",
            "29       4.634729      4.394449       3.610918\n",
            "30       4.644391      4.418841       3.663562\n",
            "31       4.663439      4.418841       3.663562\n",
            "32       4.672829      4.406719       3.637586\n",
            "33       4.718499      4.488636       3.688879\n",
            "34       4.727388      4.477337       3.688879\n",
            "35       4.736198      4.454347       3.688879\n",
            "36       4.753590      4.499810       3.761200\n",
            "37       4.762174      4.499810       3.713572\n",
            "38       4.762174      4.510860       3.713572\n",
            "39       4.779123      4.532599       3.713572\n",
            "40       4.787492      4.488636       3.688879\n",
            "41       4.787492      4.532599       3.784190\n",
            "42       4.795791      4.553877       3.737670\n",
            "43       4.828314      4.532599       3.806662\n",
            "44       4.844187      4.564348       3.806662\n",
            "45       4.852030      4.553877       3.806662\n",
            "46       4.875197      4.553877       3.828641\n",
            "47       4.905275      4.663439       3.850148\n"
          ]
        }
      ]
    },
    {
      "cell_type": "markdown",
      "source": [
        "#### **Principal Component Analysis (PCA) para el volumen del caparazón de las Tortugas Hembra.**\n",
        "\n",
        "Dado que se tiene un DataFrame correspondiente a las medidas ajustadas mediante la aplicación del logaritmo natural, se procederá mediante a realizar el PCA; se aplicará el proceso por pasos en primera instancia y posteriormente se verificarán los resultados mediante la biblioteca sci-kit.learn\n",
        "\n",
        "**Análisis 'from' scratch**"
      ],
      "metadata": {
        "id": "TBzv52uwMkf-"
      }
    },
    {
      "cell_type": "code",
      "source": [
        "np.mean(df_adjlogfem_tortoise, axis = 0) # Calcula la media por cada una de las variables y posteriormente, realizar la impresión del resultado en la consola."
      ],
      "metadata": {
        "colab": {
          "base_uri": "https://localhost:8080/"
        },
        "id": "3wd_7HZgQMKp",
        "outputId": "9ac3a5f1-f573-43e3-cd62-f85fe56ba81c"
      },
      "execution_count": null,
      "outputs": [
        {
          "output_type": "execute_result",
          "data": {
            "text/plain": [
              "NatLog_length    4.900356\n",
              "NatLog_width     4.622909\n",
              "NatLog_height    3.938253\n",
              "dtype: float64"
            ]
          },
          "metadata": {},
          "execution_count": 57
        }
      ]
    },
    {
      "cell_type": "code",
      "source": [
        "np.mean(df_adjlogfem_tortoise, axis = 1) # Calcula la media por cada uno de los renglones y posteriormente, realizar la impresión del resultado\n",
        "# en la consola."
      ],
      "metadata": {
        "colab": {
          "base_uri": "https://localhost:8080/"
        },
        "id": "AH5rmOsyQmK0",
        "outputId": "eaae57dc-7f34-408a-b243-5060b3fe23f4"
      },
      "execution_count": null,
      "outputs": [
        {
          "output_type": "execute_result",
          "data": {
            "text/plain": [
              "0     4.205668\n",
              "1     4.234377\n",
              "2     4.275582\n",
              "3     4.265729\n",
              "4     4.317625\n",
              "5     4.415332\n",
              "6     4.398234\n",
              "7     4.472432\n",
              "8     4.482383\n",
              "9     4.482383\n",
              "10    4.458070\n",
              "11    4.476483\n",
              "12    4.478925\n",
              "13    4.484733\n",
              "14    4.524337\n",
              "15    4.571872\n",
              "16    4.561369\n",
              "17    4.576206\n",
              "18    4.643831\n",
              "19    4.633315\n",
              "20    4.644887\n",
              "21    4.660908\n",
              "22    4.672917\n",
              "23    4.754548\n",
              "dtype: float64"
            ]
          },
          "metadata": {},
          "execution_count": 58
        }
      ]
    },
    {
      "cell_type": "code",
      "source": [
        "# Centramos a los datos\n",
        "FemTortoiseShells_mean = df_adjlogfem_tortoise - np.mean(df_adjlogfem_tortoise, axis = 0)\n",
        "# Imprimir en consola los valores ajustados respecto a cada una de las variables respecto al primer momento centralizado.\n",
        "FemTortoiseShells_mean"
      ],
      "metadata": {
        "colab": {
          "base_uri": "https://localhost:8080/",
          "height": 802
        },
        "id": "CB-u8lRCRix_",
        "outputId": "c61ec901-b563-48a6-f3a0-6b04ddf93791"
      },
      "execution_count": null,
      "outputs": [
        {
          "output_type": "execute_result",
          "data": {
            "text/plain": [
              "    NatLog_length  NatLog_width  NatLog_height\n",
              "0       -0.315389     -0.228460      -0.300667\n",
              "1       -0.265627     -0.192092      -0.300667\n",
              "2       -0.265627     -0.168562      -0.200583\n",
              "3       -0.246396     -0.168562      -0.249373\n",
              "4       -0.209008     -0.145572      -0.154063\n",
              "5       -0.088172     -0.101120      -0.026230\n",
              "6       -0.088172     -0.069032      -0.109611\n",
              "7       -0.010007     -0.027789      -0.006427\n",
              "8       -0.010007      0.002064      -0.006427\n",
              "9       -0.010007      0.002064      -0.006427\n",
              "10      -0.002517     -0.017739      -0.067052\n",
              "11       0.012299      0.002064      -0.046433\n",
              "12       0.019625     -0.037941      -0.006427\n",
              "13       0.026897     -0.027789      -0.006427\n",
              "14       0.048404      0.031051       0.032039\n",
              "15       0.090076      0.059222       0.104798\n",
              "16       0.103590      0.049920       0.069080\n",
              "17       0.130082      0.049920       0.087099\n",
              "18       0.143069      0.122023       0.204882\n",
              "19       0.143069      0.139265       0.156092\n",
              "20       0.162239      0.122023       0.188882\n",
              "21       0.168548      0.147776       0.204882\n",
              "22       0.187240      0.197373       0.172621\n",
              "23       0.275793      0.259893       0.266440"
            ],
            "text/html": [
              "\n",
              "  <div id=\"df-1cf9f154-3d34-48c2-9153-46e309a58de8\" class=\"colab-df-container\">\n",
              "    <div>\n",
              "<style scoped>\n",
              "    .dataframe tbody tr th:only-of-type {\n",
              "        vertical-align: middle;\n",
              "    }\n",
              "\n",
              "    .dataframe tbody tr th {\n",
              "        vertical-align: top;\n",
              "    }\n",
              "\n",
              "    .dataframe thead th {\n",
              "        text-align: right;\n",
              "    }\n",
              "</style>\n",
              "<table border=\"1\" class=\"dataframe\">\n",
              "  <thead>\n",
              "    <tr style=\"text-align: right;\">\n",
              "      <th></th>\n",
              "      <th>NatLog_length</th>\n",
              "      <th>NatLog_width</th>\n",
              "      <th>NatLog_height</th>\n",
              "    </tr>\n",
              "  </thead>\n",
              "  <tbody>\n",
              "    <tr>\n",
              "      <th>0</th>\n",
              "      <td>-0.315389</td>\n",
              "      <td>-0.228460</td>\n",
              "      <td>-0.300667</td>\n",
              "    </tr>\n",
              "    <tr>\n",
              "      <th>1</th>\n",
              "      <td>-0.265627</td>\n",
              "      <td>-0.192092</td>\n",
              "      <td>-0.300667</td>\n",
              "    </tr>\n",
              "    <tr>\n",
              "      <th>2</th>\n",
              "      <td>-0.265627</td>\n",
              "      <td>-0.168562</td>\n",
              "      <td>-0.200583</td>\n",
              "    </tr>\n",
              "    <tr>\n",
              "      <th>3</th>\n",
              "      <td>-0.246396</td>\n",
              "      <td>-0.168562</td>\n",
              "      <td>-0.249373</td>\n",
              "    </tr>\n",
              "    <tr>\n",
              "      <th>4</th>\n",
              "      <td>-0.209008</td>\n",
              "      <td>-0.145572</td>\n",
              "      <td>-0.154063</td>\n",
              "    </tr>\n",
              "    <tr>\n",
              "      <th>5</th>\n",
              "      <td>-0.088172</td>\n",
              "      <td>-0.101120</td>\n",
              "      <td>-0.026230</td>\n",
              "    </tr>\n",
              "    <tr>\n",
              "      <th>6</th>\n",
              "      <td>-0.088172</td>\n",
              "      <td>-0.069032</td>\n",
              "      <td>-0.109611</td>\n",
              "    </tr>\n",
              "    <tr>\n",
              "      <th>7</th>\n",
              "      <td>-0.010007</td>\n",
              "      <td>-0.027789</td>\n",
              "      <td>-0.006427</td>\n",
              "    </tr>\n",
              "    <tr>\n",
              "      <th>8</th>\n",
              "      <td>-0.010007</td>\n",
              "      <td>0.002064</td>\n",
              "      <td>-0.006427</td>\n",
              "    </tr>\n",
              "    <tr>\n",
              "      <th>9</th>\n",
              "      <td>-0.010007</td>\n",
              "      <td>0.002064</td>\n",
              "      <td>-0.006427</td>\n",
              "    </tr>\n",
              "    <tr>\n",
              "      <th>10</th>\n",
              "      <td>-0.002517</td>\n",
              "      <td>-0.017739</td>\n",
              "      <td>-0.067052</td>\n",
              "    </tr>\n",
              "    <tr>\n",
              "      <th>11</th>\n",
              "      <td>0.012299</td>\n",
              "      <td>0.002064</td>\n",
              "      <td>-0.046433</td>\n",
              "    </tr>\n",
              "    <tr>\n",
              "      <th>12</th>\n",
              "      <td>0.019625</td>\n",
              "      <td>-0.037941</td>\n",
              "      <td>-0.006427</td>\n",
              "    </tr>\n",
              "    <tr>\n",
              "      <th>13</th>\n",
              "      <td>0.026897</td>\n",
              "      <td>-0.027789</td>\n",
              "      <td>-0.006427</td>\n",
              "    </tr>\n",
              "    <tr>\n",
              "      <th>14</th>\n",
              "      <td>0.048404</td>\n",
              "      <td>0.031051</td>\n",
              "      <td>0.032039</td>\n",
              "    </tr>\n",
              "    <tr>\n",
              "      <th>15</th>\n",
              "      <td>0.090076</td>\n",
              "      <td>0.059222</td>\n",
              "      <td>0.104798</td>\n",
              "    </tr>\n",
              "    <tr>\n",
              "      <th>16</th>\n",
              "      <td>0.103590</td>\n",
              "      <td>0.049920</td>\n",
              "      <td>0.069080</td>\n",
              "    </tr>\n",
              "    <tr>\n",
              "      <th>17</th>\n",
              "      <td>0.130082</td>\n",
              "      <td>0.049920</td>\n",
              "      <td>0.087099</td>\n",
              "    </tr>\n",
              "    <tr>\n",
              "      <th>18</th>\n",
              "      <td>0.143069</td>\n",
              "      <td>0.122023</td>\n",
              "      <td>0.204882</td>\n",
              "    </tr>\n",
              "    <tr>\n",
              "      <th>19</th>\n",
              "      <td>0.143069</td>\n",
              "      <td>0.139265</td>\n",
              "      <td>0.156092</td>\n",
              "    </tr>\n",
              "    <tr>\n",
              "      <th>20</th>\n",
              "      <td>0.162239</td>\n",
              "      <td>0.122023</td>\n",
              "      <td>0.188882</td>\n",
              "    </tr>\n",
              "    <tr>\n",
              "      <th>21</th>\n",
              "      <td>0.168548</td>\n",
              "      <td>0.147776</td>\n",
              "      <td>0.204882</td>\n",
              "    </tr>\n",
              "    <tr>\n",
              "      <th>22</th>\n",
              "      <td>0.187240</td>\n",
              "      <td>0.197373</td>\n",
              "      <td>0.172621</td>\n",
              "    </tr>\n",
              "    <tr>\n",
              "      <th>23</th>\n",
              "      <td>0.275793</td>\n",
              "      <td>0.259893</td>\n",
              "      <td>0.266440</td>\n",
              "    </tr>\n",
              "  </tbody>\n",
              "</table>\n",
              "</div>\n",
              "    <div class=\"colab-df-buttons\">\n",
              "\n",
              "  <div class=\"colab-df-container\">\n",
              "    <button class=\"colab-df-convert\" onclick=\"convertToInteractive('df-1cf9f154-3d34-48c2-9153-46e309a58de8')\"\n",
              "            title=\"Convert this dataframe to an interactive table.\"\n",
              "            style=\"display:none;\">\n",
              "\n",
              "  <svg xmlns=\"http://www.w3.org/2000/svg\" height=\"24px\" viewBox=\"0 -960 960 960\">\n",
              "    <path d=\"M120-120v-720h720v720H120Zm60-500h600v-160H180v160Zm220 220h160v-160H400v160Zm0 220h160v-160H400v160ZM180-400h160v-160H180v160Zm440 0h160v-160H620v160ZM180-180h160v-160H180v160Zm440 0h160v-160H620v160Z\"/>\n",
              "  </svg>\n",
              "    </button>\n",
              "\n",
              "  <style>\n",
              "    .colab-df-container {\n",
              "      display:flex;\n",
              "      gap: 12px;\n",
              "    }\n",
              "\n",
              "    .colab-df-convert {\n",
              "      background-color: #E8F0FE;\n",
              "      border: none;\n",
              "      border-radius: 50%;\n",
              "      cursor: pointer;\n",
              "      display: none;\n",
              "      fill: #1967D2;\n",
              "      height: 32px;\n",
              "      padding: 0 0 0 0;\n",
              "      width: 32px;\n",
              "    }\n",
              "\n",
              "    .colab-df-convert:hover {\n",
              "      background-color: #E2EBFA;\n",
              "      box-shadow: 0px 1px 2px rgba(60, 64, 67, 0.3), 0px 1px 3px 1px rgba(60, 64, 67, 0.15);\n",
              "      fill: #174EA6;\n",
              "    }\n",
              "\n",
              "    .colab-df-buttons div {\n",
              "      margin-bottom: 4px;\n",
              "    }\n",
              "\n",
              "    [theme=dark] .colab-df-convert {\n",
              "      background-color: #3B4455;\n",
              "      fill: #D2E3FC;\n",
              "    }\n",
              "\n",
              "    [theme=dark] .colab-df-convert:hover {\n",
              "      background-color: #434B5C;\n",
              "      box-shadow: 0px 1px 3px 1px rgba(0, 0, 0, 0.15);\n",
              "      filter: drop-shadow(0px 1px 2px rgba(0, 0, 0, 0.3));\n",
              "      fill: #FFFFFF;\n",
              "    }\n",
              "  </style>\n",
              "\n",
              "    <script>\n",
              "      const buttonEl =\n",
              "        document.querySelector('#df-1cf9f154-3d34-48c2-9153-46e309a58de8 button.colab-df-convert');\n",
              "      buttonEl.style.display =\n",
              "        google.colab.kernel.accessAllowed ? 'block' : 'none';\n",
              "\n",
              "      async function convertToInteractive(key) {\n",
              "        const element = document.querySelector('#df-1cf9f154-3d34-48c2-9153-46e309a58de8');\n",
              "        const dataTable =\n",
              "          await google.colab.kernel.invokeFunction('convertToInteractive',\n",
              "                                                    [key], {});\n",
              "        if (!dataTable) return;\n",
              "\n",
              "        const docLinkHtml = 'Like what you see? Visit the ' +\n",
              "          '<a target=\"_blank\" href=https://colab.research.google.com/notebooks/data_table.ipynb>data table notebook</a>'\n",
              "          + ' to learn more about interactive tables.';\n",
              "        element.innerHTML = '';\n",
              "        dataTable['output_type'] = 'display_data';\n",
              "        await google.colab.output.renderOutput(dataTable, element);\n",
              "        const docLink = document.createElement('div');\n",
              "        docLink.innerHTML = docLinkHtml;\n",
              "        element.appendChild(docLink);\n",
              "      }\n",
              "    </script>\n",
              "  </div>\n",
              "\n",
              "\n",
              "<div id=\"df-36ef15be-2da3-4dc7-b611-15adeac08fd6\">\n",
              "  <button class=\"colab-df-quickchart\" onclick=\"quickchart('df-36ef15be-2da3-4dc7-b611-15adeac08fd6')\"\n",
              "            title=\"Suggest charts\"\n",
              "            style=\"display:none;\">\n",
              "\n",
              "<svg xmlns=\"http://www.w3.org/2000/svg\" height=\"24px\"viewBox=\"0 0 24 24\"\n",
              "     width=\"24px\">\n",
              "    <g>\n",
              "        <path d=\"M19 3H5c-1.1 0-2 .9-2 2v14c0 1.1.9 2 2 2h14c1.1 0 2-.9 2-2V5c0-1.1-.9-2-2-2zM9 17H7v-7h2v7zm4 0h-2V7h2v10zm4 0h-2v-4h2v4z\"/>\n",
              "    </g>\n",
              "</svg>\n",
              "  </button>\n",
              "\n",
              "<style>\n",
              "  .colab-df-quickchart {\n",
              "      --bg-color: #E8F0FE;\n",
              "      --fill-color: #1967D2;\n",
              "      --hover-bg-color: #E2EBFA;\n",
              "      --hover-fill-color: #174EA6;\n",
              "      --disabled-fill-color: #AAA;\n",
              "      --disabled-bg-color: #DDD;\n",
              "  }\n",
              "\n",
              "  [theme=dark] .colab-df-quickchart {\n",
              "      --bg-color: #3B4455;\n",
              "      --fill-color: #D2E3FC;\n",
              "      --hover-bg-color: #434B5C;\n",
              "      --hover-fill-color: #FFFFFF;\n",
              "      --disabled-bg-color: #3B4455;\n",
              "      --disabled-fill-color: #666;\n",
              "  }\n",
              "\n",
              "  .colab-df-quickchart {\n",
              "    background-color: var(--bg-color);\n",
              "    border: none;\n",
              "    border-radius: 50%;\n",
              "    cursor: pointer;\n",
              "    display: none;\n",
              "    fill: var(--fill-color);\n",
              "    height: 32px;\n",
              "    padding: 0;\n",
              "    width: 32px;\n",
              "  }\n",
              "\n",
              "  .colab-df-quickchart:hover {\n",
              "    background-color: var(--hover-bg-color);\n",
              "    box-shadow: 0 1px 2px rgba(60, 64, 67, 0.3), 0 1px 3px 1px rgba(60, 64, 67, 0.15);\n",
              "    fill: var(--button-hover-fill-color);\n",
              "  }\n",
              "\n",
              "  .colab-df-quickchart-complete:disabled,\n",
              "  .colab-df-quickchart-complete:disabled:hover {\n",
              "    background-color: var(--disabled-bg-color);\n",
              "    fill: var(--disabled-fill-color);\n",
              "    box-shadow: none;\n",
              "  }\n",
              "\n",
              "  .colab-df-spinner {\n",
              "    border: 2px solid var(--fill-color);\n",
              "    border-color: transparent;\n",
              "    border-bottom-color: var(--fill-color);\n",
              "    animation:\n",
              "      spin 1s steps(1) infinite;\n",
              "  }\n",
              "\n",
              "  @keyframes spin {\n",
              "    0% {\n",
              "      border-color: transparent;\n",
              "      border-bottom-color: var(--fill-color);\n",
              "      border-left-color: var(--fill-color);\n",
              "    }\n",
              "    20% {\n",
              "      border-color: transparent;\n",
              "      border-left-color: var(--fill-color);\n",
              "      border-top-color: var(--fill-color);\n",
              "    }\n",
              "    30% {\n",
              "      border-color: transparent;\n",
              "      border-left-color: var(--fill-color);\n",
              "      border-top-color: var(--fill-color);\n",
              "      border-right-color: var(--fill-color);\n",
              "    }\n",
              "    40% {\n",
              "      border-color: transparent;\n",
              "      border-right-color: var(--fill-color);\n",
              "      border-top-color: var(--fill-color);\n",
              "    }\n",
              "    60% {\n",
              "      border-color: transparent;\n",
              "      border-right-color: var(--fill-color);\n",
              "    }\n",
              "    80% {\n",
              "      border-color: transparent;\n",
              "      border-right-color: var(--fill-color);\n",
              "      border-bottom-color: var(--fill-color);\n",
              "    }\n",
              "    90% {\n",
              "      border-color: transparent;\n",
              "      border-bottom-color: var(--fill-color);\n",
              "    }\n",
              "  }\n",
              "</style>\n",
              "\n",
              "  <script>\n",
              "    async function quickchart(key) {\n",
              "      const quickchartButtonEl =\n",
              "        document.querySelector('#' + key + ' button');\n",
              "      quickchartButtonEl.disabled = true;  // To prevent multiple clicks.\n",
              "      quickchartButtonEl.classList.add('colab-df-spinner');\n",
              "      try {\n",
              "        const charts = await google.colab.kernel.invokeFunction(\n",
              "            'suggestCharts', [key], {});\n",
              "      } catch (error) {\n",
              "        console.error('Error during call to suggestCharts:', error);\n",
              "      }\n",
              "      quickchartButtonEl.classList.remove('colab-df-spinner');\n",
              "      quickchartButtonEl.classList.add('colab-df-quickchart-complete');\n",
              "    }\n",
              "    (() => {\n",
              "      let quickchartButtonEl =\n",
              "        document.querySelector('#df-36ef15be-2da3-4dc7-b611-15adeac08fd6 button');\n",
              "      quickchartButtonEl.style.display =\n",
              "        google.colab.kernel.accessAllowed ? 'block' : 'none';\n",
              "    })();\n",
              "  </script>\n",
              "</div>\n",
              "\n",
              "  <div id=\"id_f760da3f-c13b-4859-819f-c883b91c6943\">\n",
              "    <style>\n",
              "      .colab-df-generate {\n",
              "        background-color: #E8F0FE;\n",
              "        border: none;\n",
              "        border-radius: 50%;\n",
              "        cursor: pointer;\n",
              "        display: none;\n",
              "        fill: #1967D2;\n",
              "        height: 32px;\n",
              "        padding: 0 0 0 0;\n",
              "        width: 32px;\n",
              "      }\n",
              "\n",
              "      .colab-df-generate:hover {\n",
              "        background-color: #E2EBFA;\n",
              "        box-shadow: 0px 1px 2px rgba(60, 64, 67, 0.3), 0px 1px 3px 1px rgba(60, 64, 67, 0.15);\n",
              "        fill: #174EA6;\n",
              "      }\n",
              "\n",
              "      [theme=dark] .colab-df-generate {\n",
              "        background-color: #3B4455;\n",
              "        fill: #D2E3FC;\n",
              "      }\n",
              "\n",
              "      [theme=dark] .colab-df-generate:hover {\n",
              "        background-color: #434B5C;\n",
              "        box-shadow: 0px 1px 3px 1px rgba(0, 0, 0, 0.15);\n",
              "        filter: drop-shadow(0px 1px 2px rgba(0, 0, 0, 0.3));\n",
              "        fill: #FFFFFF;\n",
              "      }\n",
              "    </style>\n",
              "    <button class=\"colab-df-generate\" onclick=\"generateWithVariable('FemTortoiseShells_mean')\"\n",
              "            title=\"Generate code using this dataframe.\"\n",
              "            style=\"display:none;\">\n",
              "\n",
              "  <svg xmlns=\"http://www.w3.org/2000/svg\" height=\"24px\"viewBox=\"0 0 24 24\"\n",
              "       width=\"24px\">\n",
              "    <path d=\"M7,19H8.4L18.45,9,17,7.55,7,17.6ZM5,21V16.75L18.45,3.32a2,2,0,0,1,2.83,0l1.4,1.43a1.91,1.91,0,0,1,.58,1.4,1.91,1.91,0,0,1-.58,1.4L9.25,21ZM18.45,9,17,7.55Zm-12,3A5.31,5.31,0,0,0,4.9,8.1,5.31,5.31,0,0,0,1,6.5,5.31,5.31,0,0,0,4.9,4.9,5.31,5.31,0,0,0,6.5,1,5.31,5.31,0,0,0,8.1,4.9,5.31,5.31,0,0,0,12,6.5,5.46,5.46,0,0,0,6.5,12Z\"/>\n",
              "  </svg>\n",
              "    </button>\n",
              "    <script>\n",
              "      (() => {\n",
              "      const buttonEl =\n",
              "        document.querySelector('#id_f760da3f-c13b-4859-819f-c883b91c6943 button.colab-df-generate');\n",
              "      buttonEl.style.display =\n",
              "        google.colab.kernel.accessAllowed ? 'block' : 'none';\n",
              "\n",
              "      buttonEl.onclick = () => {\n",
              "        google.colab.notebook.generateWithVariable('FemTortoiseShells_mean');\n",
              "      }\n",
              "      })();\n",
              "    </script>\n",
              "  </div>\n",
              "\n",
              "    </div>\n",
              "  </div>\n"
            ],
            "application/vnd.google.colaboratory.intrinsic+json": {
              "type": "dataframe",
              "variable_name": "FemTortoiseShells_mean",
              "summary": "{\n  \"name\": \"FemTortoiseShells_mean\",\n  \"rows\": 24,\n  \"fields\": [\n    {\n      \"column\": \"NatLog_length\",\n      \"properties\": {\n        \"dtype\": \"number\",\n        \"std\": 0.16245311185385128,\n        \"min\": -0.31538882637049515,\n        \"max\": 0.27579342753276137,\n        \"samples\": [\n          -0.31538882637049515,\n          -0.010007176819313734,\n          0.09007628173766857\n        ],\n        \"num_unique_values\": 19,\n        \"semantic_type\": \"\",\n        \"description\": \"\"\n      }\n    },\n    {\n      \"column\": \"NatLog_width\",\n      \"properties\": {\n        \"dtype\": \"number\",\n        \"std\": 0.12724168446054712,\n        \"min\": -0.22845976967414838,\n        \"max\": 0.25989299823978307,\n        \"samples\": [\n          -0.22845976967414838,\n          -0.19209212550327415,\n          -0.01773873835849571\n        ],\n        \"num_unique_values\": 18,\n        \"semantic_type\": \"\",\n        \"description\": \"\"\n      }\n    },\n    {\n      \"column\": \"NatLog_height\",\n      \"properties\": {\n        \"dtype\": \"number\",\n        \"std\": 0.1609304422786123,\n        \"min\": -0.30066666699422084,\n        \"max\": 0.2664397926703592,\n        \"samples\": [\n          -0.30066666699422084,\n          -0.2005832084372381,\n          -0.04643252860998004\n        ],\n        \"num_unique_values\": 18,\n        \"semantic_type\": \"\",\n        \"description\": \"\"\n      }\n    }\n  ]\n}"
            }
          },
          "metadata": {},
          "execution_count": 59
        }
      ]
    },
    {
      "cell_type": "code",
      "source": [
        "# Matriz de Varianzas-Covarianzas\n",
        "VarCov_FemTortoise= np.cov(FemTortoiseShells_mean, rowvar = False)\n",
        "\n",
        "print(VarCov_FemTortoise)"
      ],
      "metadata": {
        "colab": {
          "base_uri": "https://localhost:8080/"
        },
        "id": "WzUmGj5dUMS7",
        "outputId": "8a9bb104-e7a4-467c-cbf4-136469d05c5a"
      },
      "execution_count": null,
      "outputs": [
        {
          "output_type": "stream",
          "name": "stdout",
          "text": [
            "[[0.02639101 0.02012395 0.02544294]\n",
            " [0.02012395 0.01619045 0.01978187]\n",
            " [0.02544294 0.01978187 0.02589861]]\n"
          ]
        }
      ]
    },
    {
      "cell_type": "code",
      "source": [
        "# Para demostrar que la matriz generada, se procederá a calcular eigenvalores y eigenvectores, para esto, se empleará la función 'eigh' de la sub-biblioteca\n",
        "# 'linalgebra' para realizar el cálculo de ambos parámetros\n",
        "eigen_val_FemT, eigen_vec_FemT = np.linalg.eigh(VarCov_FemTortoise)\n",
        "print('Los eigenvalores correspondientes a la matriz de Varianzas-Covarianzas de los caparazones de las tortugas hembras son:')\n",
        "print(eigen_val_FemT)\n",
        "print('Los eigenvenctores asociados al Varianzas-Covarianzas de los caparazones de las tortugas hembra son:')\n",
        "print(eigen_vec_FemT)"
      ],
      "metadata": {
        "colab": {
          "base_uri": "https://localhost:8080/"
        },
        "id": "uJi-Tb8UVW3Q",
        "outputId": "78f784e5-23c3-4820-bd68-093587580304"
      },
      "execution_count": null,
      "outputs": [
        {
          "output_type": "stream",
          "name": "stdout",
          "text": [
            "Los eigenvalores correspondientes a la matriz de Varianzas-Covarianzas de los caparazones de las tortugas hembras son:\n",
            "[0.00053    0.00075045 0.06719961]\n",
            "Los eigenvenctores asociados al Varianzas-Covarianzas de los caparazones de las tortugas hembra son:\n",
            "[[-0.63686634 -0.45517943 -0.62226438]\n",
            " [ 0.77002303 -0.41561932 -0.48407139]\n",
            " [ 0.03828576  0.78744668 -0.6151926 ]]\n"
          ]
        }
      ]
    },
    {
      "cell_type": "code",
      "source": [
        "# Reescribir los eigenvalores de manera decreciente y que satisfaga el Teorema, por lo que se reescribirán los valores de manera decreciente para que se\n",
        "# encuentren dentro de la cámara de Weyl.\n",
        "eigen_val_FemT[::-1]"
      ],
      "metadata": {
        "colab": {
          "base_uri": "https://localhost:8080/"
        },
        "id": "A-fvsxRzdG-W",
        "outputId": "4aff385a-b7a1-4d9c-d30e-ad2ba32c1a54"
      },
      "execution_count": null,
      "outputs": [
        {
          "output_type": "execute_result",
          "data": {
            "text/plain": [
              "array([0.06719961, 0.00075045, 0.00053   ])"
            ]
          },
          "metadata": {},
          "execution_count": 62
        }
      ]
    },
    {
      "cell_type": "code",
      "source": [
        "eigen_vec_FemT = eigen_vec_FemT[:,np.argsort(eigen_val_FemT)[::-1]]\n",
        "\n",
        "print(eigen_vec_FemT)"
      ],
      "metadata": {
        "colab": {
          "base_uri": "https://localhost:8080/"
        },
        "id": "SmHPCAlKdI67",
        "outputId": "0e3e886e-57bc-4d1d-80c5-eddfb790584b"
      },
      "execution_count": null,
      "outputs": [
        {
          "output_type": "stream",
          "name": "stdout",
          "text": [
            "[[-0.62226438 -0.45517943 -0.63686634]\n",
            " [-0.48407139 -0.41561932  0.77002303]\n",
            " [-0.6151926   0.78744668  0.03828576]]\n"
          ]
        }
      ]
    },
    {
      "cell_type": "markdown",
      "source": [
        "Finalmente, se procederá a realizar el PCA para un determinado número de componentes principales de acuerdo  a la dimensión"
      ],
      "metadata": {
        "id": "8h4P_ry4eFDV"
      }
    },
    {
      "cell_type": "code",
      "source": [
        "n_componentsFT = 2\n",
        "# Se elegirán ciertos elementos de las entradas pertenecientes a la matriz de eigenvectores generada previamente. Note que la matriz previa ya está ordenada de\n",
        "# acuerdo con los eigenvectores ordenados de manera ascendente dentro de la cámara de Weyl.\n",
        "eigenvectors_FemT = eigen_vec_FemT[:,0:n_componentsFT]\n",
        "# Imprimir en consola la nueva matriz de eigenvectores correspondiente al PCA.\n",
        "print(eigenvectors_FemT)"
      ],
      "metadata": {
        "colab": {
          "base_uri": "https://localhost:8080/"
        },
        "id": "NPx3JBpFdIrM",
        "outputId": "ed88e3dc-d9fe-4590-8835-3b298e13dc6f"
      },
      "execution_count": null,
      "outputs": [
        {
          "output_type": "stream",
          "name": "stdout",
          "text": [
            "[[-0.62226438 -0.45517943]\n",
            " [-0.48407139 -0.41561932]\n",
            " [-0.6151926   0.78744668]]\n"
          ]
        }
      ]
    },
    {
      "cell_type": "code",
      "source": [
        "# Descomposición espectral\n",
        "FemTortoise_red = np.dot(eigenvectors_FemT.transpose(),FemTortoiseShells_mean.transpose()).transpose()\n",
        "\n",
        "FemTortoise_red"
      ],
      "metadata": {
        "colab": {
          "base_uri": "https://localhost:8080/"
        },
        "id": "893drS7ff38B",
        "outputId": "8ca81c9b-6254-4f79-f7bb-a0bb0ccf9520"
      },
      "execution_count": null,
      "outputs": [
        {
          "output_type": "execute_result",
          "data": {
            "text/plain": [
              "array([[ 4.91813978e-01,  1.75183340e-03],\n",
              "       [ 4.43244627e-01, -3.60136778e-02],\n",
              "       [ 3.70283584e-01,  3.30169796e-02],\n",
              "       [ 3.88331940e-01, -1.41563933e-02],\n",
              "       [ 2.95304326e-01,  3.43223674e-02],\n",
              "       [ 1.19952122e-01,  6.15070423e-02],\n",
              "       [ 1.55714836e-01, -1.74880519e-02],\n",
              "       [ 2.36329677e-02,  1.10436646e-02],\n",
              "       [ 9.18200222e-03, -1.36380361e-03],\n",
              "       [ 9.18200222e-03, -1.36380361e-03],\n",
              "       [ 5.14025281e-02, -4.42817057e-02],\n",
              "       [ 1.99129098e-02, -4.30189934e-02],\n",
              "       [ 1.01086282e-02,  1.77540156e-03],\n",
              "       [ 6.68576586e-04, -5.75453061e-03],\n",
              "       [-6.48611428e-02, -9.70881652e-03],\n",
              "       [-1.49190309e-01,  1.69083801e-02],\n",
              "       [-1.31122893e-01, -1.35026182e-02],\n",
              "       [-1.58692533e-01, -1.13724444e-02],\n",
              "       [-2.74136396e-01,  4.54963892e-02],\n",
              "       [-2.52467313e-01, -8.92911766e-05],\n",
              "       [-2.76221860e-01,  2.41712221e-02],\n",
              "       [-3.02457169e-01,  2.31955988e-02],\n",
              "       [-3.18250434e-01, -3.13298313e-02],\n",
              "       [-4.61334979e-01, -2.37449177e-02]])"
            ]
          },
          "metadata": {},
          "execution_count": 65
        }
      ]
    },
    {
      "cell_type": "markdown",
      "source": [
        "Finalmente, se procederá a realizar el gráfico de pedregal correspondiente a las dimensiones de los caparazones de tortuga de las hembras."
      ],
      "metadata": {
        "id": "wg25Wc-kPKMH"
      }
    },
    {
      "cell_type": "code",
      "source": [
        "def plot_FemaleTortoise(df_adjlogfem_tortoise,FemTortoise_red):\n",
        "  plt.scatter(df_adjlogfem_tortoise['NatLog_length'],df_adjlogfem_tortoise['NatLog_width'],c=df_adjlogfem_tortoise['NatLog_height'], alpha=0.4)\n",
        "  plt.plot(FemTortoise_red[0,:], FemTortoise_red[1,:], lw=2)\n",
        "  plt.xlabel(\"Componente Principal 1\")\n",
        "  plt.ylabel(\"Componente Principal 2\")\n",
        "  plt.show()\n",
        "\n",
        "\n",
        "plot_FemaleTortoise(df_adjlogfem_tortoise,FemTortoise_red)"
      ],
      "metadata": {
        "colab": {
          "base_uri": "https://localhost:8080/",
          "height": 449
        },
        "id": "iPzvjCyryzgD",
        "outputId": "b73a4be4-81a0-4dcb-f8d5-f7c7b0acc06c"
      },
      "execution_count": null,
      "outputs": [
        {
          "output_type": "display_data",
          "data": {
            "text/plain": [
              "<Figure size 640x480 with 1 Axes>"
            ],
            "image/png": "[encoded data removed]"
          },
          "metadata": {}
        }
      ]
    },
    {
      "cell_type": "markdown",
      "source": [
        "#### **Principal Component Analysis (PCA) para el volumen del caparazón de las Tortugas Macho.**\n",
        "\n",
        "Dado que se tiene un DataFrame correspondiente a las medidas ajustadas mediante la aplicación del logaritmo natural, se procederá mediante a realizar el PCA; se aplicará el proceso por pasos en primera instancia y posteriormente se verificarán los resultados mediante la biblioteca sci-kit.learn\n",
        "\n",
        "**Análisis 'from' scratch**"
      ],
      "metadata": {
        "id": "OPaEIRyVfXXF"
      }
    },
    {
      "cell_type": "code",
      "source": [
        "np.mean(df_adjlogmale_tortoise, axis = 0) # Calcula la media por cada una de las variables y posteriormente, realizar la impresión del resultado en la consola."
      ],
      "metadata": {
        "colab": {
          "base_uri": "https://localhost:8080/"
        },
        "id": "ccVXoyfAgzm7",
        "outputId": "fe515ebf-eb44-474d-ae06-f4b47859f286"
      },
      "execution_count": null,
      "outputs": [
        {
          "output_type": "execute_result",
          "data": {
            "text/plain": [
              "NatLog_length    4.725444\n",
              "NatLog_width     4.477574\n",
              "NatLog_height    3.703186\n",
              "dtype: float64"
            ]
          },
          "metadata": {},
          "execution_count": 67
        }
      ]
    },
    {
      "cell_type": "code",
      "source": [
        "np.mean(df_adjlogmale_tortoise, axis = 1) # Calcula la media por cada uno de los renglones y posteriormente, realizar la impresión del resultado\n",
        "# en la consola."
      ],
      "metadata": {
        "colab": {
          "base_uri": "https://localhost:8080/"
        },
        "id": "qaTki5nRhHt3",
        "outputId": "fcd6255e-05dd-4d1d-dfd4-fc37fc047429"
      },
      "execution_count": null,
      "outputs": [
        {
          "output_type": "execute_result",
          "data": {
            "text/plain": [
              "24    4.149194\n",
              "25    4.151784\n",
              "26    4.167241\n",
              "27    4.236500\n",
              "28    4.235070\n",
              "29    4.213365\n",
              "30    4.242264\n",
              "31    4.248614\n",
              "32    4.239045\n",
              "33    4.298672\n",
              "34    4.297868\n",
              "35    4.293142\n",
              "36    4.338200\n",
              "37    4.325185\n",
              "38    4.328869\n",
              "39    4.341765\n",
              "40    4.321669\n",
              "41    4.368094\n",
              "42    4.362446\n",
              "43    4.389192\n",
              "44    4.405066\n",
              "45    4.404190\n",
              "46    4.419239\n",
              "47    4.472954\n",
              "dtype: float64"
            ]
          },
          "metadata": {},
          "execution_count": 68
        }
      ]
    },
    {
      "cell_type": "code",
      "source": [
        "# Centramos a los datos\n",
        "MaleTortoiseShells_mean = df_adjlogmale_tortoise - np.mean(df_adjlogmale_tortoise, axis = 0)\n",
        "# Imprimir en consola los valores ajustados respecto a cada una de las variables respecto al primer momento centralizado.\n",
        "MaleTortoiseShells_mean"
      ],
      "metadata": {
        "colab": {
          "base_uri": "https://localhost:8080/",
          "height": 802
        },
        "id": "evcH1TrSh210",
        "outputId": "c032b118-d7c7-403e-a24b-7e208a6cc827"
      },
      "execution_count": null,
      "outputs": [
        {
          "output_type": "execute_result",
          "data": {
            "text/plain": [
              "    NatLog_length  NatLog_width  NatLog_height\n",
              "24      -0.192844     -0.173509      -0.092268\n",
              "25      -0.182149     -0.120865      -0.147838\n",
              "26      -0.161095     -0.095547      -0.147838\n",
              "27      -0.110323     -0.046757      -0.039624\n",
              "28      -0.100471     -0.034923      -0.065600\n",
              "29      -0.090715     -0.083125      -0.092268\n",
              "30      -0.081053     -0.058733      -0.039624\n",
              "31      -0.062005     -0.058733      -0.039624\n",
              "32      -0.052615     -0.070855      -0.065600\n",
              "33      -0.006945      0.011063      -0.014306\n",
              "34       0.001944     -0.000237      -0.014306\n",
              "35       0.010755     -0.023226      -0.014306\n",
              "36       0.028147      0.022236       0.058014\n",
              "37       0.036730      0.022236       0.010386\n",
              "38       0.036730      0.033286       0.010386\n",
              "39       0.053680      0.055026       0.010386\n",
              "40       0.062048      0.011063      -0.014306\n",
              "41       0.062048      0.055026       0.081004\n",
              "42       0.070347      0.076303       0.034484\n",
              "43       0.102870      0.055026       0.103477\n",
              "44       0.118743      0.086774       0.103477\n",
              "45       0.126587      0.076303       0.103477\n",
              "46       0.149754      0.076303       0.125456\n",
              "47       0.179831      0.185865       0.146962"
            ],
            "text/html": [
              "\n",
              "  <div id=\"df-5823e4e7-faeb-4263-9358-14a024795d05\" class=\"colab-df-container\">\n",
              "    <div>\n",
              "<style scoped>\n",
              "    .dataframe tbody tr th:only-of-type {\n",
              "        vertical-align: middle;\n",
              "    }\n",
              "\n",
              "    .dataframe tbody tr th {\n",
              "        vertical-align: top;\n",
              "    }\n",
              "\n",
              "    .dataframe thead th {\n",
              "        text-align: right;\n",
              "    }\n",
              "</style>\n",
              "<table border=\"1\" class=\"dataframe\">\n",
              "  <thead>\n",
              "    <tr style=\"text-align: right;\">\n",
              "      <th></th>\n",
              "      <th>NatLog_length</th>\n",
              "      <th>NatLog_width</th>\n",
              "      <th>NatLog_height</th>\n",
              "    </tr>\n",
              "  </thead>\n",
              "  <tbody>\n",
              "    <tr>\n",
              "      <th>24</th>\n",
              "      <td>-0.192844</td>\n",
              "      <td>-0.173509</td>\n",
              "      <td>-0.092268</td>\n",
              "    </tr>\n",
              "    <tr>\n",
              "      <th>25</th>\n",
              "      <td>-0.182149</td>\n",
              "      <td>-0.120865</td>\n",
              "      <td>-0.147838</td>\n",
              "    </tr>\n",
              "    <tr>\n",
              "      <th>26</th>\n",
              "      <td>-0.161095</td>\n",
              "      <td>-0.095547</td>\n",
              "      <td>-0.147838</td>\n",
              "    </tr>\n",
              "    <tr>\n",
              "      <th>27</th>\n",
              "      <td>-0.110323</td>\n",
              "      <td>-0.046757</td>\n",
              "      <td>-0.039624</td>\n",
              "    </tr>\n",
              "    <tr>\n",
              "      <th>28</th>\n",
              "      <td>-0.100471</td>\n",
              "      <td>-0.034923</td>\n",
              "      <td>-0.065600</td>\n",
              "    </tr>\n",
              "    <tr>\n",
              "      <th>29</th>\n",
              "      <td>-0.090715</td>\n",
              "      <td>-0.083125</td>\n",
              "      <td>-0.092268</td>\n",
              "    </tr>\n",
              "    <tr>\n",
              "      <th>30</th>\n",
              "      <td>-0.081053</td>\n",
              "      <td>-0.058733</td>\n",
              "      <td>-0.039624</td>\n",
              "    </tr>\n",
              "    <tr>\n",
              "      <th>31</th>\n",
              "      <td>-0.062005</td>\n",
              "      <td>-0.058733</td>\n",
              "      <td>-0.039624</td>\n",
              "    </tr>\n",
              "    <tr>\n",
              "      <th>32</th>\n",
              "      <td>-0.052615</td>\n",
              "      <td>-0.070855</td>\n",
              "      <td>-0.065600</td>\n",
              "    </tr>\n",
              "    <tr>\n",
              "      <th>33</th>\n",
              "      <td>-0.006945</td>\n",
              "      <td>0.011063</td>\n",
              "      <td>-0.014306</td>\n",
              "    </tr>\n",
              "    <tr>\n",
              "      <th>34</th>\n",
              "      <td>0.001944</td>\n",
              "      <td>-0.000237</td>\n",
              "      <td>-0.014306</td>\n",
              "    </tr>\n",
              "    <tr>\n",
              "      <th>35</th>\n",
              "      <td>0.010755</td>\n",
              "      <td>-0.023226</td>\n",
              "      <td>-0.014306</td>\n",
              "    </tr>\n",
              "    <tr>\n",
              "      <th>36</th>\n",
              "      <td>0.028147</td>\n",
              "      <td>0.022236</td>\n",
              "      <td>0.058014</td>\n",
              "    </tr>\n",
              "    <tr>\n",
              "      <th>37</th>\n",
              "      <td>0.036730</td>\n",
              "      <td>0.022236</td>\n",
              "      <td>0.010386</td>\n",
              "    </tr>\n",
              "    <tr>\n",
              "      <th>38</th>\n",
              "      <td>0.036730</td>\n",
              "      <td>0.033286</td>\n",
              "      <td>0.010386</td>\n",
              "    </tr>\n",
              "    <tr>\n",
              "      <th>39</th>\n",
              "      <td>0.053680</td>\n",
              "      <td>0.055026</td>\n",
              "      <td>0.010386</td>\n",
              "    </tr>\n",
              "    <tr>\n",
              "      <th>40</th>\n",
              "      <td>0.062048</td>\n",
              "      <td>0.011063</td>\n",
              "      <td>-0.014306</td>\n",
              "    </tr>\n",
              "    <tr>\n",
              "      <th>41</th>\n",
              "      <td>0.062048</td>\n",
              "      <td>0.055026</td>\n",
              "      <td>0.081004</td>\n",
              "    </tr>\n",
              "    <tr>\n",
              "      <th>42</th>\n",
              "      <td>0.070347</td>\n",
              "      <td>0.076303</td>\n",
              "      <td>0.034484</td>\n",
              "    </tr>\n",
              "    <tr>\n",
              "      <th>43</th>\n",
              "      <td>0.102870</td>\n",
              "      <td>0.055026</td>\n",
              "      <td>0.103477</td>\n",
              "    </tr>\n",
              "    <tr>\n",
              "      <th>44</th>\n",
              "      <td>0.118743</td>\n",
              "      <td>0.086774</td>\n",
              "      <td>0.103477</td>\n",
              "    </tr>\n",
              "    <tr>\n",
              "      <th>45</th>\n",
              "      <td>0.126587</td>\n",
              "      <td>0.076303</td>\n",
              "      <td>0.103477</td>\n",
              "    </tr>\n",
              "    <tr>\n",
              "      <th>46</th>\n",
              "      <td>0.149754</td>\n",
              "      <td>0.076303</td>\n",
              "      <td>0.125456</td>\n",
              "    </tr>\n",
              "    <tr>\n",
              "      <th>47</th>\n",
              "      <td>0.179831</td>\n",
              "      <td>0.185865</td>\n",
              "      <td>0.146962</td>\n",
              "    </tr>\n",
              "  </tbody>\n",
              "</table>\n",
              "</div>\n",
              "    <div class=\"colab-df-buttons\">\n",
              "\n",
              "  <div class=\"colab-df-container\">\n",
              "    <button class=\"colab-df-convert\" onclick=\"convertToInteractive('df-5823e4e7-faeb-4263-9358-14a024795d05')\"\n",
              "            title=\"Convert this dataframe to an interactive table.\"\n",
              "            style=\"display:none;\">\n",
              "\n",
              "  <svg xmlns=\"http://www.w3.org/2000/svg\" height=\"24px\" viewBox=\"0 -960 960 960\">\n",
              "    <path d=\"M120-120v-720h720v720H120Zm60-500h600v-160H180v160Zm220 220h160v-160H400v160Zm0 220h160v-160H400v160ZM180-400h160v-160H180v160Zm440 0h160v-160H620v160ZM180-180h160v-160H180v160Zm440 0h160v-160H620v160Z\"/>\n",
              "  </svg>\n",
              "    </button>\n",
              "\n",
              "  <style>\n",
              "    .colab-df-container {\n",
              "      display:flex;\n",
              "      gap: 12px;\n",
              "    }\n",
              "\n",
              "    .colab-df-convert {\n",
              "      background-color: #E8F0FE;\n",
              "      border: none;\n",
              "      border-radius: 50%;\n",
              "      cursor: pointer;\n",
              "      display: none;\n",
              "      fill: #1967D2;\n",
              "      height: 32px;\n",
              "      padding: 0 0 0 0;\n",
              "      width: 32px;\n",
              "    }\n",
              "\n",
              "    .colab-df-convert:hover {\n",
              "      background-color: #E2EBFA;\n",
              "      box-shadow: 0px 1px 2px rgba(60, 64, 67, 0.3), 0px 1px 3px 1px rgba(60, 64, 67, 0.15);\n",
              "      fill: #174EA6;\n",
              "    }\n",
              "\n",
              "    .colab-df-buttons div {\n",
              "      margin-bottom: 4px;\n",
              "    }\n",
              "\n",
              "    [theme=dark] .colab-df-convert {\n",
              "      background-color: #3B4455;\n",
              "      fill: #D2E3FC;\n",
              "    }\n",
              "\n",
              "    [theme=dark] .colab-df-convert:hover {\n",
              "      background-color: #434B5C;\n",
              "      box-shadow: 0px 1px 3px 1px rgba(0, 0, 0, 0.15);\n",
              "      filter: drop-shadow(0px 1px 2px rgba(0, 0, 0, 0.3));\n",
              "      fill: #FFFFFF;\n",
              "    }\n",
              "  </style>\n",
              "\n",
              "    <script>\n",
              "      const buttonEl =\n",
              "        document.querySelector('#df-5823e4e7-faeb-4263-9358-14a024795d05 button.colab-df-convert');\n",
              "      buttonEl.style.display =\n",
              "        google.colab.kernel.accessAllowed ? 'block' : 'none';\n",
              "\n",
              "      async function convertToInteractive(key) {\n",
              "        const element = document.querySelector('#df-5823e4e7-faeb-4263-9358-14a024795d05');\n",
              "        const dataTable =\n",
              "          await google.colab.kernel.invokeFunction('convertToInteractive',\n",
              "                                                    [key], {});\n",
              "        if (!dataTable) return;\n",
              "\n",
              "        const docLinkHtml = 'Like what you see? Visit the ' +\n",
              "          '<a target=\"_blank\" href=https://colab.research.google.com/notebooks/data_table.ipynb>data table notebook</a>'\n",
              "          + ' to learn more about interactive tables.';\n",
              "        element.innerHTML = '';\n",
              "        dataTable['output_type'] = 'display_data';\n",
              "        await google.colab.output.renderOutput(dataTable, element);\n",
              "        const docLink = document.createElement('div');\n",
              "        docLink.innerHTML = docLinkHtml;\n",
              "        element.appendChild(docLink);\n",
              "      }\n",
              "    </script>\n",
              "  </div>\n",
              "\n",
              "\n",
              "<div id=\"df-109130f1-35e5-4b8f-9bbe-9fd5e5381bf0\">\n",
              "  <button class=\"colab-df-quickchart\" onclick=\"quickchart('df-109130f1-35e5-4b8f-9bbe-9fd5e5381bf0')\"\n",
              "            title=\"Suggest charts\"\n",
              "            style=\"display:none;\">\n",
              "\n",
              "<svg xmlns=\"http://www.w3.org/2000/svg\" height=\"24px\"viewBox=\"0 0 24 24\"\n",
              "     width=\"24px\">\n",
              "    <g>\n",
              "        <path d=\"M19 3H5c-1.1 0-2 .9-2 2v14c0 1.1.9 2 2 2h14c1.1 0 2-.9 2-2V5c0-1.1-.9-2-2-2zM9 17H7v-7h2v7zm4 0h-2V7h2v10zm4 0h-2v-4h2v4z\"/>\n",
              "    </g>\n",
              "</svg>\n",
              "  </button>\n",
              "\n",
              "<style>\n",
              "  .colab-df-quickchart {\n",
              "      --bg-color: #E8F0FE;\n",
              "      --fill-color: #1967D2;\n",
              "      --hover-bg-color: #E2EBFA;\n",
              "      --hover-fill-color: #174EA6;\n",
              "      --disabled-fill-color: #AAA;\n",
              "      --disabled-bg-color: #DDD;\n",
              "  }\n",
              "\n",
              "  [theme=dark] .colab-df-quickchart {\n",
              "      --bg-color: #3B4455;\n",
              "      --fill-color: #D2E3FC;\n",
              "      --hover-bg-color: #434B5C;\n",
              "      --hover-fill-color: #FFFFFF;\n",
              "      --disabled-bg-color: #3B4455;\n",
              "      --disabled-fill-color: #666;\n",
              "  }\n",
              "\n",
              "  .colab-df-quickchart {\n",
              "    background-color: var(--bg-color);\n",
              "    border: none;\n",
              "    border-radius: 50%;\n",
              "    cursor: pointer;\n",
              "    display: none;\n",
              "    fill: var(--fill-color);\n",
              "    height: 32px;\n",
              "    padding: 0;\n",
              "    width: 32px;\n",
              "  }\n",
              "\n",
              "  .colab-df-quickchart:hover {\n",
              "    background-color: var(--hover-bg-color);\n",
              "    box-shadow: 0 1px 2px rgba(60, 64, 67, 0.3), 0 1px 3px 1px rgba(60, 64, 67, 0.15);\n",
              "    fill: var(--button-hover-fill-color);\n",
              "  }\n",
              "\n",
              "  .colab-df-quickchart-complete:disabled,\n",
              "  .colab-df-quickchart-complete:disabled:hover {\n",
              "    background-color: var(--disabled-bg-color);\n",
              "    fill: var(--disabled-fill-color);\n",
              "    box-shadow: none;\n",
              "  }\n",
              "\n",
              "  .colab-df-spinner {\n",
              "    border: 2px solid var(--fill-color);\n",
              "    border-color: transparent;\n",
              "    border-bottom-color: var(--fill-color);\n",
              "    animation:\n",
              "      spin 1s steps(1) infinite;\n",
              "  }\n",
              "\n",
              "  @keyframes spin {\n",
              "    0% {\n",
              "      border-color: transparent;\n",
              "      border-bottom-color: var(--fill-color);\n",
              "      border-left-color: var(--fill-color);\n",
              "    }\n",
              "    20% {\n",
              "      border-color: transparent;\n",
              "      border-left-color: var(--fill-color);\n",
              "      border-top-color: var(--fill-color);\n",
              "    }\n",
              "    30% {\n",
              "      border-color: transparent;\n",
              "      border-left-color: var(--fill-color);\n",
              "      border-top-color: var(--fill-color);\n",
              "      border-right-color: var(--fill-color);\n",
              "    }\n",
              "    40% {\n",
              "      border-color: transparent;\n",
              "      border-right-color: var(--fill-color);\n",
              "      border-top-color: var(--fill-color);\n",
              "    }\n",
              "    60% {\n",
              "      border-color: transparent;\n",
              "      border-right-color: var(--fill-color);\n",
              "    }\n",
              "    80% {\n",
              "      border-color: transparent;\n",
              "      border-right-color: var(--fill-color);\n",
              "      border-bottom-color: var(--fill-color);\n",
              "    }\n",
              "    90% {\n",
              "      border-color: transparent;\n",
              "      border-bottom-color: var(--fill-color);\n",
              "    }\n",
              "  }\n",
              "</style>\n",
              "\n",
              "  <script>\n",
              "    async function quickchart(key) {\n",
              "      const quickchartButtonEl =\n",
              "        document.querySelector('#' + key + ' button');\n",
              "      quickchartButtonEl.disabled = true;  // To prevent multiple clicks.\n",
              "      quickchartButtonEl.classList.add('colab-df-spinner');\n",
              "      try {\n",
              "        const charts = await google.colab.kernel.invokeFunction(\n",
              "            'suggestCharts', [key], {});\n",
              "      } catch (error) {\n",
              "        console.error('Error during call to suggestCharts:', error);\n",
              "      }\n",
              "      quickchartButtonEl.classList.remove('colab-df-spinner');\n",
              "      quickchartButtonEl.classList.add('colab-df-quickchart-complete');\n",
              "    }\n",
              "    (() => {\n",
              "      let quickchartButtonEl =\n",
              "        document.querySelector('#df-109130f1-35e5-4b8f-9bbe-9fd5e5381bf0 button');\n",
              "      quickchartButtonEl.style.display =\n",
              "        google.colab.kernel.accessAllowed ? 'block' : 'none';\n",
              "    })();\n",
              "  </script>\n",
              "</div>\n",
              "\n",
              "  <div id=\"id_ecf681b5-6ec0-4b09-9e11-4ed0c7e912c1\">\n",
              "    <style>\n",
              "      .colab-df-generate {\n",
              "        background-color: #E8F0FE;\n",
              "        border: none;\n",
              "        border-radius: 50%;\n",
              "        cursor: pointer;\n",
              "        display: none;\n",
              "        fill: #1967D2;\n",
              "        height: 32px;\n",
              "        padding: 0 0 0 0;\n",
              "        width: 32px;\n",
              "      }\n",
              "\n",
              "      .colab-df-generate:hover {\n",
              "        background-color: #E2EBFA;\n",
              "        box-shadow: 0px 1px 2px rgba(60, 64, 67, 0.3), 0px 1px 3px 1px rgba(60, 64, 67, 0.15);\n",
              "        fill: #174EA6;\n",
              "      }\n",
              "\n",
              "      [theme=dark] .colab-df-generate {\n",
              "        background-color: #3B4455;\n",
              "        fill: #D2E3FC;\n",
              "      }\n",
              "\n",
              "      [theme=dark] .colab-df-generate:hover {\n",
              "        background-color: #434B5C;\n",
              "        box-shadow: 0px 1px 3px 1px rgba(0, 0, 0, 0.15);\n",
              "        filter: drop-shadow(0px 1px 2px rgba(0, 0, 0, 0.3));\n",
              "        fill: #FFFFFF;\n",
              "      }\n",
              "    </style>\n",
              "    <button class=\"colab-df-generate\" onclick=\"generateWithVariable('MaleTortoiseShells_mean')\"\n",
              "            title=\"Generate code using this dataframe.\"\n",
              "            style=\"display:none;\">\n",
              "\n",
              "  <svg xmlns=\"http://www.w3.org/2000/svg\" height=\"24px\"viewBox=\"0 0 24 24\"\n",
              "       width=\"24px\">\n",
              "    <path d=\"M7,19H8.4L18.45,9,17,7.55,7,17.6ZM5,21V16.75L18.45,3.32a2,2,0,0,1,2.83,0l1.4,1.43a1.91,1.91,0,0,1,.58,1.4,1.91,1.91,0,0,1-.58,1.4L9.25,21ZM18.45,9,17,7.55Zm-12,3A5.31,5.31,0,0,0,4.9,8.1,5.31,5.31,0,0,0,1,6.5,5.31,5.31,0,0,0,4.9,4.9,5.31,5.31,0,0,0,6.5,1,5.31,5.31,0,0,0,8.1,4.9,5.31,5.31,0,0,0,12,6.5,5.46,5.46,0,0,0,6.5,12Z\"/>\n",
              "  </svg>\n",
              "    </button>\n",
              "    <script>\n",
              "      (() => {\n",
              "      const buttonEl =\n",
              "        document.querySelector('#id_ecf681b5-6ec0-4b09-9e11-4ed0c7e912c1 button.colab-df-generate');\n",
              "      buttonEl.style.display =\n",
              "        google.colab.kernel.accessAllowed ? 'block' : 'none';\n",
              "\n",
              "      buttonEl.onclick = () => {\n",
              "        google.colab.notebook.generateWithVariable('MaleTortoiseShells_mean');\n",
              "      }\n",
              "      })();\n",
              "    </script>\n",
              "  </div>\n",
              "\n",
              "    </div>\n",
              "  </div>\n"
            ],
            "application/vnd.google.colaboratory.intrinsic+json": {
              "type": "dataframe",
              "variable_name": "MaleTortoiseShells_mean",
              "summary": "{\n  \"name\": \"MaleTortoiseShells_mean\",\n  \"rows\": 24,\n  \"fields\": [\n    {\n      \"column\": \"NatLog_length\",\n      \"properties\": {\n        \"dtype\": \"number\",\n        \"std\": 0.10522359029084166,\n        \"min\": -0.19284415374915564,\n        \"max\": 0.1798311315360177,\n        \"samples\": [\n          -0.19284415374915564,\n          0.03673028789534438,\n          -0.05261481244050614\n        ],\n        \"num_unique_values\": 22,\n        \"semantic_type\": \"\",\n        \"description\": \"\"\n      }\n    },\n    {\n      \"column\": \"NatLog_width\",\n      \"properties\": {\n        \"dtype\": \"number\",\n        \"std\": 0.08010446642718966,\n        \"min\": -0.17350867198940634,\n        \"max\": 0.1858653289184904,\n        \"samples\": [\n          -0.17350867198940634,\n          -0.12086493850398483,\n          -0.0831246105211374\n        ],\n        \"num_unique_values\": 17,\n        \"semantic_type\": \"\",\n        \"description\": \"\"\n      }\n    },\n    {\n      \"column\": \"NatLog_height\",\n      \"properties\": {\n        \"dtype\": \"number\",\n        \"std\": 0.08229677088983184,\n        \"min\": -0.14783773259737654,\n        \"max\": 0.14696180762326838,\n        \"samples\": [\n          0.12545560240230502,\n          0.10347669568352957,\n          -0.0922678814425657\n        ],\n        \"num_unique_values\": 12,\n        \"semantic_type\": \"\",\n        \"description\": \"\"\n      }\n    }\n  ]\n}"
            }
          },
          "metadata": {},
          "execution_count": 69
        }
      ]
    },
    {
      "cell_type": "code",
      "source": [
        "# Matriz de Varianzas-Covarianzas\n",
        "VarCov_MaleTortoise= np.cov(MaleTortoiseShells_mean, rowvar = False)\n",
        "\n",
        "print(VarCov_MaleTortoise)"
      ],
      "metadata": {
        "colab": {
          "base_uri": "https://localhost:8080/"
        },
        "id": "ks-HVABNh_PJ",
        "outputId": "e2699fc0-8f92-41cd-dc1c-fe7ed12ff07e"
      },
      "execution_count": null,
      "outputs": [
        {
          "output_type": "stream",
          "name": "stdout",
          "text": [
            "[[0.011072   0.00801914 0.00815965]\n",
            " [0.00801914 0.00641673 0.00600527]\n",
            " [0.00815965 0.00600527 0.00677276]]\n"
          ]
        }
      ]
    },
    {
      "cell_type": "code",
      "source": [
        "# Para demostrar que la matriz generada, se procederá a calcular eigenvalores y eigenvectores, para esto, se empleará la función 'eigh' de la sub-biblioteca\n",
        "# 'linalgebra' para realizar el cálculo de ambos parámetros\n",
        "eigen_val_MaleT, eigen_vec_MaleT = np.linalg.eigh(VarCov_MaleTortoise)\n",
        "print('Los eigenvalores correspondientes a la matriz de Varianzas-Covarianzas de los caparazones de las tortugas macho son:')\n",
        "print(eigen_val_MaleT)\n",
        "print('Los eigenvenctores asociados al Varianzas-Covarianzas de los caparazones de las tortugas macho son:')\n",
        "print(eigen_vec_MaleT)"
      ],
      "metadata": {
        "colab": {
          "base_uri": "https://localhost:8080/"
        },
        "id": "RdOuzZ6YiT6F",
        "outputId": "d9151004-c2a8-477a-906b-dc4c4bcc8f45"
      },
      "execution_count": null,
      "outputs": [
        {
          "output_type": "stream",
          "name": "stdout",
          "text": [
            "Los eigenvalores correspondientes a la matriz de Varianzas-Covarianzas de los caparazones de las tortugas macho son:\n",
            "[0.00035984 0.0005983  0.02330335]\n",
            "Los eigenvenctores asociados al Varianzas-Covarianzas de los caparazones de las tortugas macho son:\n",
            "[[-0.71269743 -0.15947908 -0.68310233]\n",
            " [ 0.62195341 -0.59401177 -0.51021953]\n",
            " [ 0.32440148  0.78848997 -0.52253923]]\n"
          ]
        }
      ]
    },
    {
      "cell_type": "code",
      "source": [
        "# Reescribir los eigenvalores de manera decreciente y que satisfaga el Teorema, por lo que se reescribirán los valores de manera decreciente para que se\n",
        "# encuentren dentro de la cámara de Weyl.\n",
        "eigen_val_MaleT[::-1]"
      ],
      "metadata": {
        "colab": {
          "base_uri": "https://localhost:8080/"
        },
        "id": "UzNyN4W-ioMo",
        "outputId": "5bf72d33-e72a-4b4a-cf3d-56d5bbc5ba55"
      },
      "execution_count": null,
      "outputs": [
        {
          "output_type": "execute_result",
          "data": {
            "text/plain": [
              "array([0.02330335, 0.0005983 , 0.00035984])"
            ]
          },
          "metadata": {},
          "execution_count": 72
        }
      ]
    },
    {
      "cell_type": "code",
      "source": [
        "eigen_vec_MaleT = eigen_vec_MaleT[:,np.argsort(eigen_val_MaleT)[::-1]]\n",
        "\n",
        "print(eigen_vec_MaleT)"
      ],
      "metadata": {
        "colab": {
          "base_uri": "https://localhost:8080/"
        },
        "id": "tiS6ZASMiyW5",
        "outputId": "ffdd8811-ed87-400b-fb07-3e4e6d2d2b77"
      },
      "execution_count": null,
      "outputs": [
        {
          "output_type": "stream",
          "name": "stdout",
          "text": [
            "[[-0.68310233 -0.15947908 -0.71269743]\n",
            " [-0.51021953 -0.59401177  0.62195341]\n",
            " [-0.52253923  0.78848997  0.32440148]]\n"
          ]
        }
      ]
    },
    {
      "cell_type": "code",
      "source": [
        "n_componentsMT = 2\n",
        "# Se elegirán ciertos elementos de las entradas pertenecientes a la matriz de eigenvectores generada previamente. Note que la matriz previa ya está ordenada de\n",
        "# acuerdo con los eigenvectores ordenados de manera ascendente dentro de la cámara de Weyl.\n",
        "eigenvectors_MaleT = eigen_vec_MaleT[:,0:n_componentsMT]\n",
        "# Imprimir en consola la nueva matriz de eigenvectores correspondiente al PCA.\n",
        "print(eigenvectors_MaleT)"
      ],
      "metadata": {
        "colab": {
          "base_uri": "https://localhost:8080/"
        },
        "id": "hZGKgEN6jEhB",
        "outputId": "abc38578-87a7-421e-c537-0b6eed2ecc44"
      },
      "execution_count": null,
      "outputs": [
        {
          "output_type": "stream",
          "name": "stdout",
          "text": [
            "[[-0.68310233 -0.15947908]\n",
            " [-0.51021953 -0.59401177]\n",
            " [-0.52253923  0.78848997]]\n"
          ]
        }
      ]
    },
    {
      "cell_type": "code",
      "source": [
        "#  Descomposición espectral\n",
        "MaleTortoise_red = np.dot(eigenvectors_FemT.transpose(),FemTortoiseShells_mean.transpose()).transpose()\n",
        "\n",
        "MaleTortoise_red"
      ],
      "metadata": {
        "colab": {
          "base_uri": "https://localhost:8080/"
        },
        "id": "oWDIi66TjN6-",
        "outputId": "aef3fa63-ce7d-4d3e-c1cf-a657994f96c9"
      },
      "execution_count": null,
      "outputs": [
        {
          "output_type": "execute_result",
          "data": {
            "text/plain": [
              "array([[ 4.91813978e-01,  1.75183340e-03],\n",
              "       [ 4.43244627e-01, -3.60136778e-02],\n",
              "       [ 3.70283584e-01,  3.30169796e-02],\n",
              "       [ 3.88331940e-01, -1.41563933e-02],\n",
              "       [ 2.95304326e-01,  3.43223674e-02],\n",
              "       [ 1.19952122e-01,  6.15070423e-02],\n",
              "       [ 1.55714836e-01, -1.74880519e-02],\n",
              "       [ 2.36329677e-02,  1.10436646e-02],\n",
              "       [ 9.18200222e-03, -1.36380361e-03],\n",
              "       [ 9.18200222e-03, -1.36380361e-03],\n",
              "       [ 5.14025281e-02, -4.42817057e-02],\n",
              "       [ 1.99129098e-02, -4.30189934e-02],\n",
              "       [ 1.01086282e-02,  1.77540156e-03],\n",
              "       [ 6.68576586e-04, -5.75453061e-03],\n",
              "       [-6.48611428e-02, -9.70881652e-03],\n",
              "       [-1.49190309e-01,  1.69083801e-02],\n",
              "       [-1.31122893e-01, -1.35026182e-02],\n",
              "       [-1.58692533e-01, -1.13724444e-02],\n",
              "       [-2.74136396e-01,  4.54963892e-02],\n",
              "       [-2.52467313e-01, -8.92911766e-05],\n",
              "       [-2.76221860e-01,  2.41712221e-02],\n",
              "       [-3.02457169e-01,  2.31955988e-02],\n",
              "       [-3.18250434e-01, -3.13298313e-02],\n",
              "       [-4.61334979e-01, -2.37449177e-02]])"
            ]
          },
          "metadata": {},
          "execution_count": 75
        }
      ]
    },
    {
      "cell_type": "code",
      "source": [
        "FT_red = pd.DataFrame(FemTortoise_red , columns = ['PC1_FT','PC2_FT'])\n",
        "print(FemTortoise_red)"
      ],
      "metadata": {
        "colab": {
          "base_uri": "https://localhost:8080/"
        },
        "id": "BFKsi6uwlHHK",
        "outputId": "fe0d9ca7-c113-4638-a843-a28dd9d18d62"
      },
      "execution_count": null,
      "outputs": [
        {
          "output_type": "stream",
          "name": "stdout",
          "text": [
            "[[ 4.91813978e-01  1.75183340e-03]\n",
            " [ 4.43244627e-01 -3.60136778e-02]\n",
            " [ 3.70283584e-01  3.30169796e-02]\n",
            " [ 3.88331940e-01 -1.41563933e-02]\n",
            " [ 2.95304326e-01  3.43223674e-02]\n",
            " [ 1.19952122e-01  6.15070423e-02]\n",
            " [ 1.55714836e-01 -1.74880519e-02]\n",
            " [ 2.36329677e-02  1.10436646e-02]\n",
            " [ 9.18200222e-03 -1.36380361e-03]\n",
            " [ 9.18200222e-03 -1.36380361e-03]\n",
            " [ 5.14025281e-02 -4.42817057e-02]\n",
            " [ 1.99129098e-02 -4.30189934e-02]\n",
            " [ 1.01086282e-02  1.77540156e-03]\n",
            " [ 6.68576586e-04 -5.75453061e-03]\n",
            " [-6.48611428e-02 -9.70881652e-03]\n",
            " [-1.49190309e-01  1.69083801e-02]\n",
            " [-1.31122893e-01 -1.35026182e-02]\n",
            " [-1.58692533e-01 -1.13724444e-02]\n",
            " [-2.74136396e-01  4.54963892e-02]\n",
            " [-2.52467313e-01 -8.92911766e-05]\n",
            " [-2.76221860e-01  2.41712221e-02]\n",
            " [-3.02457169e-01  2.31955988e-02]\n",
            " [-3.18250434e-01 -3.13298313e-02]\n",
            " [-4.61334979e-01 -2.37449177e-02]]\n"
          ]
        }
      ]
    },
    {
      "cell_type": "markdown",
      "source": [
        "# **2-. LDA & CDA**"
      ],
      "metadata": {
        "id": "rCqsA1wAq9Cj"
      }
    }
  ],
  "metadata": {
    "colab": {
      "provenance": []
    },
    "kernelspec": {
      "display_name": "Python 3",
      "name": "python3"
    },
    "language_info": {
      "name": "python"
    }
  },
  "nbformat": 4,
  "nbformat_minor": 0
}